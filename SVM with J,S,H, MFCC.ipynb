{
 "cells": [
  {
   "cell_type": "code",
   "execution_count": 2,
   "metadata": {
    "tags": []
   },
   "outputs": [
    {
     "output_type": "execute_result",
     "data": {
      "text/plain": [
       "      Type    Jitter   Shimmer        HNR      MFCC-1      MFCC-2     MFCC-3  \\\n",
       "0  healthy  1.164692  0.042058  24.772758  517.867690  157.285453 -67.337663   \n",
       "1  healthy  0.155393  0.011061  26.922863  507.653534  146.597634 -51.805445   \n",
       "2  healthy  0.224576  0.027684  27.151732  519.698504  138.201660 -75.513161   \n",
       "3  healthy  0.498826  0.038859  20.022510  512.159853  128.304605 -53.085907   \n",
       "4  healthy  0.532008  0.023150  22.705093  520.859534  137.339353 -66.339532   \n",
       "\n",
       "      MFCC-4     MFCC-5     MFCC-6     MFCC-7     MFCC-8    MFCC-9    MFCC-10  \\\n",
       "0 -75.557579 -47.383544 -35.418313  28.738609  29.240641 -3.077040  -8.491168   \n",
       "1 -67.727368 -51.745891 -42.226560  39.406267  17.952366 -4.490649  -5.343768   \n",
       "2 -55.364543 -29.771235 -46.565257  28.243726  11.190055 -3.965739  11.588003   \n",
       "3 -59.688275 -45.695365 -33.831168  15.513842  17.563326  3.432073   8.504941   \n",
       "4 -72.067937 -37.852838 -29.106708  16.681151  18.563943  7.352762   7.298131   \n",
       "\n",
       "     MFCC-11    MFCC-12    MFCC-13  \n",
       "0 -37.546175  16.018237 -21.418999  \n",
       "1 -46.048275  34.265482 -21.777943  \n",
       "2 -44.706164  22.710550 -18.795814  \n",
       "3 -49.367170  21.904375 -13.309917  \n",
       "4 -52.548622  26.928928 -22.352170  "
      ],
      "text/html": "<div>\n<style scoped>\n    .dataframe tbody tr th:only-of-type {\n        vertical-align: middle;\n    }\n\n    .dataframe tbody tr th {\n        vertical-align: top;\n    }\n\n    .dataframe thead th {\n        text-align: right;\n    }\n</style>\n<table border=\"1\" class=\"dataframe\">\n  <thead>\n    <tr style=\"text-align: right;\">\n      <th></th>\n      <th>Type</th>\n      <th>Jitter</th>\n      <th>Shimmer</th>\n      <th>HNR</th>\n      <th>MFCC-1</th>\n      <th>MFCC-2</th>\n      <th>MFCC-3</th>\n      <th>MFCC-4</th>\n      <th>MFCC-5</th>\n      <th>MFCC-6</th>\n      <th>MFCC-7</th>\n      <th>MFCC-8</th>\n      <th>MFCC-9</th>\n      <th>MFCC-10</th>\n      <th>MFCC-11</th>\n      <th>MFCC-12</th>\n      <th>MFCC-13</th>\n    </tr>\n  </thead>\n  <tbody>\n    <tr>\n      <th>0</th>\n      <td>healthy</td>\n      <td>1.164692</td>\n      <td>0.042058</td>\n      <td>24.772758</td>\n      <td>517.867690</td>\n      <td>157.285453</td>\n      <td>-67.337663</td>\n      <td>-75.557579</td>\n      <td>-47.383544</td>\n      <td>-35.418313</td>\n      <td>28.738609</td>\n      <td>29.240641</td>\n      <td>-3.077040</td>\n      <td>-8.491168</td>\n      <td>-37.546175</td>\n      <td>16.018237</td>\n      <td>-21.418999</td>\n    </tr>\n    <tr>\n      <th>1</th>\n      <td>healthy</td>\n      <td>0.155393</td>\n      <td>0.011061</td>\n      <td>26.922863</td>\n      <td>507.653534</td>\n      <td>146.597634</td>\n      <td>-51.805445</td>\n      <td>-67.727368</td>\n      <td>-51.745891</td>\n      <td>-42.226560</td>\n      <td>39.406267</td>\n      <td>17.952366</td>\n      <td>-4.490649</td>\n      <td>-5.343768</td>\n      <td>-46.048275</td>\n      <td>34.265482</td>\n      <td>-21.777943</td>\n    </tr>\n    <tr>\n      <th>2</th>\n      <td>healthy</td>\n      <td>0.224576</td>\n      <td>0.027684</td>\n      <td>27.151732</td>\n      <td>519.698504</td>\n      <td>138.201660</td>\n      <td>-75.513161</td>\n      <td>-55.364543</td>\n      <td>-29.771235</td>\n      <td>-46.565257</td>\n      <td>28.243726</td>\n      <td>11.190055</td>\n      <td>-3.965739</td>\n      <td>11.588003</td>\n      <td>-44.706164</td>\n      <td>22.710550</td>\n      <td>-18.795814</td>\n    </tr>\n    <tr>\n      <th>3</th>\n      <td>healthy</td>\n      <td>0.498826</td>\n      <td>0.038859</td>\n      <td>20.022510</td>\n      <td>512.159853</td>\n      <td>128.304605</td>\n      <td>-53.085907</td>\n      <td>-59.688275</td>\n      <td>-45.695365</td>\n      <td>-33.831168</td>\n      <td>15.513842</td>\n      <td>17.563326</td>\n      <td>3.432073</td>\n      <td>8.504941</td>\n      <td>-49.367170</td>\n      <td>21.904375</td>\n      <td>-13.309917</td>\n    </tr>\n    <tr>\n      <th>4</th>\n      <td>healthy</td>\n      <td>0.532008</td>\n      <td>0.023150</td>\n      <td>22.705093</td>\n      <td>520.859534</td>\n      <td>137.339353</td>\n      <td>-66.339532</td>\n      <td>-72.067937</td>\n      <td>-37.852838</td>\n      <td>-29.106708</td>\n      <td>16.681151</td>\n      <td>18.563943</td>\n      <td>7.352762</td>\n      <td>7.298131</td>\n      <td>-52.548622</td>\n      <td>26.928928</td>\n      <td>-22.352170</td>\n    </tr>\n  </tbody>\n</table>\n</div>"
     },
     "metadata": {},
     "execution_count": 2
    }
   ],
   "source": [
    "import pandas \n",
    "\n",
    "train_df = pandas.read_csv('./data/processed/train_SVD_j_s_hnr_mfcc.csv' ) \n",
    "test_df = pandas.read_csv('./data/processed/test_SVD_j_s_hnr_mfcc.csv' ) \n",
    "\n",
    "train_df = train_df.drop([\"Name\", \"Tone\", \"Syllab\"], axis=1)\n",
    "test_df = test_df.drop([\"Name\", \"Tone\", \"Syllab\"], axis=1)\n",
    "\n",
    "train_df.head()"
   ]
  },
  {
   "cell_type": "code",
   "execution_count": 3,
   "metadata": {},
   "outputs": [
    {
     "output_type": "execute_result",
     "data": {
      "text/plain": [
       "      Type    Jitter   Shimmer        HNR      MFCC-1      MFCC-2     MFCC-3  \\\n",
       "0  healthy  0.238779  0.019045  19.410768  401.683204 -106.091207 -16.204958   \n",
       "1  healthy  0.349111  0.023441  28.655604  405.945214 -107.319951  -6.467390   \n",
       "2  healthy  0.209544  0.007423  26.996682  412.992202 -105.668520   4.367001   \n",
       "3  healthy  1.069854  0.041115  25.108378  414.991160  -97.516727  14.790359   \n",
       "4  healthy  0.413457  0.031538  24.573556  406.918197  -86.251020  10.266493   \n",
       "\n",
       "       MFCC-4     MFCC-5      MFCC-6     MFCC-7     MFCC-8     MFCC-9  \\\n",
       "0 -177.451287 -80.432412 -167.325435 -70.950945  60.705756 -18.078235   \n",
       "1 -168.654549 -83.775023 -164.000390 -57.471754  48.452583  -6.290534   \n",
       "2 -173.748357 -77.660894 -151.323178 -68.017679  71.309964 -10.580220   \n",
       "3 -171.141081 -67.202782 -142.208466 -72.015559  82.295822  -4.728251   \n",
       "4 -182.298364 -60.985385 -148.072712 -66.949520  75.605251  -3.342546   \n",
       "\n",
       "     MFCC-10    MFCC-11    MFCC-12    MFCC-13  \n",
       "0 -92.995773 -13.111788  -4.964332 -29.427566  \n",
       "1 -82.880371 -21.278743  10.481437 -38.131368  \n",
       "2 -88.565720  -7.091164   3.198551 -33.208541  \n",
       "3 -89.755092   6.052225  -1.277937 -27.437695  \n",
       "4 -89.780277  -3.320846   8.403894 -32.433375  "
      ],
      "text/html": "<div>\n<style scoped>\n    .dataframe tbody tr th:only-of-type {\n        vertical-align: middle;\n    }\n\n    .dataframe tbody tr th {\n        vertical-align: top;\n    }\n\n    .dataframe thead th {\n        text-align: right;\n    }\n</style>\n<table border=\"1\" class=\"dataframe\">\n  <thead>\n    <tr style=\"text-align: right;\">\n      <th></th>\n      <th>Type</th>\n      <th>Jitter</th>\n      <th>Shimmer</th>\n      <th>HNR</th>\n      <th>MFCC-1</th>\n      <th>MFCC-2</th>\n      <th>MFCC-3</th>\n      <th>MFCC-4</th>\n      <th>MFCC-5</th>\n      <th>MFCC-6</th>\n      <th>MFCC-7</th>\n      <th>MFCC-8</th>\n      <th>MFCC-9</th>\n      <th>MFCC-10</th>\n      <th>MFCC-11</th>\n      <th>MFCC-12</th>\n      <th>MFCC-13</th>\n    </tr>\n  </thead>\n  <tbody>\n    <tr>\n      <th>0</th>\n      <td>healthy</td>\n      <td>0.238779</td>\n      <td>0.019045</td>\n      <td>19.410768</td>\n      <td>401.683204</td>\n      <td>-106.091207</td>\n      <td>-16.204958</td>\n      <td>-177.451287</td>\n      <td>-80.432412</td>\n      <td>-167.325435</td>\n      <td>-70.950945</td>\n      <td>60.705756</td>\n      <td>-18.078235</td>\n      <td>-92.995773</td>\n      <td>-13.111788</td>\n      <td>-4.964332</td>\n      <td>-29.427566</td>\n    </tr>\n    <tr>\n      <th>1</th>\n      <td>healthy</td>\n      <td>0.349111</td>\n      <td>0.023441</td>\n      <td>28.655604</td>\n      <td>405.945214</td>\n      <td>-107.319951</td>\n      <td>-6.467390</td>\n      <td>-168.654549</td>\n      <td>-83.775023</td>\n      <td>-164.000390</td>\n      <td>-57.471754</td>\n      <td>48.452583</td>\n      <td>-6.290534</td>\n      <td>-82.880371</td>\n      <td>-21.278743</td>\n      <td>10.481437</td>\n      <td>-38.131368</td>\n    </tr>\n    <tr>\n      <th>2</th>\n      <td>healthy</td>\n      <td>0.209544</td>\n      <td>0.007423</td>\n      <td>26.996682</td>\n      <td>412.992202</td>\n      <td>-105.668520</td>\n      <td>4.367001</td>\n      <td>-173.748357</td>\n      <td>-77.660894</td>\n      <td>-151.323178</td>\n      <td>-68.017679</td>\n      <td>71.309964</td>\n      <td>-10.580220</td>\n      <td>-88.565720</td>\n      <td>-7.091164</td>\n      <td>3.198551</td>\n      <td>-33.208541</td>\n    </tr>\n    <tr>\n      <th>3</th>\n      <td>healthy</td>\n      <td>1.069854</td>\n      <td>0.041115</td>\n      <td>25.108378</td>\n      <td>414.991160</td>\n      <td>-97.516727</td>\n      <td>14.790359</td>\n      <td>-171.141081</td>\n      <td>-67.202782</td>\n      <td>-142.208466</td>\n      <td>-72.015559</td>\n      <td>82.295822</td>\n      <td>-4.728251</td>\n      <td>-89.755092</td>\n      <td>6.052225</td>\n      <td>-1.277937</td>\n      <td>-27.437695</td>\n    </tr>\n    <tr>\n      <th>4</th>\n      <td>healthy</td>\n      <td>0.413457</td>\n      <td>0.031538</td>\n      <td>24.573556</td>\n      <td>406.918197</td>\n      <td>-86.251020</td>\n      <td>10.266493</td>\n      <td>-182.298364</td>\n      <td>-60.985385</td>\n      <td>-148.072712</td>\n      <td>-66.949520</td>\n      <td>75.605251</td>\n      <td>-3.342546</td>\n      <td>-89.780277</td>\n      <td>-3.320846</td>\n      <td>8.403894</td>\n      <td>-32.433375</td>\n    </tr>\n  </tbody>\n</table>\n</div>"
     },
     "metadata": {},
     "execution_count": 3
    }
   ],
   "source": [
    "test_df.head()"
   ]
  },
  {
   "cell_type": "code",
   "execution_count": 4,
   "metadata": {
    "tags": []
   },
   "outputs": [
    {
     "output_type": "stream",
     "name": "stdout",
     "text": [
      "['functional', 'healthy', 'hyperfunctional', 'organic', 'psychogenic']\n[1 1 1 ... 4 4 4]\n"
     ]
    }
   ],
   "source": [
    "from sklearn import preprocessing\n",
    "\n",
    "# Convert Pandas to be usable in Scikit\n",
    "\n",
    "# train\n",
    "\n",
    "# Create a label encoder object \n",
    "le = preprocessing.LabelEncoder()\n",
    "\n",
    "# Fit the encoder object (le) to a pandas field with categorical data\n",
    "le.fit(train_df['Type'])\n",
    "\n",
    "# Display labels\n",
    "target_names = list(le.classes_)\n",
    "print(target_names)\n",
    "\n",
    "# get x for train\n",
    "x_train = train_df.drop(columns=\"Type\")\n",
    "\n",
    "\n",
    "# Apply the label encoder object to a pandas column\n",
    "# Set \"Type\" as the label to classify to\n",
    "y_train = le.transform(train_df['Type']) \n",
    "print(y_train)"
   ]
  },
  {
   "cell_type": "code",
   "execution_count": 5,
   "metadata": {},
   "outputs": [
    {
     "output_type": "stream",
     "name": "stdout",
     "text": [
      "[1 1 1 1 1 1 1 1 1 1 1 1 1 1 1 1 1 1 0 0 0 0 0 0 0 0 0 0 0 0 0 0 0 0 0 0 2\n 2 2 2 2 2 2 2 2 2 2 2 2 2 2 2 2 2 3 3 3 3 3 3 3 3 3 3 3 3 3 3 3 3 3 3 4 4\n 4 4 4 4 4 4 4 4 4 4 4 4 4 4 4 4 4 4 4 4 4 4 4 4 4]\n"
     ]
    }
   ],
   "source": [
    "# test dataset\n",
    "\n",
    "# Convert Pandas to be usable in Scikit\n",
    "\n",
    "# x test\n",
    "x_test = test_df.drop(columns=\"Type\")\n",
    "x_test\n",
    "\n",
    "# y test\n",
    "le = preprocessing.LabelEncoder()\n",
    "le.fit(test_df['Type'])\n",
    "y_test = le.transform(test_df['Type']) \n",
    "print(y_test)\n",
    "\n"
   ]
  },
  {
   "cell_type": "code",
   "execution_count": 20,
   "metadata": {
    "tags": []
   },
   "outputs": [
    {
     "output_type": "stream",
     "name": "stdout",
     "text": [
      "Linear Accuracy: 0.32323232323232326\n"
     ]
    }
   ],
   "source": [
    "# Applying Support Vector Machine\n",
    "\n",
    "import sklearn\n",
    "from sklearn import datasets\n",
    "from sklearn import svm\n",
    "from sklearn import metrics\n",
    "\n",
    "\n",
    "clf = svm.SVC(kernel=\"linear\")\n",
    "clf.fit(x_train, y_train)\n",
    "y_pred = clf.predict(x_test)\n",
    "acc = metrics.accuracy_score(y_test, y_pred)\n",
    "print(\"Linear Accuracy:\", acc)"
   ]
  },
  {
   "cell_type": "code",
   "execution_count": 8,
   "metadata": {},
   "outputs": [
    {
     "output_type": "stream",
     "name": "stdout",
     "text": [
      "[[ 0  6 12  0  0]\n [ 0  0  0 18  0]\n [ 0  0 18  0  0]\n [ 0  4  0 14  0]\n [ 0 27  0  0  0]]\n              precision    recall  f1-score   support\n\n           0       0.00      0.00      0.00        18\n           1       0.00      0.00      0.00        18\n           2       0.60      1.00      0.75        18\n           3       0.44      0.78      0.56        18\n           4       0.00      0.00      0.00        27\n\n    accuracy                           0.32        99\n   macro avg       0.21      0.36      0.26        99\nweighted avg       0.19      0.32      0.24        99\n\n"
     ]
    }
   ],
   "source": [
    "from sklearn.metrics import classification_report, confusion_matrix\n",
    "print(confusion_matrix(y_test,y_pred))\n",
    "print(classification_report(y_test,y_pred))"
   ]
  }
 ],
 "metadata": {
  "kernelspec": {
   "display_name": "Python 3.8.1 64-bit ('3.8.1': pyenv)",
   "language": "python",
   "name": "python38164bit381pyenvc0e1d4fb139e4c8d8bbd1bcf9c4ee977"
  },
  "language_info": {
   "codemirror_mode": {
    "name": "ipython",
    "version": 3
   },
   "file_extension": ".py",
   "mimetype": "text/x-python",
   "name": "python",
   "nbconvert_exporter": "python",
   "pygments_lexer": "ipython3",
   "version": "3.8.1-final"
  }
 },
 "nbformat": 4,
 "nbformat_minor": 4
}