{
 "cells": [
  {
   "cell_type": "code",
   "execution_count": 6,
   "metadata": {},
   "outputs": [],
   "source": [
    "# this is the playground for fixing mfcc addition\n",
    "\n",
    "# initialize\n",
    "from tqdm import tqdm\n",
    "from time import sleep\n",
    "\n",
    "import glob\n",
    "import parselmouth\n",
    "import pandas as pd\n",
    "import numpy as np\n",
    "import matplotlib.pyplot as plt\n",
    "import seaborn as sns\n",
    "import os\n",
    "\n",
    "# needed for mfcc calculation\n",
    "import statistics\n",
    "import speechpy\n",
    "from scipy.io import wavfile"
   ]
  },
  {
   "cell_type": "code",
   "execution_count": 7,
   "metadata": {},
   "outputs": [],
   "source": [
    "# Process wav files to get Jitter, Shimmer, HNR, and MFCC\n",
    "\n",
    "def get_voice_data(_path):\n",
    "    # select .wav files only\n",
    "    wav_files = glob.glob(_path + \"/*.wav\")\n",
    "    _type = _path.split(\"/\")[-1] # identify type: my_data, healthy, functional etc...\n",
    "    \n",
    "    # list to hold voice data before turning it into a dataframe\n",
    "    data = []\n",
    "    \n",
    "    # for each audio file,\n",
    "    for wav_file in tqdm(wav_files): # tqdm shows the progress bar\n",
    "        sound = parselmouth.Sound(wav_file) # sound object from wav file\n",
    "        pitch = sound.to_pitch()\n",
    "        pulses = parselmouth.praat.call([sound, pitch], \"To PointProcess (cc)\")\n",
    "\n",
    "        # name analysis\n",
    "        name = os.path.basename(wav_file).split(\".\")[0]  \n",
    "\n",
    "        ## tone\n",
    "        tone = \"\"\n",
    "        if \"l\" in name:\n",
    "            tone = \"l\"\n",
    "        elif \"n\" in name:\n",
    "            tone = \"n\"\n",
    "        elif \"h\" in name:\n",
    "            tone = \"h\"\n",
    "\n",
    "        ## syllable\n",
    "        syllab = \"\"\n",
    "        if \"a\" in name:\n",
    "            syllab = \"a\"\n",
    "        elif \"i\" in name:\n",
    "            syllab = \"i\"\n",
    "        elif \"u\" in name:\n",
    "            syllab = \"u\"\n",
    "\n",
    "        # jitter\n",
    "        jitter = parselmouth.praat.call(pulses, \"Get jitter (local)\", 0.0, 0.0, 0.0001, 0.02, 1.3) * 100\n",
    "\n",
    "        # shimmer\n",
    "        shimmer = parselmouth.praat.call([sound, pulses], \"Get shimmer (local)\", 0, 0, 0.0001, 0.02, 1.3, 1.6)\n",
    "\n",
    "        # HNR\n",
    "        harmonicity = parselmouth.praat.call(sound, \"To Harmonicity (cc)\", 0.01, 75, 0.1, 1.0)\n",
    "        hnr = parselmouth.praat.call(harmonicity, \"Get mean\", 0, 0)\n",
    "\n",
    "        # append a bit before adding mfcc\n",
    "        data_row = [name, _type, tone, syllab, jitter, shimmer, hnr]\n",
    "\n",
    "        # MFCC, d1, d2\n",
    "        samplerate, wav_data = wavfile.read(wav_file)\n",
    "        mfccs = speechpy.feature.mfcc(wav_data, samplerate, num_cepstral = 12)\n",
    "        mfccs = mfccs.T # transform to handle wav_data easily \n",
    "        derivatives = speechpy.feature.extract_derivative_feature(mfccs) # this now looks like: [c#][frame#][[mfcc, d1, d2]]\n",
    "\n",
    "        mfcc_list = []\n",
    "        mfcc_d1 = []\n",
    "        mfcc_d2 = []\n",
    "\n",
    "        # for each coefficient,\n",
    "        for i in range(0, len(derivatives)):\n",
    "            mfcc_vars = derivatives[i].T # mfcc, d1, d2\n",
    "\n",
    "            # take the average across the entire time frame\n",
    "            mfcc = statistics.mean(mfcc_vars[0])\n",
    "            d1 = statistics.mean(mfcc_vars[1])\n",
    "            d2 = statistics.mean(mfcc_vars[2])\n",
    "\n",
    "            # append to the list\n",
    "            mfcc_list.append(mfcc)\n",
    "            mfcc_d1.append(d1)\n",
    "            mfcc_d2.append(d2)\n",
    "\n",
    "        data_row = data_row + mfcc_list + mfcc_d1 + mfcc_d2\n",
    "\n",
    "        # append to data\n",
    "        data.append(data_row)\n",
    "        \n",
    "    return data"
   ]
  },
  {
   "cell_type": "code",
   "execution_count": 8,
   "metadata": {},
   "outputs": [],
   "source": [
    "def analyze_svd(dataset_path):\n",
    "    # set up dataframe info\n",
    "    columns = [\"Name\", \"Type\", \"Tone\", \"Syllab\", \"Jitter\", \"Shimmer\", \"HNR\"]\n",
    "    for i in range(0,12):\n",
    "        columns.append(\"MFCC-\"+str(i))\n",
    "    for i in range(0,12):\n",
    "        columns.append(\"MFCC-\"+str(i)+\"_d1\")\n",
    "    for i in range(0,12):\n",
    "        columns.append(\"MFCC-\"+str(i)+\"_d2\")\n",
    "    \n",
    "    healthy = get_voice_data(dataset_path + \"/healthy\")\n",
    "    functional = get_voice_data(dataset_path + \"/pathological/functional\")\n",
    "    hyperfunctional = get_voice_data(dataset_path + \"/pathological/hyperfunctional\")\n",
    "    organic = get_voice_data(dataset_path + \"/pathological/organic\")\n",
    "    psychogenic = get_voice_data(dataset_path + \"/pathological/psychogenic\")\n",
    "\n",
    "    # Combine the results into one dataframe\n",
    "    combined = healthy + functional + hyperfunctional + organic + psychogenic\n",
    "    df = pd.DataFrame(combined, columns=columns)\n",
    "    return df\n"
   ]
  },
  {
   "cell_type": "code",
   "execution_count": 9,
   "metadata": {},
   "outputs": [],
   "source": [
    "# filepath for the test and train datasets\n",
    "test_path = \"/Users/leochoo/dev/VoiceDisorderSVM/data/SVD/test_audio\"\n",
    "train_path = \"/Users/leochoo/dev/VoiceDisorderSVM/data/SVD/train_audio\""
   ]
  },
  {
   "cell_type": "code",
   "execution_count": 10,
   "metadata": {},
   "outputs": [
    {
     "output_type": "stream",
     "name": "stderr",
     "text": [
      "100%|██████████| 18/18 [00:02<00:00,  7.37it/s]\n",
      "100%|██████████| 18/18 [00:01<00:00,  9.86it/s]\n",
      "100%|██████████| 18/18 [00:02<00:00,  6.54it/s]\n",
      "100%|██████████| 18/18 [00:02<00:00,  7.71it/s]\n",
      "100%|██████████| 27/27 [00:03<00:00,  8.61it/s]\n"
     ]
    },
    {
     "output_type": "execute_result",
     "data": {
      "text/plain": [
       "(99, 43)"
      ]
     },
     "metadata": {},
     "execution_count": 10
    }
   ],
   "source": [
    "# generate voice report for test dataset\n",
    "test_report = analyze_svd(test_path)\n",
    "test_report.shape"
   ]
  },
  {
   "cell_type": "code",
   "execution_count": 11,
   "metadata": {},
   "outputs": [
    {
     "output_type": "execute_result",
     "data": {
      "text/plain": [
       "       Name         Type Tone Syllab    Jitter   Shimmer        HNR  \\\n",
       "0     1-i_l      healthy    l      i  0.238779  0.019045  19.410768   \n",
       "1     2-u_h      healthy    h      u  0.349111  0.023441  28.655604   \n",
       "2     1-i_n      healthy    n      i  0.209544  0.007423  26.996682   \n",
       "3     2-u_l      healthy    l      u  1.069854  0.041115  25.108378   \n",
       "4     2-u_n      healthy    n      u  0.413457  0.031538  24.573556   \n",
       "..      ...          ...  ...    ...       ...       ...        ...   \n",
       "94  151-a_l  psychogenic    l      a  0.100698  0.010602  32.236174   \n",
       "95  366-u_n  psychogenic    n      u  0.201356  0.015767  31.531414   \n",
       "96  741-a_h  psychogenic    h      a  0.281613  0.026882  28.802297   \n",
       "97  366-u_l  psychogenic    l      u  0.389981  0.039966  23.895287   \n",
       "98  151-a_n  psychogenic    n      a  0.448863  0.024517  23.677346   \n",
       "\n",
       "       MFCC-0     MFCC-1    MFCC-2  ...  MFCC-2_d2  MFCC-3_d2  MFCC-4_d2  \\\n",
       "0   19.726412   4.980335  0.364373  ...   0.031771   0.950529   0.207430   \n",
       "1   24.231631  14.833635  5.132610  ...   0.452091  -0.004018  -0.117941   \n",
       "2   22.370851   9.131600  1.832111  ...   0.166658   0.585586   0.135321   \n",
       "3   22.546297  14.963159  5.392483  ...   0.478775   0.235980  -0.043400   \n",
       "4   22.691574  14.178967  5.598100  ...   0.509009   0.185690  -0.010915   \n",
       "..        ...        ...       ...  ...        ...        ...        ...   \n",
       "94  23.574362  15.892063 -2.114620  ...  -0.179323  -0.369967  -0.108087   \n",
       "95  22.511361  19.340193  8.954125  ...   0.790288   0.167677  -0.153999   \n",
       "96  24.383547  15.528880  1.116797  ...   0.104059  -0.186318  -0.146550   \n",
       "97  20.848472  14.195569  5.796031  ...   0.518428   0.280540   0.100661   \n",
       "98  22.389438  15.538402  0.791573  ...   0.075558  -0.168073  -0.052082   \n",
       "\n",
       "    MFCC-5_d2  MFCC-6_d2  MFCC-7_d2  MFCC-8_d2  MFCC-9_d2  MFCC-10_d2  \\\n",
       "0   -0.365490  -0.002616   0.095770  -0.169743   0.089624   -0.058871   \n",
       "1   -0.168529  -0.045855  -0.026354  -0.046411  -0.096588   -0.154689   \n",
       "2   -0.225097  -0.087052   0.182036  -0.260597  -0.084150   -0.037017   \n",
       "3   -0.060782  -0.008986  -0.034862   0.064217   0.006862   -0.062482   \n",
       "4   -0.085739  -0.056782  -0.037253   0.028907   0.041877   -0.035037   \n",
       "..        ...        ...        ...        ...        ...         ...   \n",
       "94   0.108928   0.135450   0.083520  -0.140160  -0.111718   -0.050962   \n",
       "95  -0.169101  -0.167884   0.034443   0.004447   0.011665   -0.033949   \n",
       "96   0.081214   0.197146   0.141567  -0.099794  -0.178773   -0.165446   \n",
       "97   0.036428  -0.025210   0.028554   0.010087   0.016879    0.001489   \n",
       "98   0.077006   0.166255   0.205816  -0.042960  -0.019972   -0.059085   \n",
       "\n",
       "    MFCC-11_d2  \n",
       "0    -0.158737  \n",
       "1    -0.104487  \n",
       "2    -0.158376  \n",
       "3     0.004279  \n",
       "4     0.023320  \n",
       "..         ...  \n",
       "94    0.014016  \n",
       "95   -0.111250  \n",
       "96   -0.054257  \n",
       "97   -0.045411  \n",
       "98   -0.040287  \n",
       "\n",
       "[99 rows x 43 columns]"
      ],
      "text/html": "<div>\n<style scoped>\n    .dataframe tbody tr th:only-of-type {\n        vertical-align: middle;\n    }\n\n    .dataframe tbody tr th {\n        vertical-align: top;\n    }\n\n    .dataframe thead th {\n        text-align: right;\n    }\n</style>\n<table border=\"1\" class=\"dataframe\">\n  <thead>\n    <tr style=\"text-align: right;\">\n      <th></th>\n      <th>Name</th>\n      <th>Type</th>\n      <th>Tone</th>\n      <th>Syllab</th>\n      <th>Jitter</th>\n      <th>Shimmer</th>\n      <th>HNR</th>\n      <th>MFCC-0</th>\n      <th>MFCC-1</th>\n      <th>MFCC-2</th>\n      <th>...</th>\n      <th>MFCC-2_d2</th>\n      <th>MFCC-3_d2</th>\n      <th>MFCC-4_d2</th>\n      <th>MFCC-5_d2</th>\n      <th>MFCC-6_d2</th>\n      <th>MFCC-7_d2</th>\n      <th>MFCC-8_d2</th>\n      <th>MFCC-9_d2</th>\n      <th>MFCC-10_d2</th>\n      <th>MFCC-11_d2</th>\n    </tr>\n  </thead>\n  <tbody>\n    <tr>\n      <th>0</th>\n      <td>1-i_l</td>\n      <td>healthy</td>\n      <td>l</td>\n      <td>i</td>\n      <td>0.238779</td>\n      <td>0.019045</td>\n      <td>19.410768</td>\n      <td>19.726412</td>\n      <td>4.980335</td>\n      <td>0.364373</td>\n      <td>...</td>\n      <td>0.031771</td>\n      <td>0.950529</td>\n      <td>0.207430</td>\n      <td>-0.365490</td>\n      <td>-0.002616</td>\n      <td>0.095770</td>\n      <td>-0.169743</td>\n      <td>0.089624</td>\n      <td>-0.058871</td>\n      <td>-0.158737</td>\n    </tr>\n    <tr>\n      <th>1</th>\n      <td>2-u_h</td>\n      <td>healthy</td>\n      <td>h</td>\n      <td>u</td>\n      <td>0.349111</td>\n      <td>0.023441</td>\n      <td>28.655604</td>\n      <td>24.231631</td>\n      <td>14.833635</td>\n      <td>5.132610</td>\n      <td>...</td>\n      <td>0.452091</td>\n      <td>-0.004018</td>\n      <td>-0.117941</td>\n      <td>-0.168529</td>\n      <td>-0.045855</td>\n      <td>-0.026354</td>\n      <td>-0.046411</td>\n      <td>-0.096588</td>\n      <td>-0.154689</td>\n      <td>-0.104487</td>\n    </tr>\n    <tr>\n      <th>2</th>\n      <td>1-i_n</td>\n      <td>healthy</td>\n      <td>n</td>\n      <td>i</td>\n      <td>0.209544</td>\n      <td>0.007423</td>\n      <td>26.996682</td>\n      <td>22.370851</td>\n      <td>9.131600</td>\n      <td>1.832111</td>\n      <td>...</td>\n      <td>0.166658</td>\n      <td>0.585586</td>\n      <td>0.135321</td>\n      <td>-0.225097</td>\n      <td>-0.087052</td>\n      <td>0.182036</td>\n      <td>-0.260597</td>\n      <td>-0.084150</td>\n      <td>-0.037017</td>\n      <td>-0.158376</td>\n    </tr>\n    <tr>\n      <th>3</th>\n      <td>2-u_l</td>\n      <td>healthy</td>\n      <td>l</td>\n      <td>u</td>\n      <td>1.069854</td>\n      <td>0.041115</td>\n      <td>25.108378</td>\n      <td>22.546297</td>\n      <td>14.963159</td>\n      <td>5.392483</td>\n      <td>...</td>\n      <td>0.478775</td>\n      <td>0.235980</td>\n      <td>-0.043400</td>\n      <td>-0.060782</td>\n      <td>-0.008986</td>\n      <td>-0.034862</td>\n      <td>0.064217</td>\n      <td>0.006862</td>\n      <td>-0.062482</td>\n      <td>0.004279</td>\n    </tr>\n    <tr>\n      <th>4</th>\n      <td>2-u_n</td>\n      <td>healthy</td>\n      <td>n</td>\n      <td>u</td>\n      <td>0.413457</td>\n      <td>0.031538</td>\n      <td>24.573556</td>\n      <td>22.691574</td>\n      <td>14.178967</td>\n      <td>5.598100</td>\n      <td>...</td>\n      <td>0.509009</td>\n      <td>0.185690</td>\n      <td>-0.010915</td>\n      <td>-0.085739</td>\n      <td>-0.056782</td>\n      <td>-0.037253</td>\n      <td>0.028907</td>\n      <td>0.041877</td>\n      <td>-0.035037</td>\n      <td>0.023320</td>\n    </tr>\n    <tr>\n      <th>...</th>\n      <td>...</td>\n      <td>...</td>\n      <td>...</td>\n      <td>...</td>\n      <td>...</td>\n      <td>...</td>\n      <td>...</td>\n      <td>...</td>\n      <td>...</td>\n      <td>...</td>\n      <td>...</td>\n      <td>...</td>\n      <td>...</td>\n      <td>...</td>\n      <td>...</td>\n      <td>...</td>\n      <td>...</td>\n      <td>...</td>\n      <td>...</td>\n      <td>...</td>\n      <td>...</td>\n    </tr>\n    <tr>\n      <th>94</th>\n      <td>151-a_l</td>\n      <td>psychogenic</td>\n      <td>l</td>\n      <td>a</td>\n      <td>0.100698</td>\n      <td>0.010602</td>\n      <td>32.236174</td>\n      <td>23.574362</td>\n      <td>15.892063</td>\n      <td>-2.114620</td>\n      <td>...</td>\n      <td>-0.179323</td>\n      <td>-0.369967</td>\n      <td>-0.108087</td>\n      <td>0.108928</td>\n      <td>0.135450</td>\n      <td>0.083520</td>\n      <td>-0.140160</td>\n      <td>-0.111718</td>\n      <td>-0.050962</td>\n      <td>0.014016</td>\n    </tr>\n    <tr>\n      <th>95</th>\n      <td>366-u_n</td>\n      <td>psychogenic</td>\n      <td>n</td>\n      <td>u</td>\n      <td>0.201356</td>\n      <td>0.015767</td>\n      <td>31.531414</td>\n      <td>22.511361</td>\n      <td>19.340193</td>\n      <td>8.954125</td>\n      <td>...</td>\n      <td>0.790288</td>\n      <td>0.167677</td>\n      <td>-0.153999</td>\n      <td>-0.169101</td>\n      <td>-0.167884</td>\n      <td>0.034443</td>\n      <td>0.004447</td>\n      <td>0.011665</td>\n      <td>-0.033949</td>\n      <td>-0.111250</td>\n    </tr>\n    <tr>\n      <th>96</th>\n      <td>741-a_h</td>\n      <td>psychogenic</td>\n      <td>h</td>\n      <td>a</td>\n      <td>0.281613</td>\n      <td>0.026882</td>\n      <td>28.802297</td>\n      <td>24.383547</td>\n      <td>15.528880</td>\n      <td>1.116797</td>\n      <td>...</td>\n      <td>0.104059</td>\n      <td>-0.186318</td>\n      <td>-0.146550</td>\n      <td>0.081214</td>\n      <td>0.197146</td>\n      <td>0.141567</td>\n      <td>-0.099794</td>\n      <td>-0.178773</td>\n      <td>-0.165446</td>\n      <td>-0.054257</td>\n    </tr>\n    <tr>\n      <th>97</th>\n      <td>366-u_l</td>\n      <td>psychogenic</td>\n      <td>l</td>\n      <td>u</td>\n      <td>0.389981</td>\n      <td>0.039966</td>\n      <td>23.895287</td>\n      <td>20.848472</td>\n      <td>14.195569</td>\n      <td>5.796031</td>\n      <td>...</td>\n      <td>0.518428</td>\n      <td>0.280540</td>\n      <td>0.100661</td>\n      <td>0.036428</td>\n      <td>-0.025210</td>\n      <td>0.028554</td>\n      <td>0.010087</td>\n      <td>0.016879</td>\n      <td>0.001489</td>\n      <td>-0.045411</td>\n    </tr>\n    <tr>\n      <th>98</th>\n      <td>151-a_n</td>\n      <td>psychogenic</td>\n      <td>n</td>\n      <td>a</td>\n      <td>0.448863</td>\n      <td>0.024517</td>\n      <td>23.677346</td>\n      <td>22.389438</td>\n      <td>15.538402</td>\n      <td>0.791573</td>\n      <td>...</td>\n      <td>0.075558</td>\n      <td>-0.168073</td>\n      <td>-0.052082</td>\n      <td>0.077006</td>\n      <td>0.166255</td>\n      <td>0.205816</td>\n      <td>-0.042960</td>\n      <td>-0.019972</td>\n      <td>-0.059085</td>\n      <td>-0.040287</td>\n    </tr>\n  </tbody>\n</table>\n<p>99 rows × 43 columns</p>\n</div>"
     },
     "metadata": {},
     "execution_count": 11
    }
   ],
   "source": [
    "test_report"
   ]
  },
  {
   "cell_type": "code",
   "execution_count": 12,
   "metadata": {},
   "outputs": [
    {
     "output_type": "stream",
     "name": "stderr",
     "text": [
      "100%|██████████| 3141/3141 [06:03<00:00,  8.65it/s]\n",
      "100%|██████████| 990/990 [01:48<00:00,  9.16it/s]\n",
      "100%|██████████| 1898/1898 [03:14<00:00,  9.78it/s]\n",
      "100%|██████████| 891/891 [01:26<00:00, 10.26it/s]\n",
      "100%|██████████| 792/792 [01:11<00:00, 11.02it/s]\n"
     ]
    },
    {
     "output_type": "execute_result",
     "data": {
      "text/plain": [
       "(7712, 43)"
      ]
     },
     "metadata": {},
     "execution_count": 12
    }
   ],
   "source": [
    "# generate voice report for train dataset\n",
    "train_report = analyze_svd(train_path)\n",
    "train_report.shape"
   ]
  },
  {
   "cell_type": "code",
   "execution_count": 13,
   "metadata": {},
   "outputs": [
    {
     "output_type": "stream",
     "name": "stdout",
     "text": [
      "Test data exported\n",
      "Train data exported\n"
     ]
    }
   ],
   "source": [
    "# Save the outputs to the processed data directory\n",
    "test_report.to_csv (\"./data/processed/test_SVD_j_s_hnr_mfcc_with_d1d2.csv\", index = False, header=True)\n",
    "print(\"Test data exported\")\n",
    "train_report.to_csv (\"./data/processed/train_SVD_j_s_hnr_mfcc_with_d1d2.csv\", index = False, header=True)\n",
    "print(\"Train data exported\")\n",
    "\n",
    "\n"
   ]
  },
  {
   "cell_type": "code",
   "execution_count": 8,
   "metadata": {},
   "outputs": [],
   "source": [
    "# 20201105 \n",
    "# so i recognized the problem with mfcc calculation so I'm re-doing it correctly.\n",
    "\n",
    "# 1105 09:02 now generating new dataset with the correct average mfcc value. no d1 d2 included here."
   ]
  },
  {
   "cell_type": "code",
   "execution_count": null,
   "metadata": {},
   "outputs": [],
   "source": [
    "# 1109 08:55 refactoring done and testing"
   ]
  },
  {
   "cell_type": "code",
   "execution_count": null,
   "metadata": {},
   "outputs": [],
   "source": []
  },
  {
   "cell_type": "code",
   "execution_count": null,
   "metadata": {},
   "outputs": [],
   "source": []
  }
 ],
 "metadata": {
  "kernelspec": {
   "display_name": "Python 3.8.1 64-bit ('3.8.1': pyenv)",
   "language": "python",
   "name": "python38164bit381pyenvc0e1d4fb139e4c8d8bbd1bcf9c4ee977"
  },
  "language_info": {
   "codemirror_mode": {
    "name": "ipython",
    "version": 3
   },
   "file_extension": ".py",
   "mimetype": "text/x-python",
   "name": "python",
   "nbconvert_exporter": "python",
   "pygments_lexer": "ipython3",
   "version": "3.8.1-final"
  }
 },
 "nbformat": 4,
 "nbformat_minor": 4
}