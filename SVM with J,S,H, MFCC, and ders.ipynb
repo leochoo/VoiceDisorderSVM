{
 "cells": [
  {
   "cell_type": "code",
   "execution_count": 24,
   "metadata": {},
   "outputs": [],
   "source": [
    "import sklearn\n",
    "from sklearn import datasets\n",
    "from sklearn import svm\n",
    "from sklearn import metrics"
   ]
  },
  {
   "cell_type": "code",
   "execution_count": 25,
   "metadata": {},
   "outputs": [],
   "source": [
    "from sklearn import preprocessing"
   ]
  },
  {
   "cell_type": "code",
   "execution_count": 26,
   "metadata": {
    "tags": []
   },
   "outputs": [
    {
     "output_type": "stream",
     "name": "stdout",
     "text": [
      "         Name         Type Tone Syllab    Jitter   Shimmer        HNR  \\\n0     743-u_n      healthy    n      u  1.164692  0.042058  24.772758   \n1      56-i_n      healthy    n      i  0.155393  0.011061  26.922863   \n2      39-a_l      healthy    l      a  0.224576  0.027684  27.151732   \n3      29-a_l      healthy    l      a  0.498826  0.038859  20.022510   \n4      46-i_n      healthy    n      i  0.532008  0.023150  22.705093   \n...       ...          ...  ...    ...       ...       ...        ...   \n7805  151-a_l  psychogenic    l      a  0.100698  0.010602  32.236174   \n7806  366-u_n  psychogenic    n      u  0.201356  0.015767  31.531414   \n7807  741-a_h  psychogenic    h      a  0.281613  0.026882  28.802297   \n7808  366-u_l  psychogenic    l      u  0.389981  0.039966  23.895287   \n7809  151-a_n  psychogenic    n      a  0.448863  0.024517  23.677346   \n\n         MFCC-0     MFCC-1    MFCC-2  ...  MFCC-2_d2  MFCC-3_d2  MFCC-4_d2  \\\n0     21.736319  17.458524  7.820948  ...   0.702141   0.270776  -0.009505   \n1     23.644426  10.189441  4.770982  ...   0.430543   0.518259   0.143927   \n2     22.485759  17.417019  2.881103  ...   0.264445  -0.091457  -0.292316   \n3     22.026267  15.125506  0.457665  ...   0.047697  -0.107558  -0.409835   \n4     22.937200   8.484145  6.262272  ...   0.562402   0.618542   0.195190   \n...         ...        ...       ...  ...        ...        ...        ...   \n7805  23.574362  15.892063 -2.114620  ...  -0.179323  -0.369967  -0.108087   \n7806  22.511361  19.340193  8.954125  ...   0.790288   0.167677  -0.153999   \n7807  24.383547  15.528880  1.116797  ...   0.104059  -0.186318  -0.146550   \n7808  20.848472  14.195569  5.796031  ...   0.518428   0.280540   0.100661   \n7809  22.389438  15.538402  0.791573  ...   0.075558  -0.168073  -0.052082   \n\n      MFCC-5_d2  MFCC-6_d2  MFCC-7_d2  MFCC-8_d2  MFCC-9_d2  MFCC-10_d2  \\\n0     -0.128288  -0.186863  -0.080942  -0.100158  -0.020964   -0.034327   \n1     -0.062734   0.127002   0.049976  -0.086409   0.016862   -0.080224   \n2     -0.328552   0.389849   0.009098  -0.191274   0.004799   -0.089539   \n3     -0.297088   0.062504   0.123028   0.112664   0.175903   -0.137256   \n4     -0.183320   0.034640   0.149443  -0.214998  -0.022542   -0.047958   \n...         ...        ...        ...        ...        ...         ...   \n7805   0.108928   0.135450   0.083520  -0.140160  -0.111718   -0.050962   \n7806  -0.169101  -0.167884   0.034443   0.004447   0.011665   -0.033949   \n7807   0.081214   0.197146   0.141567  -0.099794  -0.178773   -0.165446   \n7808   0.036428  -0.025210   0.028554   0.010087   0.016879    0.001489   \n7809   0.077006   0.166255   0.205816  -0.042960  -0.019972   -0.059085   \n\n      MFCC-11_d2  \n0      -0.045887  \n1       0.008735  \n2      -0.059719  \n3       0.002436  \n4      -0.059465  \n...          ...  \n7805    0.014016  \n7806   -0.111250  \n7807   -0.054257  \n7808   -0.045411  \n7809   -0.040287  \n\n[7810 rows x 43 columns]\n"
     ]
    }
   ],
   "source": [
    "# read CSV\n",
    "\n",
    "import pandas as pd\n",
    "df = pd.read_csv('./data/processed/allSVD.csv') \n",
    "print(df)"
   ]
  },
  {
   "cell_type": "code",
   "execution_count": 27,
   "metadata": {},
   "outputs": [
    {
     "output_type": "execute_result",
     "data": {
      "text/plain": [
       "             Type    Jitter   Shimmer        HNR     MFCC-0     MFCC-1  \\\n",
       "0         healthy  1.164692  0.042058  24.772758  21.736319  17.458524   \n",
       "1         healthy  0.155393  0.011061  26.922863  23.644426  10.189441   \n",
       "2         healthy  0.224576  0.027684  27.151732  22.485759  17.417019   \n",
       "3         healthy  0.498826  0.038859  20.022510  22.026267  15.125506   \n",
       "4         healthy  0.532008  0.023150  22.705093  22.937200   8.484145   \n",
       "...           ...       ...       ...        ...        ...        ...   \n",
       "7805  psychogenic  0.100698  0.010602  32.236174  23.574362  15.892063   \n",
       "7806  psychogenic  0.201356  0.015767  31.531414  22.511361  19.340193   \n",
       "7807  psychogenic  0.281613  0.026882  28.802297  24.383547  15.528880   \n",
       "7808  psychogenic  0.389981  0.039966  23.895287  20.848472  14.195569   \n",
       "7809  psychogenic  0.448863  0.024517  23.677346  22.389438  15.538402   \n",
       "\n",
       "        MFCC-2    MFCC-3    MFCC-4    MFCC-5  ...  MFCC-2_d2  MFCC-3_d2  \\\n",
       "0     7.820948  3.013962 -0.112737 -1.432067  ...   0.702141   0.270776   \n",
       "1     4.770982  5.767449  1.589007 -0.705619  ...   0.430543   0.518259   \n",
       "2     2.881103 -1.048527 -3.289772 -3.634941  ...   0.264445  -0.091457   \n",
       "3     0.457665 -1.227691 -4.545792 -3.290087  ...   0.047697  -0.107558   \n",
       "4     6.262272  6.895974  2.157817 -2.048918  ...   0.562402   0.618542   \n",
       "...        ...       ...       ...       ...  ...        ...        ...   \n",
       "7805 -2.114620 -4.102555 -1.148606  1.280938  ...  -0.179323  -0.369967   \n",
       "7806  8.954125  1.877514 -1.738897 -1.887560  ...   0.790288   0.167677   \n",
       "7807  1.116797 -2.067196 -1.588425  0.926335  ...   0.104059  -0.186318   \n",
       "7808  5.796031  3.136148  1.123970  0.395815  ...   0.518428   0.280540   \n",
       "7809  0.791573 -1.888707 -0.632643  0.797177  ...   0.075558  -0.168073   \n",
       "\n",
       "      MFCC-4_d2  MFCC-5_d2  MFCC-6_d2  MFCC-7_d2  MFCC-8_d2  MFCC-9_d2  \\\n",
       "0     -0.009505  -0.128288  -0.186863  -0.080942  -0.100158  -0.020964   \n",
       "1      0.143927  -0.062734   0.127002   0.049976  -0.086409   0.016862   \n",
       "2     -0.292316  -0.328552   0.389849   0.009098  -0.191274   0.004799   \n",
       "3     -0.409835  -0.297088   0.062504   0.123028   0.112664   0.175903   \n",
       "4      0.195190  -0.183320   0.034640   0.149443  -0.214998  -0.022542   \n",
       "...         ...        ...        ...        ...        ...        ...   \n",
       "7805  -0.108087   0.108928   0.135450   0.083520  -0.140160  -0.111718   \n",
       "7806  -0.153999  -0.169101  -0.167884   0.034443   0.004447   0.011665   \n",
       "7807  -0.146550   0.081214   0.197146   0.141567  -0.099794  -0.178773   \n",
       "7808   0.100661   0.036428  -0.025210   0.028554   0.010087   0.016879   \n",
       "7809  -0.052082   0.077006   0.166255   0.205816  -0.042960  -0.019972   \n",
       "\n",
       "      MFCC-10_d2  MFCC-11_d2  \n",
       "0      -0.034327   -0.045887  \n",
       "1      -0.080224    0.008735  \n",
       "2      -0.089539   -0.059719  \n",
       "3      -0.137256    0.002436  \n",
       "4      -0.047958   -0.059465  \n",
       "...          ...         ...  \n",
       "7805   -0.050962    0.014016  \n",
       "7806   -0.033949   -0.111250  \n",
       "7807   -0.165446   -0.054257  \n",
       "7808    0.001489   -0.045411  \n",
       "7809   -0.059085   -0.040287  \n",
       "\n",
       "[7810 rows x 40 columns]"
      ],
      "text/html": "<div>\n<style scoped>\n    .dataframe tbody tr th:only-of-type {\n        vertical-align: middle;\n    }\n\n    .dataframe tbody tr th {\n        vertical-align: top;\n    }\n\n    .dataframe thead th {\n        text-align: right;\n    }\n</style>\n<table border=\"1\" class=\"dataframe\">\n  <thead>\n    <tr style=\"text-align: right;\">\n      <th></th>\n      <th>Type</th>\n      <th>Jitter</th>\n      <th>Shimmer</th>\n      <th>HNR</th>\n      <th>MFCC-0</th>\n      <th>MFCC-1</th>\n      <th>MFCC-2</th>\n      <th>MFCC-3</th>\n      <th>MFCC-4</th>\n      <th>MFCC-5</th>\n      <th>...</th>\n      <th>MFCC-2_d2</th>\n      <th>MFCC-3_d2</th>\n      <th>MFCC-4_d2</th>\n      <th>MFCC-5_d2</th>\n      <th>MFCC-6_d2</th>\n      <th>MFCC-7_d2</th>\n      <th>MFCC-8_d2</th>\n      <th>MFCC-9_d2</th>\n      <th>MFCC-10_d2</th>\n      <th>MFCC-11_d2</th>\n    </tr>\n  </thead>\n  <tbody>\n    <tr>\n      <th>0</th>\n      <td>healthy</td>\n      <td>1.164692</td>\n      <td>0.042058</td>\n      <td>24.772758</td>\n      <td>21.736319</td>\n      <td>17.458524</td>\n      <td>7.820948</td>\n      <td>3.013962</td>\n      <td>-0.112737</td>\n      <td>-1.432067</td>\n      <td>...</td>\n      <td>0.702141</td>\n      <td>0.270776</td>\n      <td>-0.009505</td>\n      <td>-0.128288</td>\n      <td>-0.186863</td>\n      <td>-0.080942</td>\n      <td>-0.100158</td>\n      <td>-0.020964</td>\n      <td>-0.034327</td>\n      <td>-0.045887</td>\n    </tr>\n    <tr>\n      <th>1</th>\n      <td>healthy</td>\n      <td>0.155393</td>\n      <td>0.011061</td>\n      <td>26.922863</td>\n      <td>23.644426</td>\n      <td>10.189441</td>\n      <td>4.770982</td>\n      <td>5.767449</td>\n      <td>1.589007</td>\n      <td>-0.705619</td>\n      <td>...</td>\n      <td>0.430543</td>\n      <td>0.518259</td>\n      <td>0.143927</td>\n      <td>-0.062734</td>\n      <td>0.127002</td>\n      <td>0.049976</td>\n      <td>-0.086409</td>\n      <td>0.016862</td>\n      <td>-0.080224</td>\n      <td>0.008735</td>\n    </tr>\n    <tr>\n      <th>2</th>\n      <td>healthy</td>\n      <td>0.224576</td>\n      <td>0.027684</td>\n      <td>27.151732</td>\n      <td>22.485759</td>\n      <td>17.417019</td>\n      <td>2.881103</td>\n      <td>-1.048527</td>\n      <td>-3.289772</td>\n      <td>-3.634941</td>\n      <td>...</td>\n      <td>0.264445</td>\n      <td>-0.091457</td>\n      <td>-0.292316</td>\n      <td>-0.328552</td>\n      <td>0.389849</td>\n      <td>0.009098</td>\n      <td>-0.191274</td>\n      <td>0.004799</td>\n      <td>-0.089539</td>\n      <td>-0.059719</td>\n    </tr>\n    <tr>\n      <th>3</th>\n      <td>healthy</td>\n      <td>0.498826</td>\n      <td>0.038859</td>\n      <td>20.022510</td>\n      <td>22.026267</td>\n      <td>15.125506</td>\n      <td>0.457665</td>\n      <td>-1.227691</td>\n      <td>-4.545792</td>\n      <td>-3.290087</td>\n      <td>...</td>\n      <td>0.047697</td>\n      <td>-0.107558</td>\n      <td>-0.409835</td>\n      <td>-0.297088</td>\n      <td>0.062504</td>\n      <td>0.123028</td>\n      <td>0.112664</td>\n      <td>0.175903</td>\n      <td>-0.137256</td>\n      <td>0.002436</td>\n    </tr>\n    <tr>\n      <th>4</th>\n      <td>healthy</td>\n      <td>0.532008</td>\n      <td>0.023150</td>\n      <td>22.705093</td>\n      <td>22.937200</td>\n      <td>8.484145</td>\n      <td>6.262272</td>\n      <td>6.895974</td>\n      <td>2.157817</td>\n      <td>-2.048918</td>\n      <td>...</td>\n      <td>0.562402</td>\n      <td>0.618542</td>\n      <td>0.195190</td>\n      <td>-0.183320</td>\n      <td>0.034640</td>\n      <td>0.149443</td>\n      <td>-0.214998</td>\n      <td>-0.022542</td>\n      <td>-0.047958</td>\n      <td>-0.059465</td>\n    </tr>\n    <tr>\n      <th>...</th>\n      <td>...</td>\n      <td>...</td>\n      <td>...</td>\n      <td>...</td>\n      <td>...</td>\n      <td>...</td>\n      <td>...</td>\n      <td>...</td>\n      <td>...</td>\n      <td>...</td>\n      <td>...</td>\n      <td>...</td>\n      <td>...</td>\n      <td>...</td>\n      <td>...</td>\n      <td>...</td>\n      <td>...</td>\n      <td>...</td>\n      <td>...</td>\n      <td>...</td>\n      <td>...</td>\n    </tr>\n    <tr>\n      <th>7805</th>\n      <td>psychogenic</td>\n      <td>0.100698</td>\n      <td>0.010602</td>\n      <td>32.236174</td>\n      <td>23.574362</td>\n      <td>15.892063</td>\n      <td>-2.114620</td>\n      <td>-4.102555</td>\n      <td>-1.148606</td>\n      <td>1.280938</td>\n      <td>...</td>\n      <td>-0.179323</td>\n      <td>-0.369967</td>\n      <td>-0.108087</td>\n      <td>0.108928</td>\n      <td>0.135450</td>\n      <td>0.083520</td>\n      <td>-0.140160</td>\n      <td>-0.111718</td>\n      <td>-0.050962</td>\n      <td>0.014016</td>\n    </tr>\n    <tr>\n      <th>7806</th>\n      <td>psychogenic</td>\n      <td>0.201356</td>\n      <td>0.015767</td>\n      <td>31.531414</td>\n      <td>22.511361</td>\n      <td>19.340193</td>\n      <td>8.954125</td>\n      <td>1.877514</td>\n      <td>-1.738897</td>\n      <td>-1.887560</td>\n      <td>...</td>\n      <td>0.790288</td>\n      <td>0.167677</td>\n      <td>-0.153999</td>\n      <td>-0.169101</td>\n      <td>-0.167884</td>\n      <td>0.034443</td>\n      <td>0.004447</td>\n      <td>0.011665</td>\n      <td>-0.033949</td>\n      <td>-0.111250</td>\n    </tr>\n    <tr>\n      <th>7807</th>\n      <td>psychogenic</td>\n      <td>0.281613</td>\n      <td>0.026882</td>\n      <td>28.802297</td>\n      <td>24.383547</td>\n      <td>15.528880</td>\n      <td>1.116797</td>\n      <td>-2.067196</td>\n      <td>-1.588425</td>\n      <td>0.926335</td>\n      <td>...</td>\n      <td>0.104059</td>\n      <td>-0.186318</td>\n      <td>-0.146550</td>\n      <td>0.081214</td>\n      <td>0.197146</td>\n      <td>0.141567</td>\n      <td>-0.099794</td>\n      <td>-0.178773</td>\n      <td>-0.165446</td>\n      <td>-0.054257</td>\n    </tr>\n    <tr>\n      <th>7808</th>\n      <td>psychogenic</td>\n      <td>0.389981</td>\n      <td>0.039966</td>\n      <td>23.895287</td>\n      <td>20.848472</td>\n      <td>14.195569</td>\n      <td>5.796031</td>\n      <td>3.136148</td>\n      <td>1.123970</td>\n      <td>0.395815</td>\n      <td>...</td>\n      <td>0.518428</td>\n      <td>0.280540</td>\n      <td>0.100661</td>\n      <td>0.036428</td>\n      <td>-0.025210</td>\n      <td>0.028554</td>\n      <td>0.010087</td>\n      <td>0.016879</td>\n      <td>0.001489</td>\n      <td>-0.045411</td>\n    </tr>\n    <tr>\n      <th>7809</th>\n      <td>psychogenic</td>\n      <td>0.448863</td>\n      <td>0.024517</td>\n      <td>23.677346</td>\n      <td>22.389438</td>\n      <td>15.538402</td>\n      <td>0.791573</td>\n      <td>-1.888707</td>\n      <td>-0.632643</td>\n      <td>0.797177</td>\n      <td>...</td>\n      <td>0.075558</td>\n      <td>-0.168073</td>\n      <td>-0.052082</td>\n      <td>0.077006</td>\n      <td>0.166255</td>\n      <td>0.205816</td>\n      <td>-0.042960</td>\n      <td>-0.019972</td>\n      <td>-0.059085</td>\n      <td>-0.040287</td>\n    </tr>\n  </tbody>\n</table>\n<p>7810 rows × 40 columns</p>\n</div>"
     },
     "metadata": {},
     "execution_count": 27
    }
   ],
   "source": [
    "df = df.drop([\"Name\", \"Tone\", \"Syllab\"], axis=1)\n",
    "df = df[df[\"Type\"] != \"my_data\"]\n",
    "df"
   ]
  },
  {
   "cell_type": "code",
   "execution_count": 28,
   "metadata": {},
   "outputs": [
    {
     "output_type": "execute_result",
     "data": {
      "text/plain": [
       "             Type    Jitter   Shimmer        HNR     MFCC-0     MFCC-1  \\\n",
       "0         healthy  1.164692  0.042058  24.772758  21.736319  17.458524   \n",
       "1         healthy  0.155393  0.011061  26.922863  23.644426  10.189441   \n",
       "2         healthy  0.224576  0.027684  27.151732  22.485759  17.417019   \n",
       "3         healthy  0.498826  0.038859  20.022510  22.026267  15.125506   \n",
       "4         healthy  0.532008  0.023150  22.705093  22.937200   8.484145   \n",
       "...           ...       ...       ...        ...        ...        ...   \n",
       "7805  psychogenic  0.100698  0.010602  32.236174  23.574362  15.892063   \n",
       "7806  psychogenic  0.201356  0.015767  31.531414  22.511361  19.340193   \n",
       "7807  psychogenic  0.281613  0.026882  28.802297  24.383547  15.528880   \n",
       "7808  psychogenic  0.389981  0.039966  23.895287  20.848472  14.195569   \n",
       "7809  psychogenic  0.448863  0.024517  23.677346  22.389438  15.538402   \n",
       "\n",
       "        MFCC-2    MFCC-3    MFCC-4    MFCC-5  ...  MFCC-2_d2  MFCC-3_d2  \\\n",
       "0     7.820948  3.013962 -0.112737 -1.432067  ...   0.702141   0.270776   \n",
       "1     4.770982  5.767449  1.589007 -0.705619  ...   0.430543   0.518259   \n",
       "2     2.881103 -1.048527 -3.289772 -3.634941  ...   0.264445  -0.091457   \n",
       "3     0.457665 -1.227691 -4.545792 -3.290087  ...   0.047697  -0.107558   \n",
       "4     6.262272  6.895974  2.157817 -2.048918  ...   0.562402   0.618542   \n",
       "...        ...       ...       ...       ...  ...        ...        ...   \n",
       "7805 -2.114620 -4.102555 -1.148606  1.280938  ...  -0.179323  -0.369967   \n",
       "7806  8.954125  1.877514 -1.738897 -1.887560  ...   0.790288   0.167677   \n",
       "7807  1.116797 -2.067196 -1.588425  0.926335  ...   0.104059  -0.186318   \n",
       "7808  5.796031  3.136148  1.123970  0.395815  ...   0.518428   0.280540   \n",
       "7809  0.791573 -1.888707 -0.632643  0.797177  ...   0.075558  -0.168073   \n",
       "\n",
       "      MFCC-4_d2  MFCC-5_d2  MFCC-6_d2  MFCC-7_d2  MFCC-8_d2  MFCC-9_d2  \\\n",
       "0     -0.009505  -0.128288  -0.186863  -0.080942  -0.100158  -0.020964   \n",
       "1      0.143927  -0.062734   0.127002   0.049976  -0.086409   0.016862   \n",
       "2     -0.292316  -0.328552   0.389849   0.009098  -0.191274   0.004799   \n",
       "3     -0.409835  -0.297088   0.062504   0.123028   0.112664   0.175903   \n",
       "4      0.195190  -0.183320   0.034640   0.149443  -0.214998  -0.022542   \n",
       "...         ...        ...        ...        ...        ...        ...   \n",
       "7805  -0.108087   0.108928   0.135450   0.083520  -0.140160  -0.111718   \n",
       "7806  -0.153999  -0.169101  -0.167884   0.034443   0.004447   0.011665   \n",
       "7807  -0.146550   0.081214   0.197146   0.141567  -0.099794  -0.178773   \n",
       "7808   0.100661   0.036428  -0.025210   0.028554   0.010087   0.016879   \n",
       "7809  -0.052082   0.077006   0.166255   0.205816  -0.042960  -0.019972   \n",
       "\n",
       "      MFCC-10_d2  MFCC-11_d2  \n",
       "0      -0.034327   -0.045887  \n",
       "1      -0.080224    0.008735  \n",
       "2      -0.089539   -0.059719  \n",
       "3      -0.137256    0.002436  \n",
       "4      -0.047958   -0.059465  \n",
       "...          ...         ...  \n",
       "7805   -0.050962    0.014016  \n",
       "7806   -0.033949   -0.111250  \n",
       "7807   -0.165446   -0.054257  \n",
       "7808    0.001489   -0.045411  \n",
       "7809   -0.059085   -0.040287  \n",
       "\n",
       "[7797 rows x 40 columns]"
      ],
      "text/html": "<div>\n<style scoped>\n    .dataframe tbody tr th:only-of-type {\n        vertical-align: middle;\n    }\n\n    .dataframe tbody tr th {\n        vertical-align: top;\n    }\n\n    .dataframe thead th {\n        text-align: right;\n    }\n</style>\n<table border=\"1\" class=\"dataframe\">\n  <thead>\n    <tr style=\"text-align: right;\">\n      <th></th>\n      <th>Type</th>\n      <th>Jitter</th>\n      <th>Shimmer</th>\n      <th>HNR</th>\n      <th>MFCC-0</th>\n      <th>MFCC-1</th>\n      <th>MFCC-2</th>\n      <th>MFCC-3</th>\n      <th>MFCC-4</th>\n      <th>MFCC-5</th>\n      <th>...</th>\n      <th>MFCC-2_d2</th>\n      <th>MFCC-3_d2</th>\n      <th>MFCC-4_d2</th>\n      <th>MFCC-5_d2</th>\n      <th>MFCC-6_d2</th>\n      <th>MFCC-7_d2</th>\n      <th>MFCC-8_d2</th>\n      <th>MFCC-9_d2</th>\n      <th>MFCC-10_d2</th>\n      <th>MFCC-11_d2</th>\n    </tr>\n  </thead>\n  <tbody>\n    <tr>\n      <th>0</th>\n      <td>healthy</td>\n      <td>1.164692</td>\n      <td>0.042058</td>\n      <td>24.772758</td>\n      <td>21.736319</td>\n      <td>17.458524</td>\n      <td>7.820948</td>\n      <td>3.013962</td>\n      <td>-0.112737</td>\n      <td>-1.432067</td>\n      <td>...</td>\n      <td>0.702141</td>\n      <td>0.270776</td>\n      <td>-0.009505</td>\n      <td>-0.128288</td>\n      <td>-0.186863</td>\n      <td>-0.080942</td>\n      <td>-0.100158</td>\n      <td>-0.020964</td>\n      <td>-0.034327</td>\n      <td>-0.045887</td>\n    </tr>\n    <tr>\n      <th>1</th>\n      <td>healthy</td>\n      <td>0.155393</td>\n      <td>0.011061</td>\n      <td>26.922863</td>\n      <td>23.644426</td>\n      <td>10.189441</td>\n      <td>4.770982</td>\n      <td>5.767449</td>\n      <td>1.589007</td>\n      <td>-0.705619</td>\n      <td>...</td>\n      <td>0.430543</td>\n      <td>0.518259</td>\n      <td>0.143927</td>\n      <td>-0.062734</td>\n      <td>0.127002</td>\n      <td>0.049976</td>\n      <td>-0.086409</td>\n      <td>0.016862</td>\n      <td>-0.080224</td>\n      <td>0.008735</td>\n    </tr>\n    <tr>\n      <th>2</th>\n      <td>healthy</td>\n      <td>0.224576</td>\n      <td>0.027684</td>\n      <td>27.151732</td>\n      <td>22.485759</td>\n      <td>17.417019</td>\n      <td>2.881103</td>\n      <td>-1.048527</td>\n      <td>-3.289772</td>\n      <td>-3.634941</td>\n      <td>...</td>\n      <td>0.264445</td>\n      <td>-0.091457</td>\n      <td>-0.292316</td>\n      <td>-0.328552</td>\n      <td>0.389849</td>\n      <td>0.009098</td>\n      <td>-0.191274</td>\n      <td>0.004799</td>\n      <td>-0.089539</td>\n      <td>-0.059719</td>\n    </tr>\n    <tr>\n      <th>3</th>\n      <td>healthy</td>\n      <td>0.498826</td>\n      <td>0.038859</td>\n      <td>20.022510</td>\n      <td>22.026267</td>\n      <td>15.125506</td>\n      <td>0.457665</td>\n      <td>-1.227691</td>\n      <td>-4.545792</td>\n      <td>-3.290087</td>\n      <td>...</td>\n      <td>0.047697</td>\n      <td>-0.107558</td>\n      <td>-0.409835</td>\n      <td>-0.297088</td>\n      <td>0.062504</td>\n      <td>0.123028</td>\n      <td>0.112664</td>\n      <td>0.175903</td>\n      <td>-0.137256</td>\n      <td>0.002436</td>\n    </tr>\n    <tr>\n      <th>4</th>\n      <td>healthy</td>\n      <td>0.532008</td>\n      <td>0.023150</td>\n      <td>22.705093</td>\n      <td>22.937200</td>\n      <td>8.484145</td>\n      <td>6.262272</td>\n      <td>6.895974</td>\n      <td>2.157817</td>\n      <td>-2.048918</td>\n      <td>...</td>\n      <td>0.562402</td>\n      <td>0.618542</td>\n      <td>0.195190</td>\n      <td>-0.183320</td>\n      <td>0.034640</td>\n      <td>0.149443</td>\n      <td>-0.214998</td>\n      <td>-0.022542</td>\n      <td>-0.047958</td>\n      <td>-0.059465</td>\n    </tr>\n    <tr>\n      <th>...</th>\n      <td>...</td>\n      <td>...</td>\n      <td>...</td>\n      <td>...</td>\n      <td>...</td>\n      <td>...</td>\n      <td>...</td>\n      <td>...</td>\n      <td>...</td>\n      <td>...</td>\n      <td>...</td>\n      <td>...</td>\n      <td>...</td>\n      <td>...</td>\n      <td>...</td>\n      <td>...</td>\n      <td>...</td>\n      <td>...</td>\n      <td>...</td>\n      <td>...</td>\n      <td>...</td>\n    </tr>\n    <tr>\n      <th>7805</th>\n      <td>psychogenic</td>\n      <td>0.100698</td>\n      <td>0.010602</td>\n      <td>32.236174</td>\n      <td>23.574362</td>\n      <td>15.892063</td>\n      <td>-2.114620</td>\n      <td>-4.102555</td>\n      <td>-1.148606</td>\n      <td>1.280938</td>\n      <td>...</td>\n      <td>-0.179323</td>\n      <td>-0.369967</td>\n      <td>-0.108087</td>\n      <td>0.108928</td>\n      <td>0.135450</td>\n      <td>0.083520</td>\n      <td>-0.140160</td>\n      <td>-0.111718</td>\n      <td>-0.050962</td>\n      <td>0.014016</td>\n    </tr>\n    <tr>\n      <th>7806</th>\n      <td>psychogenic</td>\n      <td>0.201356</td>\n      <td>0.015767</td>\n      <td>31.531414</td>\n      <td>22.511361</td>\n      <td>19.340193</td>\n      <td>8.954125</td>\n      <td>1.877514</td>\n      <td>-1.738897</td>\n      <td>-1.887560</td>\n      <td>...</td>\n      <td>0.790288</td>\n      <td>0.167677</td>\n      <td>-0.153999</td>\n      <td>-0.169101</td>\n      <td>-0.167884</td>\n      <td>0.034443</td>\n      <td>0.004447</td>\n      <td>0.011665</td>\n      <td>-0.033949</td>\n      <td>-0.111250</td>\n    </tr>\n    <tr>\n      <th>7807</th>\n      <td>psychogenic</td>\n      <td>0.281613</td>\n      <td>0.026882</td>\n      <td>28.802297</td>\n      <td>24.383547</td>\n      <td>15.528880</td>\n      <td>1.116797</td>\n      <td>-2.067196</td>\n      <td>-1.588425</td>\n      <td>0.926335</td>\n      <td>...</td>\n      <td>0.104059</td>\n      <td>-0.186318</td>\n      <td>-0.146550</td>\n      <td>0.081214</td>\n      <td>0.197146</td>\n      <td>0.141567</td>\n      <td>-0.099794</td>\n      <td>-0.178773</td>\n      <td>-0.165446</td>\n      <td>-0.054257</td>\n    </tr>\n    <tr>\n      <th>7808</th>\n      <td>psychogenic</td>\n      <td>0.389981</td>\n      <td>0.039966</td>\n      <td>23.895287</td>\n      <td>20.848472</td>\n      <td>14.195569</td>\n      <td>5.796031</td>\n      <td>3.136148</td>\n      <td>1.123970</td>\n      <td>0.395815</td>\n      <td>...</td>\n      <td>0.518428</td>\n      <td>0.280540</td>\n      <td>0.100661</td>\n      <td>0.036428</td>\n      <td>-0.025210</td>\n      <td>0.028554</td>\n      <td>0.010087</td>\n      <td>0.016879</td>\n      <td>0.001489</td>\n      <td>-0.045411</td>\n    </tr>\n    <tr>\n      <th>7809</th>\n      <td>psychogenic</td>\n      <td>0.448863</td>\n      <td>0.024517</td>\n      <td>23.677346</td>\n      <td>22.389438</td>\n      <td>15.538402</td>\n      <td>0.791573</td>\n      <td>-1.888707</td>\n      <td>-0.632643</td>\n      <td>0.797177</td>\n      <td>...</td>\n      <td>0.075558</td>\n      <td>-0.168073</td>\n      <td>-0.052082</td>\n      <td>0.077006</td>\n      <td>0.166255</td>\n      <td>0.205816</td>\n      <td>-0.042960</td>\n      <td>-0.019972</td>\n      <td>-0.059085</td>\n      <td>-0.040287</td>\n    </tr>\n  </tbody>\n</table>\n<p>7797 rows × 40 columns</p>\n</div>"
     },
     "metadata": {},
     "execution_count": 28
    }
   ],
   "source": [
    "df = df.dropna()\n",
    "df"
   ]
  },
  {
   "cell_type": "code",
   "execution_count": 29,
   "metadata": {
    "tags": []
   },
   "outputs": [
    {
     "output_type": "stream",
     "name": "stdout",
     "text": [
      "['functional', 'healthy', 'hyperfunctional', 'organic', 'psychogenic']\n[1 1 1 ... 4 4 4]\n"
     ]
    }
   ],
   "source": [
    "# Create a label encoder object \n",
    "le = preprocessing.LabelEncoder()\n",
    "\n",
    "# Fit the encoder object (le) to a pandas field with categorical data\n",
    "le.fit(df['Type'])\n",
    "\n",
    "# Display labels\n",
    "target_names = list(le.classes_)\n",
    "print(target_names)\n",
    "\n",
    "# Apply the label encoder object to a pandas column\n",
    "dys_target = le.transform(df['Type']) \n",
    "print(dys_target)"
   ]
  },
  {
   "cell_type": "code",
   "execution_count": 30,
   "metadata": {},
   "outputs": [
    {
     "output_type": "execute_result",
     "data": {
      "text/plain": [
       "array([[ 1.16469189e+00,  4.20582023e-02,  2.47727582e+01, ...,\n",
       "        -2.09642153e-02, -3.43266953e-02, -4.58868171e-02],\n",
       "       [ 1.55393233e-01,  1.10610539e-02,  2.69228625e+01, ...,\n",
       "         1.68624838e-02, -8.02244829e-02,  8.73499195e-03],\n",
       "       [ 2.24575675e-01,  2.76841952e-02,  2.71517319e+01, ...,\n",
       "         4.79900276e-03, -8.95387159e-02, -5.97190317e-02],\n",
       "       ...,\n",
       "       [ 2.81612943e-01,  2.68821093e-02,  2.88022972e+01, ...,\n",
       "        -1.78773138e-01, -1.65446490e-01, -5.42571710e-02],\n",
       "       [ 3.89981061e-01,  3.99658038e-02,  2.38952866e+01, ...,\n",
       "         1.68786166e-02,  1.48940394e-03, -4.54111531e-02],\n",
       "       [ 4.48863314e-01,  2.45174528e-02,  2.36773463e+01, ...,\n",
       "        -1.99717098e-02, -5.90851406e-02, -4.02867081e-02]])"
      ]
     },
     "metadata": {},
     "execution_count": 30
    }
   ],
   "source": [
    "dys_data = df.drop(columns=\"Type\").to_numpy()\n",
    "dys_data"
   ]
  },
  {
   "cell_type": "code",
   "execution_count": 31,
   "metadata": {},
   "outputs": [],
   "source": [
    "x = dys_data\n",
    "y = dys_target"
   ]
  },
  {
   "cell_type": "code",
   "execution_count": 32,
   "metadata": {},
   "outputs": [],
   "source": [
    "x_train, x_test, y_train, y_test = sklearn.model_selection.train_test_split(x, y, test_size=0.2)"
   ]
  },
  {
   "cell_type": "code",
   "execution_count": 39,
   "metadata": {
    "tags": []
   },
   "outputs": [
    {
     "output_type": "stream",
     "name": "stdout",
     "text": [
      "Linear Accuracy: 0.40897435897435896\n"
     ]
    }
   ],
   "source": [
    "clf = svm.SVC(kernel=\"linear\", )\n",
    "clf.fit(x_train, y_train)\n",
    "y_pred = clf.predict(x_test)\n",
    "acc = metrics.accuracy_score(y_test, y_pred)\n",
    "print(\"Linear Accuracy:\", acc)"
   ]
  },
  {
   "cell_type": "code",
   "execution_count": 40,
   "metadata": {},
   "outputs": [
    {
     "output_type": "execute_result",
     "data": {
      "text/plain": [
       "(array([], dtype=int64), array([], dtype=int64))"
      ]
     },
     "metadata": {},
     "execution_count": 40
    }
   ],
   "source": [
    "import numpy as np\n",
    "np.where(np.isnan(x))"
   ]
  },
  {
   "cell_type": "code",
   "execution_count": null,
   "metadata": {},
   "outputs": [],
   "source": []
  }
 ],
 "metadata": {
  "kernelspec": {
   "display_name": "Python 3.8.1 64-bit ('3.8.1': pyenv)",
   "language": "python",
   "name": "python38164bit381pyenvc0e1d4fb139e4c8d8bbd1bcf9c4ee977"
  },
  "language_info": {
   "codemirror_mode": {
    "name": "ipython",
    "version": 3
   },
   "file_extension": ".py",
   "mimetype": "text/x-python",
   "name": "python",
   "nbconvert_exporter": "python",
   "pygments_lexer": "ipython3",
   "version": "3.8.1-final"
  }
 },
 "nbformat": 4,
 "nbformat_minor": 4
}