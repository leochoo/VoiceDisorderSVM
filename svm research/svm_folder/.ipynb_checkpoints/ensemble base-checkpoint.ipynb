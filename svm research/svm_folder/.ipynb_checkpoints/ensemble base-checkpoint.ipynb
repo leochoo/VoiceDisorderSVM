{
 "cells": [
  {
   "cell_type": "code",
   "execution_count": 1,
   "metadata": {},
   "outputs": [
    {
     "name": "stderr",
     "output_type": "stream",
     "text": [
      "/Users/leochoo/.pyenv/versions/3.8.1/lib/python3.8/site-packages/pandas/compat/__init__.py:117: UserWarning: Could not import the lzma module. Your installed Python is incomplete. Attempting to use lzma compression will result in a RuntimeError.\n",
      "  warnings.warn(msg)\n"
     ]
    }
   ],
   "source": [
    "import re\n",
    "import numpy as np\n",
    "import pandas as pd\n",
    "import support\n",
    "# from sklearn import datasetsd\n",
    "from sklearn.model_selection import KFold, cross_validate\n",
    "from sklearn.svm import SVC, SVR\n",
    "from sklearn.gaussian_process import GaussianProcessClassifier, GaussianProcessRegressor\n",
    "from sklearn.neighbors import KNeighborsClassifier, KNeighborsRegressor\n",
    "from sklearn.neural_network import MLPClassifier, MLPRegressor\n"
   ]
  },
  {
   "cell_type": "code",
   "execution_count": 2,
   "metadata": {},
   "outputs": [],
   "source": [
    "# ベンチマークとなるアルゴリズムと、アルゴリズムを実装したモデルの一覧\n",
    "models = [ \n",
    "    ( 'SVM', SVC( random_state=1 ), SVR() ), \n",
    "    ( 'GaussianProcess', GaussianProcessClassifier( random_state=1 ),\n",
    "        GaussianProcessRegressor( normalize_y=True, alpha=1, random_state=1 ) ), \n",
    "    ( 'KNeighbors', KNeighborsClassifier(), KNeighborsRegressor() ), \n",
    "    ( 'MLP', MLPClassifier( random_state=1 ),\n",
    "        MLPRegressor( hidden_layer_sizes=( 5 ), solver='lbfgs', random_state=1 ) ), \n",
    "     ]\n",
    "# ベンチマークとなるアルゴリズムと、アルゴリズムを実装したモデルの一覧\n",
    "models2 = [ \n",
    "    ( 'SVM', SVC( random_state=1 ), SVR() )     ]"
   ]
  },
  {
   "cell_type": "code",
   "execution_count": 3,
   "metadata": {},
   "outputs": [],
   "source": [
    "# 検証用データセットのファイルと、ファイルの区切り文字、\n",
    "# ヘッダーとなる行の位置、インデックスとなる列の位置のリスト\n",
    "# iris = datasets.load_iris()\n",
    "classifier_files = [ 'ensem.data']\n",
    "classifier_params = [ ( ',', None, None ) ]"
   ]
  },
  {
   "cell_type": "code",
   "execution_count": 4,
   "metadata": {},
   "outputs": [],
   "source": [
    "# 評価スコアを、検証用データセットのファイル、アルゴリズム毎に保存する表\n",
    "result = pd.DataFrame( columns=[ 'target', 'function' ] + [ m[ 0 ] for m in models ],\n",
    "                        index=range( len( classifier_files ) * 2 ) )"
   ]
  },
  {
   "cell_type": "code",
   "execution_count": 5,
   "metadata": {},
   "outputs": [],
   "source": [
    "# 最初にクラス分類アルゴリズムを評価する\n",
    "ncol = 0\n",
    "for i, ( c, p ) in enumerate( zip( classifier_files, classifier_params ) ):\n",
    "    # ファイルを読み込む\n",
    "    df = pd.read_csv( c, sep=p[ 0 ], header=p[ 1 ], index_col=p[ 2 ] )\n",
    "    x = df[ df.columns[ :-1 ] ].values\n",
    "    # ラベルを、ラベルの番号と、そのラベルに属する可能性の配列で表現する\n",
    "    y, clz = support.clz_to_prob( df[ df.columns[ -1 ] ] )\t\n",
    "#     print(y, clz)\n",
    "\n",
    "    # 結果の表にファイル名からデータセットの種類と、評価関数用の行を作る\n",
    "    result.loc[ ncol, 'target' ] = re.split( r'[._]', c )[ 0 ]\n",
    "    result.loc[ ncol + 1, 'target' ] = ''\n",
    "    result.loc[ ncol, 'function' ] = 'F1Score'\n",
    "    result.loc[ ncol + 1, 'function' ] = 'Accuracy'\n",
    "\n",
    "    # 全てのアルゴリズムを評価する\n",
    "    for l, c_m, r_m in models:\n",
    "        # Scikit-learnの関数で交差検証した結果のスコアを取得する\n",
    "        kf = KFold( n_splits=5, random_state=1, shuffle=True )\n",
    "        s = cross_validate( c_m, x, y.argmax( axis=1), cv=kf, scoring=( 'f1_weighted', 'accuracy' ) )\n",
    "        result.loc[ ncol, l ] = np.mean( s[ 'test_f1_weighted' ] )\n",
    "        result.loc[ ncol + 1, l ] = np.mean( s[ 'test_accuracy' ] )\n",
    "    ncol += 2"
   ]
  },
  {
   "cell_type": "code",
   "execution_count": 6,
   "metadata": {},
   "outputs": [
    {
     "name": "stdout",
     "output_type": "stream",
     "text": [
      "  target  function       SVM GaussianProcess KNeighbors       MLP\n",
      "0  ensem   F1Score  0.713123        0.708134   0.784212  0.668878\n",
      "1         Accuracy  0.721655        0.699927   0.784773  0.720665\n"
     ]
    }
   ],
   "source": [
    "# 結果を保存\n",
    "print( result )"
   ]
  },
  {
   "cell_type": "code",
   "execution_count": null,
   "metadata": {},
   "outputs": [],
   "source": []
  }
 ],
 "metadata": {
  "kernelspec": {
   "display_name": "Python 3",
   "language": "python",
   "name": "python3"
  },
  "language_info": {
   "codemirror_mode": {
    "name": "ipython",
    "version": 3
   },
   "file_extension": ".py",
   "mimetype": "text/x-python",
   "name": "python",
   "nbconvert_exporter": "python",
   "pygments_lexer": "ipython3",
   "version": "3.9.1"
  }
 },
 "nbformat": 4,
 "nbformat_minor": 4
}
