{
 "cells": [
  {
   "cell_type": "code",
   "execution_count": 32,
   "metadata": {},
   "outputs": [
    {
     "output_type": "stream",
     "name": "stdout",
     "text": [
      "\u001b[1m\u001b[36mfunctional\u001b[m\u001b[m      \u001b[1m\u001b[36mhyperfunctional\u001b[m\u001b[m \u001b[1m\u001b[36morganic\u001b[m\u001b[m         \u001b[1m\u001b[36mpsychogenic\u001b[m\u001b[m\n"
     ]
    }
   ],
   "source": [
    "# initialize\n",
    "from tqdm import tqdm\n",
    "from time import sleep\n",
    "\n",
    "import glob\n",
    "import parselmouth\n",
    "import pandas as pd\n",
    "import numpy as np\n",
    "import matplotlib.pyplot as plt\n",
    "import seaborn as sns\n",
    "import os\n",
    "\n",
    "!ls {patho_path}"
   ]
  },
  {
   "cell_type": "code",
   "execution_count": 33,
   "metadata": {},
   "outputs": [],
   "source": [
    "# Process wav files to get Jitter, Shimmer, HNR, and MFCC\n",
    "\n",
    "def get_voice_data(_path):\n",
    "    # select .wav files only\n",
    "    wav_files = glob.glob(_path + \"/*.wav\")\n",
    "\n",
    "    n_list = []\n",
    "    tone_list = []\n",
    "    syllab_list = []\n",
    "\n",
    "    j_list = []\n",
    "    s_list = []\n",
    "    h_list = []\n",
    "\n",
    "    # for wav_file in wav_files:\n",
    "    for wav_file in tqdm(wav_files): # tqdm shows the progress bar\n",
    "        sound = parselmouth.Sound(wav_file) # sound object from wav file\n",
    "        pitch = sound.to_pitch()\n",
    "        pulses = parselmouth.praat.call([sound, pitch], \"To PointProcess (cc)\")\n",
    "\n",
    "        # name analysis\n",
    "        name = os.path.basename(wav_file).split(\".\")[0]  \n",
    "        \n",
    "        ## tone\n",
    "        if \"l\" in name:\n",
    "            tone_list.append(\"l\")\n",
    "        elif \"n\" in name:\n",
    "            tone_list.append(\"n\")\n",
    "        elif \"h\" in name:\n",
    "            tone_list.append(\"h\")\n",
    "\n",
    "        ## syllable\n",
    "        if \"a\" in name:\n",
    "            syllab_list.append(\"a\")\n",
    "        elif \"i\" in name:\n",
    "            syllab_list.append(\"i\")\n",
    "        elif \"u\" in name:\n",
    "            syllab_list.append(\"u\")\n",
    "        # jitter\n",
    "        jitter_local = parselmouth.praat.call(pulses, \"Get jitter (local)\", 0.0, 0.0, 0.0001, 0.02, 1.3) * 100\n",
    "\n",
    "        # shimmer\n",
    "        shimmer_local = parselmouth.praat.call([sound, pulses], \"Get shimmer (local)\", 0, 0, 0.0001, 0.02, 1.3, 1.6)\n",
    "\n",
    "        # HNR\n",
    "        harmonicity = parselmouth.praat.call(sound, \"To Harmonicity (cc)\", 0.01, 75, 0.1, 1.0)\n",
    "        hnr = parselmouth.praat.call(harmonicity, \"Get mean\", 0, 0)\n",
    "        \n",
    "        # Append to numpy array\n",
    "        n_list.append(name)\n",
    "        j_list.append(jitter_local)\n",
    "        s_list.append(shimmer_local)\n",
    "        h_list.append(hnr)\n",
    "\n",
    "        # MFCC\n",
    "        mfcc_object = sound.to_mfcc(number_of_coefficients=13)\n",
    "        mfcc_arr = mfcc_object.to_array()\n",
    "        mfcc_dic = {}\n",
    "        for i in range(1,len(mfcc_arr)):\n",
    "            mfcc_dic[\"MFCC-\"+str(i)] = mfcc_arr[i]\n",
    "        mfcc_df = pd.DataFrame.from_dict(mfcc_dic)\n",
    "\n",
    "    # create dataframe\n",
    "    df = pd.DataFrame({\"Name\":pd.Series(n_list),\n",
    "                        \"Type\": np.nan,\n",
    "                        \"Tone\": pd.Series(tone_list),\n",
    "                        \"Syllab\": pd.Series(syllab_list),\n",
    "                           \"Jitter\":pd.Series(j_list),\n",
    "                           \"Shimmer\":pd.Series(s_list),\n",
    "                           \"HNR\":pd.Series(h_list)})\n",
    "    df[\"Type\"]= _path.split(\"/\")[-1] # identify type: my_data, healthy, functional etc...\n",
    "    new_df = pd.concat([df, mfcc_df], axis=1, sort=False)\n",
    "    new_df = new_df.dropna() # some data are missing jitter, shimmer, hnr for some reason it seems..?\n",
    "    return new_df\n"
   ]
  },
  {
   "cell_type": "code",
   "execution_count": 34,
   "metadata": {},
   "outputs": [],
   "source": [
    "def generate_jshmfcc(dataset_type, dataset_path):\n",
    "    healthy_df = get_voice_data(dataset_path + \"/healthy\")\n",
    "    functional_df = get_voice_data(dataset_path + \"/pathological/functional\")\n",
    "    hyperfunctional_df = get_voice_data(dataset_path + \"/pathological/hyperfunctional\")\n",
    "    organic_df = get_voice_data(dataset_path + \"/pathological/organic\")\n",
    "    psychogenic_df = get_voice_data(dataset_path + \"/pathological/psychogenic\")\n",
    "\n",
    "    # Combine the results into one dataframe\n",
    "    frames = [healthy_df, functional_df, hyperfunctional_df, organic_df, psychogenic_df]\n",
    "    combined_df = pd.concat(frames)\n",
    "    combined_df = combined_df.dropna()\n",
    "    return combined_df\n"
   ]
  },
  {
   "cell_type": "code",
   "execution_count": 35,
   "metadata": {},
   "outputs": [],
   "source": [
    "# filepath for the test and train datasets\n",
    "test_path = \"/Users/leochoo/dev/VoiceDisorderSVM/data/SVD/test_audio\"\n",
    "train_path = \"/Users/leochoo/dev/VoiceDisorderSVM/data/SVD/train_audio\""
   ]
  },
  {
   "cell_type": "code",
   "execution_count": 36,
   "metadata": {},
   "outputs": [
    {
     "output_type": "stream",
     "name": "stderr",
     "text": [
      "100%|██████████| 18/18 [00:01<00:00,  9.24it/s]\n",
      "100%|██████████| 18/18 [00:01<00:00, 10.82it/s]\n",
      "100%|██████████| 18/18 [00:02<00:00,  8.96it/s]\n",
      "100%|██████████| 18/18 [00:02<00:00,  8.33it/s]\n",
      "100%|██████████| 27/27 [00:02<00:00,  9.88it/s]\n"
     ]
    },
    {
     "output_type": "execute_result",
     "data": {
      "text/plain": [
       "       Name         Type Tone Syllab    Jitter   Shimmer        HNR  \\\n",
       "0     1-i_l      healthy    l      i  0.238779  0.019045  19.410768   \n",
       "1     2-u_h      healthy    h      u  0.349111  0.023441  28.655604   \n",
       "2     1-i_n      healthy    n      i  0.209544  0.007423  26.996682   \n",
       "3     2-u_l      healthy    l      u  1.069854  0.041115  25.108378   \n",
       "4     2-u_n      healthy    n      u  0.413457  0.031538  24.573556   \n",
       "..      ...          ...  ...    ...       ...       ...        ...   \n",
       "22  151-a_l  psychogenic    l      a  0.100698  0.010602  32.236174   \n",
       "23  366-u_n  psychogenic    n      u  0.201356  0.015767  31.531414   \n",
       "24  741-a_h  psychogenic    h      a  0.281613  0.026882  28.802297   \n",
       "25  366-u_l  psychogenic    l      u  0.389981  0.039966  23.895287   \n",
       "26  151-a_n  psychogenic    n      a  0.448863  0.024517  23.677346   \n",
       "\n",
       "        MFCC-1      MFCC-2     MFCC-3      MFCC-4     MFCC-5      MFCC-6  \\\n",
       "0   401.683204 -106.091207 -16.204958 -177.451287 -80.432412 -167.325435   \n",
       "1   405.945214 -107.319951  -6.467390 -168.654549 -83.775023 -164.000390   \n",
       "2   412.992202 -105.668520   4.367001 -173.748357 -77.660894 -151.323178   \n",
       "3   414.991160  -97.516727  14.790359 -171.141081 -67.202782 -142.208466   \n",
       "4   406.918197  -86.251020  10.266493 -182.298364 -60.985385 -148.072712   \n",
       "..         ...         ...        ...         ...        ...         ...   \n",
       "22  542.278005   -8.265111 -30.852985 -106.179846 -30.792265  -22.565280   \n",
       "23  536.969358   -3.689975 -21.333714 -120.413892 -17.823602  -23.398328   \n",
       "24  536.136757   -8.291563 -18.436971 -128.908856 -12.679275  -27.813144   \n",
       "25  543.660395    0.800456 -29.287699 -121.155722 -10.923893  -32.041889   \n",
       "26  539.588810   10.567431 -35.510372 -116.747291  -1.859557  -38.852202   \n",
       "\n",
       "       MFCC-7     MFCC-8     MFCC-9    MFCC-10    MFCC-11    MFCC-12  \\\n",
       "0  -70.950945  60.705756 -18.078235 -92.995773 -13.111788  -4.964332   \n",
       "1  -57.471754  48.452583  -6.290534 -82.880371 -21.278743  10.481437   \n",
       "2  -68.017679  71.309964 -10.580220 -88.565720  -7.091164   3.198551   \n",
       "3  -72.015559  82.295822  -4.728251 -89.755092   6.052225  -1.277937   \n",
       "4  -66.949520  75.605251  -3.342546 -89.780277  -3.320846   8.403894   \n",
       "..        ...        ...        ...        ...        ...        ...   \n",
       "22 -42.890834  29.361151  26.303133 -40.181743 -47.681269  38.188908   \n",
       "23 -48.960628  31.284078  32.925703 -45.128236 -41.538127  34.274904   \n",
       "24 -46.305927  37.134118  20.319001 -47.234094 -41.778117  34.873738   \n",
       "25 -46.673164  35.578120  20.406814 -39.499129 -40.591833  23.920612   \n",
       "26 -43.809195  38.984126  15.390072 -32.285179 -42.601299  21.982354   \n",
       "\n",
       "      MFCC-13  \n",
       "0  -29.427566  \n",
       "1  -38.131368  \n",
       "2  -33.208541  \n",
       "3  -27.437695  \n",
       "4  -32.433375  \n",
       "..        ...  \n",
       "22 -16.714789  \n",
       "23 -24.623071  \n",
       "24 -26.046758  \n",
       "25 -20.058146  \n",
       "26 -10.771525  \n",
       "\n",
       "[99 rows x 20 columns]"
      ],
      "text/html": "<div>\n<style scoped>\n    .dataframe tbody tr th:only-of-type {\n        vertical-align: middle;\n    }\n\n    .dataframe tbody tr th {\n        vertical-align: top;\n    }\n\n    .dataframe thead th {\n        text-align: right;\n    }\n</style>\n<table border=\"1\" class=\"dataframe\">\n  <thead>\n    <tr style=\"text-align: right;\">\n      <th></th>\n      <th>Name</th>\n      <th>Type</th>\n      <th>Tone</th>\n      <th>Syllab</th>\n      <th>Jitter</th>\n      <th>Shimmer</th>\n      <th>HNR</th>\n      <th>MFCC-1</th>\n      <th>MFCC-2</th>\n      <th>MFCC-3</th>\n      <th>MFCC-4</th>\n      <th>MFCC-5</th>\n      <th>MFCC-6</th>\n      <th>MFCC-7</th>\n      <th>MFCC-8</th>\n      <th>MFCC-9</th>\n      <th>MFCC-10</th>\n      <th>MFCC-11</th>\n      <th>MFCC-12</th>\n      <th>MFCC-13</th>\n    </tr>\n  </thead>\n  <tbody>\n    <tr>\n      <th>0</th>\n      <td>1-i_l</td>\n      <td>healthy</td>\n      <td>l</td>\n      <td>i</td>\n      <td>0.238779</td>\n      <td>0.019045</td>\n      <td>19.410768</td>\n      <td>401.683204</td>\n      <td>-106.091207</td>\n      <td>-16.204958</td>\n      <td>-177.451287</td>\n      <td>-80.432412</td>\n      <td>-167.325435</td>\n      <td>-70.950945</td>\n      <td>60.705756</td>\n      <td>-18.078235</td>\n      <td>-92.995773</td>\n      <td>-13.111788</td>\n      <td>-4.964332</td>\n      <td>-29.427566</td>\n    </tr>\n    <tr>\n      <th>1</th>\n      <td>2-u_h</td>\n      <td>healthy</td>\n      <td>h</td>\n      <td>u</td>\n      <td>0.349111</td>\n      <td>0.023441</td>\n      <td>28.655604</td>\n      <td>405.945214</td>\n      <td>-107.319951</td>\n      <td>-6.467390</td>\n      <td>-168.654549</td>\n      <td>-83.775023</td>\n      <td>-164.000390</td>\n      <td>-57.471754</td>\n      <td>48.452583</td>\n      <td>-6.290534</td>\n      <td>-82.880371</td>\n      <td>-21.278743</td>\n      <td>10.481437</td>\n      <td>-38.131368</td>\n    </tr>\n    <tr>\n      <th>2</th>\n      <td>1-i_n</td>\n      <td>healthy</td>\n      <td>n</td>\n      <td>i</td>\n      <td>0.209544</td>\n      <td>0.007423</td>\n      <td>26.996682</td>\n      <td>412.992202</td>\n      <td>-105.668520</td>\n      <td>4.367001</td>\n      <td>-173.748357</td>\n      <td>-77.660894</td>\n      <td>-151.323178</td>\n      <td>-68.017679</td>\n      <td>71.309964</td>\n      <td>-10.580220</td>\n      <td>-88.565720</td>\n      <td>-7.091164</td>\n      <td>3.198551</td>\n      <td>-33.208541</td>\n    </tr>\n    <tr>\n      <th>3</th>\n      <td>2-u_l</td>\n      <td>healthy</td>\n      <td>l</td>\n      <td>u</td>\n      <td>1.069854</td>\n      <td>0.041115</td>\n      <td>25.108378</td>\n      <td>414.991160</td>\n      <td>-97.516727</td>\n      <td>14.790359</td>\n      <td>-171.141081</td>\n      <td>-67.202782</td>\n      <td>-142.208466</td>\n      <td>-72.015559</td>\n      <td>82.295822</td>\n      <td>-4.728251</td>\n      <td>-89.755092</td>\n      <td>6.052225</td>\n      <td>-1.277937</td>\n      <td>-27.437695</td>\n    </tr>\n    <tr>\n      <th>4</th>\n      <td>2-u_n</td>\n      <td>healthy</td>\n      <td>n</td>\n      <td>u</td>\n      <td>0.413457</td>\n      <td>0.031538</td>\n      <td>24.573556</td>\n      <td>406.918197</td>\n      <td>-86.251020</td>\n      <td>10.266493</td>\n      <td>-182.298364</td>\n      <td>-60.985385</td>\n      <td>-148.072712</td>\n      <td>-66.949520</td>\n      <td>75.605251</td>\n      <td>-3.342546</td>\n      <td>-89.780277</td>\n      <td>-3.320846</td>\n      <td>8.403894</td>\n      <td>-32.433375</td>\n    </tr>\n    <tr>\n      <th>...</th>\n      <td>...</td>\n      <td>...</td>\n      <td>...</td>\n      <td>...</td>\n      <td>...</td>\n      <td>...</td>\n      <td>...</td>\n      <td>...</td>\n      <td>...</td>\n      <td>...</td>\n      <td>...</td>\n      <td>...</td>\n      <td>...</td>\n      <td>...</td>\n      <td>...</td>\n      <td>...</td>\n      <td>...</td>\n      <td>...</td>\n      <td>...</td>\n      <td>...</td>\n    </tr>\n    <tr>\n      <th>22</th>\n      <td>151-a_l</td>\n      <td>psychogenic</td>\n      <td>l</td>\n      <td>a</td>\n      <td>0.100698</td>\n      <td>0.010602</td>\n      <td>32.236174</td>\n      <td>542.278005</td>\n      <td>-8.265111</td>\n      <td>-30.852985</td>\n      <td>-106.179846</td>\n      <td>-30.792265</td>\n      <td>-22.565280</td>\n      <td>-42.890834</td>\n      <td>29.361151</td>\n      <td>26.303133</td>\n      <td>-40.181743</td>\n      <td>-47.681269</td>\n      <td>38.188908</td>\n      <td>-16.714789</td>\n    </tr>\n    <tr>\n      <th>23</th>\n      <td>366-u_n</td>\n      <td>psychogenic</td>\n      <td>n</td>\n      <td>u</td>\n      <td>0.201356</td>\n      <td>0.015767</td>\n      <td>31.531414</td>\n      <td>536.969358</td>\n      <td>-3.689975</td>\n      <td>-21.333714</td>\n      <td>-120.413892</td>\n      <td>-17.823602</td>\n      <td>-23.398328</td>\n      <td>-48.960628</td>\n      <td>31.284078</td>\n      <td>32.925703</td>\n      <td>-45.128236</td>\n      <td>-41.538127</td>\n      <td>34.274904</td>\n      <td>-24.623071</td>\n    </tr>\n    <tr>\n      <th>24</th>\n      <td>741-a_h</td>\n      <td>psychogenic</td>\n      <td>h</td>\n      <td>a</td>\n      <td>0.281613</td>\n      <td>0.026882</td>\n      <td>28.802297</td>\n      <td>536.136757</td>\n      <td>-8.291563</td>\n      <td>-18.436971</td>\n      <td>-128.908856</td>\n      <td>-12.679275</td>\n      <td>-27.813144</td>\n      <td>-46.305927</td>\n      <td>37.134118</td>\n      <td>20.319001</td>\n      <td>-47.234094</td>\n      <td>-41.778117</td>\n      <td>34.873738</td>\n      <td>-26.046758</td>\n    </tr>\n    <tr>\n      <th>25</th>\n      <td>366-u_l</td>\n      <td>psychogenic</td>\n      <td>l</td>\n      <td>u</td>\n      <td>0.389981</td>\n      <td>0.039966</td>\n      <td>23.895287</td>\n      <td>543.660395</td>\n      <td>0.800456</td>\n      <td>-29.287699</td>\n      <td>-121.155722</td>\n      <td>-10.923893</td>\n      <td>-32.041889</td>\n      <td>-46.673164</td>\n      <td>35.578120</td>\n      <td>20.406814</td>\n      <td>-39.499129</td>\n      <td>-40.591833</td>\n      <td>23.920612</td>\n      <td>-20.058146</td>\n    </tr>\n    <tr>\n      <th>26</th>\n      <td>151-a_n</td>\n      <td>psychogenic</td>\n      <td>n</td>\n      <td>a</td>\n      <td>0.448863</td>\n      <td>0.024517</td>\n      <td>23.677346</td>\n      <td>539.588810</td>\n      <td>10.567431</td>\n      <td>-35.510372</td>\n      <td>-116.747291</td>\n      <td>-1.859557</td>\n      <td>-38.852202</td>\n      <td>-43.809195</td>\n      <td>38.984126</td>\n      <td>15.390072</td>\n      <td>-32.285179</td>\n      <td>-42.601299</td>\n      <td>21.982354</td>\n      <td>-10.771525</td>\n    </tr>\n  </tbody>\n</table>\n<p>99 rows × 20 columns</p>\n</div>"
     },
     "metadata": {},
     "execution_count": 36
    }
   ],
   "source": [
    "# generate voice report for test dataset\n",
    "test_report = generate_jshmfcc(\"test\", test_path)\n",
    "test_report"
   ]
  },
  {
   "cell_type": "code",
   "execution_count": 37,
   "metadata": {},
   "outputs": [
    {
     "output_type": "stream",
     "name": "stderr",
     "text": [
      "100%|██████████| 3141/3141 [05:13<00:00, 10.02it/s]\n",
      "100%|██████████| 990/990 [01:12<00:00, 13.60it/s]\n",
      "100%|██████████| 1898/1898 [02:34<00:00, 12.25it/s]\n",
      "100%|██████████| 891/891 [01:15<00:00, 11.80it/s]\n",
      "100%|██████████| 792/792 [01:58<00:00,  6.71it/s]\n"
     ]
    },
    {
     "output_type": "execute_result",
     "data": {
      "text/plain": [
       "         Name         Type Tone Syllab    Jitter   Shimmer        HNR  \\\n",
       "0     743-u_n      healthy    n      u  1.164692  0.042058  24.772758   \n",
       "1      56-i_n      healthy    n      i  0.155393  0.011061  26.922863   \n",
       "2      39-a_l      healthy    l      a  0.224576  0.027684  27.151732   \n",
       "3      29-a_l      healthy    l      a  0.498826  0.038859  20.022510   \n",
       "4      46-i_n      healthy    n      i  0.532008  0.023150  22.705093   \n",
       "..        ...          ...  ...    ...       ...       ...        ...   \n",
       "221  2213-u_n  psychogenic    n      u  0.705847  0.031420  31.770763   \n",
       "222  1384-a_h  psychogenic    h      a  0.391448  0.030339  22.419719   \n",
       "223  2526-u_h  psychogenic    h      u  1.114191  0.066075  19.596194   \n",
       "224  2107-u_n  psychogenic    n      u  0.724640  0.021346  28.980100   \n",
       "225  1566-u_l  psychogenic    l      u  0.262400  0.015741  29.029352   \n",
       "\n",
       "         MFCC-1      MFCC-2      MFCC-3      MFCC-4      MFCC-5     MFCC-6  \\\n",
       "0    517.867690  157.285453  -67.337663  -75.557579  -47.383544 -35.418313   \n",
       "1    507.653534  146.597634  -51.805445  -67.727368  -51.745891 -42.226560   \n",
       "2    519.698504  138.201660  -75.513161  -55.364543  -29.771235 -46.565257   \n",
       "3    512.159853  128.304605  -53.085907  -59.688275  -45.695365 -33.831168   \n",
       "4    520.859534  137.339353  -66.339532  -72.067937  -37.852838 -29.106708   \n",
       "..          ...         ...         ...         ...         ...        ...   \n",
       "221  430.996203   22.751481  165.731823  115.509842  117.175360  32.165182   \n",
       "222  415.754965   58.695049  162.040128  117.238511  120.276357  30.181962   \n",
       "223  416.033054   24.016344  163.129059  114.941535  131.034301  20.795789   \n",
       "224  411.106020   35.644724  165.359706  111.082177  129.588425  33.879828   \n",
       "225  422.346553   15.419901  169.538447  123.197772  120.779266  21.349913   \n",
       "\n",
       "        MFCC-7      MFCC-8     MFCC-9    MFCC-10    MFCC-11    MFCC-12  \\\n",
       "0    28.738609   29.240641  -3.077040  -8.491168 -37.546175  16.018237   \n",
       "1    39.406267   17.952366  -4.490649  -5.343768 -46.048275  34.265482   \n",
       "2    28.243726   11.190055  -3.965739  11.588003 -44.706164  22.710550   \n",
       "3    15.513842   17.563326   3.432073   8.504941 -49.367170  21.904375   \n",
       "4    16.681151   18.563943   7.352762   7.298131 -52.548622  26.928928   \n",
       "..         ...         ...        ...        ...        ...        ...   \n",
       "221 -86.782371 -109.202137   6.666115  17.104409 -18.310357 -30.411579   \n",
       "222 -72.120151  -87.305744  21.471254  25.510606 -13.336603 -31.576838   \n",
       "223 -78.938331 -108.746561   4.004710  18.889512 -18.150885 -32.550457   \n",
       "224 -75.525073  -78.843720  17.038367  27.385695 -28.341914  -9.171042   \n",
       "225 -80.436477 -113.544820  16.572568  14.237733 -34.707009  -9.419584   \n",
       "\n",
       "       MFCC-13  \n",
       "0   -21.418999  \n",
       "1   -21.777943  \n",
       "2   -18.795814  \n",
       "3   -13.309917  \n",
       "4   -22.352170  \n",
       "..         ...  \n",
       "221 -29.861823  \n",
       "222 -24.068587  \n",
       "223 -29.587528  \n",
       "224 -22.513063  \n",
       "225 -41.270402  \n",
       "\n",
       "[1013 rows x 20 columns]"
      ],
      "text/html": "<div>\n<style scoped>\n    .dataframe tbody tr th:only-of-type {\n        vertical-align: middle;\n    }\n\n    .dataframe tbody tr th {\n        vertical-align: top;\n    }\n\n    .dataframe thead th {\n        text-align: right;\n    }\n</style>\n<table border=\"1\" class=\"dataframe\">\n  <thead>\n    <tr style=\"text-align: right;\">\n      <th></th>\n      <th>Name</th>\n      <th>Type</th>\n      <th>Tone</th>\n      <th>Syllab</th>\n      <th>Jitter</th>\n      <th>Shimmer</th>\n      <th>HNR</th>\n      <th>MFCC-1</th>\n      <th>MFCC-2</th>\n      <th>MFCC-3</th>\n      <th>MFCC-4</th>\n      <th>MFCC-5</th>\n      <th>MFCC-6</th>\n      <th>MFCC-7</th>\n      <th>MFCC-8</th>\n      <th>MFCC-9</th>\n      <th>MFCC-10</th>\n      <th>MFCC-11</th>\n      <th>MFCC-12</th>\n      <th>MFCC-13</th>\n    </tr>\n  </thead>\n  <tbody>\n    <tr>\n      <th>0</th>\n      <td>743-u_n</td>\n      <td>healthy</td>\n      <td>n</td>\n      <td>u</td>\n      <td>1.164692</td>\n      <td>0.042058</td>\n      <td>24.772758</td>\n      <td>517.867690</td>\n      <td>157.285453</td>\n      <td>-67.337663</td>\n      <td>-75.557579</td>\n      <td>-47.383544</td>\n      <td>-35.418313</td>\n      <td>28.738609</td>\n      <td>29.240641</td>\n      <td>-3.077040</td>\n      <td>-8.491168</td>\n      <td>-37.546175</td>\n      <td>16.018237</td>\n      <td>-21.418999</td>\n    </tr>\n    <tr>\n      <th>1</th>\n      <td>56-i_n</td>\n      <td>healthy</td>\n      <td>n</td>\n      <td>i</td>\n      <td>0.155393</td>\n      <td>0.011061</td>\n      <td>26.922863</td>\n      <td>507.653534</td>\n      <td>146.597634</td>\n      <td>-51.805445</td>\n      <td>-67.727368</td>\n      <td>-51.745891</td>\n      <td>-42.226560</td>\n      <td>39.406267</td>\n      <td>17.952366</td>\n      <td>-4.490649</td>\n      <td>-5.343768</td>\n      <td>-46.048275</td>\n      <td>34.265482</td>\n      <td>-21.777943</td>\n    </tr>\n    <tr>\n      <th>2</th>\n      <td>39-a_l</td>\n      <td>healthy</td>\n      <td>l</td>\n      <td>a</td>\n      <td>0.224576</td>\n      <td>0.027684</td>\n      <td>27.151732</td>\n      <td>519.698504</td>\n      <td>138.201660</td>\n      <td>-75.513161</td>\n      <td>-55.364543</td>\n      <td>-29.771235</td>\n      <td>-46.565257</td>\n      <td>28.243726</td>\n      <td>11.190055</td>\n      <td>-3.965739</td>\n      <td>11.588003</td>\n      <td>-44.706164</td>\n      <td>22.710550</td>\n      <td>-18.795814</td>\n    </tr>\n    <tr>\n      <th>3</th>\n      <td>29-a_l</td>\n      <td>healthy</td>\n      <td>l</td>\n      <td>a</td>\n      <td>0.498826</td>\n      <td>0.038859</td>\n      <td>20.022510</td>\n      <td>512.159853</td>\n      <td>128.304605</td>\n      <td>-53.085907</td>\n      <td>-59.688275</td>\n      <td>-45.695365</td>\n      <td>-33.831168</td>\n      <td>15.513842</td>\n      <td>17.563326</td>\n      <td>3.432073</td>\n      <td>8.504941</td>\n      <td>-49.367170</td>\n      <td>21.904375</td>\n      <td>-13.309917</td>\n    </tr>\n    <tr>\n      <th>4</th>\n      <td>46-i_n</td>\n      <td>healthy</td>\n      <td>n</td>\n      <td>i</td>\n      <td>0.532008</td>\n      <td>0.023150</td>\n      <td>22.705093</td>\n      <td>520.859534</td>\n      <td>137.339353</td>\n      <td>-66.339532</td>\n      <td>-72.067937</td>\n      <td>-37.852838</td>\n      <td>-29.106708</td>\n      <td>16.681151</td>\n      <td>18.563943</td>\n      <td>7.352762</td>\n      <td>7.298131</td>\n      <td>-52.548622</td>\n      <td>26.928928</td>\n      <td>-22.352170</td>\n    </tr>\n    <tr>\n      <th>...</th>\n      <td>...</td>\n      <td>...</td>\n      <td>...</td>\n      <td>...</td>\n      <td>...</td>\n      <td>...</td>\n      <td>...</td>\n      <td>...</td>\n      <td>...</td>\n      <td>...</td>\n      <td>...</td>\n      <td>...</td>\n      <td>...</td>\n      <td>...</td>\n      <td>...</td>\n      <td>...</td>\n      <td>...</td>\n      <td>...</td>\n      <td>...</td>\n      <td>...</td>\n    </tr>\n    <tr>\n      <th>221</th>\n      <td>2213-u_n</td>\n      <td>psychogenic</td>\n      <td>n</td>\n      <td>u</td>\n      <td>0.705847</td>\n      <td>0.031420</td>\n      <td>31.770763</td>\n      <td>430.996203</td>\n      <td>22.751481</td>\n      <td>165.731823</td>\n      <td>115.509842</td>\n      <td>117.175360</td>\n      <td>32.165182</td>\n      <td>-86.782371</td>\n      <td>-109.202137</td>\n      <td>6.666115</td>\n      <td>17.104409</td>\n      <td>-18.310357</td>\n      <td>-30.411579</td>\n      <td>-29.861823</td>\n    </tr>\n    <tr>\n      <th>222</th>\n      <td>1384-a_h</td>\n      <td>psychogenic</td>\n      <td>h</td>\n      <td>a</td>\n      <td>0.391448</td>\n      <td>0.030339</td>\n      <td>22.419719</td>\n      <td>415.754965</td>\n      <td>58.695049</td>\n      <td>162.040128</td>\n      <td>117.238511</td>\n      <td>120.276357</td>\n      <td>30.181962</td>\n      <td>-72.120151</td>\n      <td>-87.305744</td>\n      <td>21.471254</td>\n      <td>25.510606</td>\n      <td>-13.336603</td>\n      <td>-31.576838</td>\n      <td>-24.068587</td>\n    </tr>\n    <tr>\n      <th>223</th>\n      <td>2526-u_h</td>\n      <td>psychogenic</td>\n      <td>h</td>\n      <td>u</td>\n      <td>1.114191</td>\n      <td>0.066075</td>\n      <td>19.596194</td>\n      <td>416.033054</td>\n      <td>24.016344</td>\n      <td>163.129059</td>\n      <td>114.941535</td>\n      <td>131.034301</td>\n      <td>20.795789</td>\n      <td>-78.938331</td>\n      <td>-108.746561</td>\n      <td>4.004710</td>\n      <td>18.889512</td>\n      <td>-18.150885</td>\n      <td>-32.550457</td>\n      <td>-29.587528</td>\n    </tr>\n    <tr>\n      <th>224</th>\n      <td>2107-u_n</td>\n      <td>psychogenic</td>\n      <td>n</td>\n      <td>u</td>\n      <td>0.724640</td>\n      <td>0.021346</td>\n      <td>28.980100</td>\n      <td>411.106020</td>\n      <td>35.644724</td>\n      <td>165.359706</td>\n      <td>111.082177</td>\n      <td>129.588425</td>\n      <td>33.879828</td>\n      <td>-75.525073</td>\n      <td>-78.843720</td>\n      <td>17.038367</td>\n      <td>27.385695</td>\n      <td>-28.341914</td>\n      <td>-9.171042</td>\n      <td>-22.513063</td>\n    </tr>\n    <tr>\n      <th>225</th>\n      <td>1566-u_l</td>\n      <td>psychogenic</td>\n      <td>l</td>\n      <td>u</td>\n      <td>0.262400</td>\n      <td>0.015741</td>\n      <td>29.029352</td>\n      <td>422.346553</td>\n      <td>15.419901</td>\n      <td>169.538447</td>\n      <td>123.197772</td>\n      <td>120.779266</td>\n      <td>21.349913</td>\n      <td>-80.436477</td>\n      <td>-113.544820</td>\n      <td>16.572568</td>\n      <td>14.237733</td>\n      <td>-34.707009</td>\n      <td>-9.419584</td>\n      <td>-41.270402</td>\n    </tr>\n  </tbody>\n</table>\n<p>1013 rows × 20 columns</p>\n</div>"
     },
     "metadata": {},
     "execution_count": 37
    }
   ],
   "source": [
    "# generate voice report for train dataset\n",
    "train_report = generate_jshmfcc(\"train\", train_path)\n",
    "train_report"
   ]
  },
  {
   "cell_type": "code",
   "execution_count": 38,
   "metadata": {},
   "outputs": [
    {
     "output_type": "stream",
     "name": "stdout",
     "text": [
      "Test data exported\nTrain data exported\n"
     ]
    }
   ],
   "source": [
    "# Save the outputs to the processed data directory\n",
    "test_report.to_csv (\"./data/processed/test_SVD_j_s_hnr_mfcc.csv\", index = False, header=True)\n",
    "print(\"Test data exported\")\n",
    "train_report.to_csv (\"./data/processed/train_SVD_j_s_hnr_mfcc.csv\", index = False, header=True)\n",
    "print(\"Train data exported\")\n",
    "\n"
   ]
  },
  {
   "cell_type": "code",
   "execution_count": null,
   "metadata": {},
   "outputs": [],
   "source": []
  }
 ],
 "metadata": {
  "kernelspec": {
   "display_name": "Python 3.8.1 64-bit ('3.8.1': pyenv)",
   "language": "python",
   "name": "python38164bit381pyenvc0e1d4fb139e4c8d8bbd1bcf9c4ee977"
  },
  "language_info": {
   "codemirror_mode": {
    "name": "ipython",
    "version": 3
   },
   "file_extension": ".py",
   "mimetype": "text/x-python",
   "name": "python",
   "nbconvert_exporter": "python",
   "pygments_lexer": "ipython3",
   "version": "3.8.1-final"
  }
 },
 "nbformat": 4,
 "nbformat_minor": 4
}