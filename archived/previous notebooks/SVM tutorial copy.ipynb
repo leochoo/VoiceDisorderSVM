{
 "cells": [
  {
   "cell_type": "code",
   "execution_count": 1,
   "metadata": {
    "tags": []
   },
   "outputs": [],
   "source": [
    "# initialize\n",
    "import glob\n",
    "import parselmouth\n",
    "import pandas as pd\n",
    "import numpy as np\n",
    "import matplotlib.pyplot as plt\n",
    "import seaborn as sns\n",
    "import os\n",
    "\n",
    "# filepath for the dataset\n",
    "# root = \"/Users/leochoo/dev/GP2-dev/SVD\"\n",
    "root = \"./testSVD\"\n",
    "\n",
    "my_data_path = root + \"/my_data\"\n",
    "healthy_path = root + \"/healthy\"\n",
    "patho_path = root + \"/pathological\"\n",
    "\n"
   ]
  },
  {
   "cell_type": "code",
   "execution_count": 2,
   "metadata": {},
   "outputs": [],
   "source": [
    "from tqdm import tqdm\n",
    "from time import sleep\n",
    "\n",
    "def get_voice_data(_path):\n",
    "    # select .wav files only\n",
    "    wav_files = glob.glob(_path + \"/*.wav\")\n",
    "\n",
    "    n_list = []\n",
    "    tone_list = []\n",
    "    syllab_list = []\n",
    "\n",
    "    j_list = []\n",
    "    s_list = []\n",
    "    h_list = []\n",
    "\n",
    "    # for wav_file in wav_files:\n",
    "    for wav_file in tqdm(wav_files): # tqdm shows the progress bar\n",
    "        sound = parselmouth.Sound(wav_file) # sound object from wav file\n",
    "        pitch = sound.to_pitch()\n",
    "        pulses = parselmouth.praat.call([sound, pitch], \"To PointProcess (cc)\")\n",
    "\n",
    "        # name analysis\n",
    "        name = os.path.basename(wav_file).split(\".\")[0]  \n",
    "        \n",
    "        ## tone\n",
    "        if \"l\" in name:\n",
    "            tone_list.append(\"l\")\n",
    "        elif \"n\" in name:\n",
    "            tone_list.append(\"n\")\n",
    "        elif \"h\" in name:\n",
    "            tone_list.append(\"h\")\n",
    "\n",
    "        ## syllable\n",
    "        if \"a\" in name:\n",
    "            syllab_list.append(\"a\")\n",
    "        elif \"i\" in name:\n",
    "            syllab_list.append(\"i\")\n",
    "        elif \"u\" in name:\n",
    "            syllab_list.append(\"u\")\n",
    "        # jitter\n",
    "        jitter_local = parselmouth.praat.call(pulses, \"Get jitter (local)\", 0.0, 0.0, 0.0001, 0.02, 1.3) * 100\n",
    "\n",
    "        # shimmer\n",
    "        shimmer_local = parselmouth.praat.call([sound, pulses], \"Get shimmer (local)\", 0, 0, 0.0001, 0.02, 1.3, 1.6)\n",
    "\n",
    "        # HNR\n",
    "        harmonicity = parselmouth.praat.call(sound, \"To Harmonicity (cc)\", 0.01, 75, 0.1, 1.0)\n",
    "        hnr = parselmouth.praat.call(harmonicity, \"Get mean\", 0, 0)\n",
    "\n",
    "        # Append to dataframe\n",
    "        n_list.append(name)\n",
    "        j_list.append(jitter_local)\n",
    "        s_list.append(shimmer_local)\n",
    "        h_list.append(hnr)\n",
    "\n",
    "\n",
    "    # create dataframe\n",
    "    df = pd.DataFrame({\"Name\":pd.Series(n_list),\n",
    "                        \"Type\": np.nan,\n",
    "                        \"Tone\": pd.Series(tone_list),\n",
    "                        \"Syllab\": pd.Series(syllab_list),\n",
    "                           \"Jitter\":pd.Series(j_list),\n",
    "                           \"Shimmer\":pd.Series(s_list),\n",
    "                           \"HNR\":pd.Series(h_list)})\n",
    "    df[\"Type\"]= _path.split(\"/\")[-1] # identify type: my_data, healthy, functional etc...\n",
    "    df = df.dropna()\n",
    "    return df\n"
   ]
  },
  {
   "cell_type": "code",
   "execution_count": 3,
   "metadata": {
    "tags": []
   },
   "outputs": [
    {
     "output_type": "stream",
     "name": "stderr",
     "text": "100%|██████████| 9/9 [00:02<00:00,  3.90it/s]\n100%|██████████| 18/18 [00:01<00:00, 10.37it/s]\n100%|██████████| 18/18 [00:01<00:00, 14.18it/s]\n100%|██████████| 18/18 [00:01<00:00, 11.07it/s]\n100%|██████████| 18/18 [00:01<00:00, 10.68it/s]\n100%|██████████| 27/27 [00:02<00:00, 11.51it/s]\n"
    }
   ],
   "source": [
    "# get data and show dataframe\n",
    "my_data_df = get_voice_data(my_data_path)\n",
    "my_data_df.head()\n",
    "\n",
    "healthy_df = get_voice_data(healthy_path)\n",
    "healthy_df.head()\n",
    "\n",
    "functional_df = get_voice_data(patho_path + \"/functional\")\n",
    "functional_df.head()\n",
    "\n",
    "hyperfunctional_df = get_voice_data(patho_path + \"/hyperfunctional\")\n",
    "hyperfunctional_df.head()\n",
    "\n",
    "organic_df = get_voice_data(patho_path + \"/organic\")\n",
    "organic_df.head()\n",
    "\n",
    "psychogenic_df = get_voice_data(patho_path + \"/psychogenic\")"
   ]
  },
  {
   "cell_type": "code",
   "execution_count": 4,
   "metadata": {
    "tags": []
   },
   "outputs": [
    {
     "output_type": "stream",
     "name": "stdout",
     "text": "Type    Jitter   Shimmer        HNR\n13      healthy  0.500103  0.024036  25.397455\n15      healthy  0.191396  0.010283  29.784809\n6   psychogenic  0.508194  0.076313  20.207709\n19  psychogenic  0.254183  0.030982  27.394054\n22  psychogenic  0.100698  0.010602  32.236174\n"
    }
   ],
   "source": [
    "# Combine to one dataframe\n",
    "frames = [my_data_df, healthy_df, functional_df, hyperfunctional_df, organic_df, psychogenic_df]\n",
    "new_df = pd.concat(frames)\n",
    "\n",
    "df2 = new_df.loc[ (new_df[\"Type\"].isin([\"healthy\", \"psychogenic\"])) & (new_df[\"Tone\"] == \"l\") & (new_df[\"Syllab\"] == \"a\")]\n",
    "\n",
    "df2 = df2.drop(columns=[\"Name\", \"Syllab\", \"Tone\"])\n",
    "print(df2)\n",
    "df2.to_csv (\"./SVM-test.csv\", index = False, header=True)"
   ]
  },
  {
   "cell_type": "code",
   "execution_count": 5,
   "metadata": {},
   "outputs": [
    {
     "output_type": "execute_result",
     "data": {
      "text/plain": "           Type    Jitter   Shimmer        HNR\n13      healthy  0.500103  0.024036  25.397455\n15      healthy  0.191396  0.010283  29.784809\n6   psychogenic  0.508194  0.076313  20.207709\n19  psychogenic  0.254183  0.030982  27.394054\n22  psychogenic  0.100698  0.010602  32.236174",
      "text/html": "<div>\n<style scoped>\n    .dataframe tbody tr th:only-of-type {\n        vertical-align: middle;\n    }\n\n    .dataframe tbody tr th {\n        vertical-align: top;\n    }\n\n    .dataframe thead th {\n        text-align: right;\n    }\n</style>\n<table border=\"1\" class=\"dataframe\">\n  <thead>\n    <tr style=\"text-align: right;\">\n      <th></th>\n      <th>Type</th>\n      <th>Jitter</th>\n      <th>Shimmer</th>\n      <th>HNR</th>\n    </tr>\n  </thead>\n  <tbody>\n    <tr>\n      <th>13</th>\n      <td>healthy</td>\n      <td>0.500103</td>\n      <td>0.024036</td>\n      <td>25.397455</td>\n    </tr>\n    <tr>\n      <th>15</th>\n      <td>healthy</td>\n      <td>0.191396</td>\n      <td>0.010283</td>\n      <td>29.784809</td>\n    </tr>\n    <tr>\n      <th>6</th>\n      <td>psychogenic</td>\n      <td>0.508194</td>\n      <td>0.076313</td>\n      <td>20.207709</td>\n    </tr>\n    <tr>\n      <th>19</th>\n      <td>psychogenic</td>\n      <td>0.254183</td>\n      <td>0.030982</td>\n      <td>27.394054</td>\n    </tr>\n    <tr>\n      <th>22</th>\n      <td>psychogenic</td>\n      <td>0.100698</td>\n      <td>0.010602</td>\n      <td>32.236174</td>\n    </tr>\n  </tbody>\n</table>\n</div>"
     },
     "metadata": {},
     "execution_count": 5
    }
   ],
   "source": [
    "df2"
   ]
  },
  {
   "cell_type": "code",
   "execution_count": 6,
   "metadata": {},
   "outputs": [],
   "source": [
    "from sklearn import preprocessing"
   ]
  },
  {
   "cell_type": "code",
   "execution_count": 7,
   "metadata": {},
   "outputs": [
    {
     "output_type": "execute_result",
     "data": {
      "text/plain": "           Type    Jitter   Shimmer        HNR\n13      healthy  0.500103  0.024036  25.397455\n15      healthy  0.191396  0.010283  29.784809\n6   psychogenic  0.508194  0.076313  20.207709\n19  psychogenic  0.254183  0.030982  27.394054\n22  psychogenic  0.100698  0.010602  32.236174",
      "text/html": "<div>\n<style scoped>\n    .dataframe tbody tr th:only-of-type {\n        vertical-align: middle;\n    }\n\n    .dataframe tbody tr th {\n        vertical-align: top;\n    }\n\n    .dataframe thead th {\n        text-align: right;\n    }\n</style>\n<table border=\"1\" class=\"dataframe\">\n  <thead>\n    <tr style=\"text-align: right;\">\n      <th></th>\n      <th>Type</th>\n      <th>Jitter</th>\n      <th>Shimmer</th>\n      <th>HNR</th>\n    </tr>\n  </thead>\n  <tbody>\n    <tr>\n      <th>13</th>\n      <td>healthy</td>\n      <td>0.500103</td>\n      <td>0.024036</td>\n      <td>25.397455</td>\n    </tr>\n    <tr>\n      <th>15</th>\n      <td>healthy</td>\n      <td>0.191396</td>\n      <td>0.010283</td>\n      <td>29.784809</td>\n    </tr>\n    <tr>\n      <th>6</th>\n      <td>psychogenic</td>\n      <td>0.508194</td>\n      <td>0.076313</td>\n      <td>20.207709</td>\n    </tr>\n    <tr>\n      <th>19</th>\n      <td>psychogenic</td>\n      <td>0.254183</td>\n      <td>0.030982</td>\n      <td>27.394054</td>\n    </tr>\n    <tr>\n      <th>22</th>\n      <td>psychogenic</td>\n      <td>0.100698</td>\n      <td>0.010602</td>\n      <td>32.236174</td>\n    </tr>\n  </tbody>\n</table>\n</div>"
     },
     "metadata": {},
     "execution_count": 7
    }
   ],
   "source": [
    "# DataFrame\n",
    "df = df2\n",
    "df"
   ]
  },
  {
   "cell_type": "code",
   "execution_count": 8,
   "metadata": {
    "tags": []
   },
   "outputs": [
    {
     "output_type": "stream",
     "name": "stdout",
     "text": "['healthy', 'psychogenic']\n[0 0 1 1 1]\n"
    }
   ],
   "source": [
    "# Create a label encoder object \n",
    "le = preprocessing.LabelEncoder()\n",
    "\n",
    "# Fit the encoder object (le) to a pandas field with categorical data\n",
    "le.fit(df['Type'])\n",
    "\n",
    "# Display labels\n",
    "target_names = list(le.classes_)\n",
    "print(target_names)\n",
    "\n",
    "# Apply the label encoder object to a pandas column\n",
    "target = le.transform(df['Type']) \n",
    "print(target)"
   ]
  },
  {
   "cell_type": "code",
   "execution_count": 9,
   "metadata": {},
   "outputs": [
    {
     "output_type": "execute_result",
     "data": {
      "text/plain": "array([['healthy', 0.500102816369531, 0.024036225774085925,\n        25.397455359821695],\n       ['healthy', 0.19139558297122258, 0.010282564013034588,\n        29.78480857188873],\n       ['psychogenic', 0.5081939318651092, 0.07631295781041869,\n        20.20770904112686],\n       ['psychogenic', 0.2541834020608468, 0.030982325505674573,\n        27.39405365843068],\n       ['psychogenic', 0.10069827522321767, 0.01060182061650396,\n        32.236174254178074]], dtype=object)"
     },
     "metadata": {},
     "execution_count": 9
    }
   ],
   "source": [
    "data = df.to_numpy()\n",
    "data"
   ]
  },
  {
   "cell_type": "code",
   "execution_count": 10,
   "metadata": {
    "tags": []
   },
   "outputs": [
    {
     "output_type": "execute_result",
     "data": {
      "text/plain": "array(['Type', 'Jitter', 'Shimmer', 'HNR'], dtype=object)"
     },
     "metadata": {},
     "execution_count": 10
    }
   ],
   "source": [
    "feature_names = df.columns.values\n",
    "feature_names"
   ]
  },
  {
   "cell_type": "code",
   "execution_count": 11,
   "metadata": {},
   "outputs": [
    {
     "output_type": "execute_result",
     "data": {
      "text/plain": "array([[0.  , 0.98, 0.21, 0.43],\n       [0.  , 0.22, 0.  , 0.8 ],\n       [1.  , 1.  , 1.  , 0.  ],\n       [1.  , 0.38, 0.31, 0.6 ],\n       [1.  , 0.  , 0.  , 1.  ]])"
     },
     "metadata": {},
     "execution_count": 11
    }
   ],
   "source": [
    "# Processed\n",
    "from sklearn_pandas import DataFrameMapper, cross_val_score\n",
    "import sklearn.preprocessing, sklearn.decomposition, sklearn.linear_model, sklearn.pipeline, sklearn.metrics\n",
    "from sklearn.feature_extraction.text import CountVectorizer\n",
    "mapper = DataFrameMapper([('Type', sklearn.preprocessing.LabelBinarizer()), (['Jitter', 'Shimmer', 'HNR'], sklearn.preprocessing.MinMaxScaler(feature_range=(0,1)))])\n",
    "mapper\n",
    "dysphonia = np.round(mapper.fit_transform(df.copy()), 2)\n",
    "dysphonia"
   ]
  },
  {
   "cell_type": "code",
   "execution_count": 12,
   "metadata": {},
   "outputs": [],
   "source": [
    "import sklearn\n",
    "from sklearn import datasets\n",
    "from sklearn import svm\n",
    "from sklearn import metrics"
   ]
  },
  {
   "cell_type": "code",
   "execution_count": 13,
   "metadata": {},
   "outputs": [
    {
     "output_type": "error",
     "ename": "NameError",
     "evalue": "name 'cancer' is not defined",
     "traceback": [
      "\u001b[0;31m---------------------------------------------------------------------------\u001b[0m",
      "\u001b[0;31mNameError\u001b[0m                                 Traceback (most recent call last)",
      "\u001b[0;32m<ipython-input-13-09d5cddb43c4>\u001b[0m in \u001b[0;36m<module>\u001b[0;34m\u001b[0m\n\u001b[0;32m----> 1\u001b[0;31m \u001b[0mx\u001b[0m \u001b[0;34m=\u001b[0m \u001b[0mcancer\u001b[0m\u001b[0;34m.\u001b[0m\u001b[0mdata\u001b[0m\u001b[0;34m\u001b[0m\u001b[0;34m\u001b[0m\u001b[0m\n\u001b[0m\u001b[1;32m      2\u001b[0m \u001b[0my\u001b[0m \u001b[0;34m=\u001b[0m \u001b[0mcancer\u001b[0m\u001b[0;34m.\u001b[0m\u001b[0mtarget\u001b[0m\u001b[0;34m\u001b[0m\u001b[0;34m\u001b[0m\u001b[0m\n",
      "\u001b[0;31mNameError\u001b[0m: name 'cancer' is not defined"
     ]
    }
   ],
   "source": [
    "x = cancer.data\n",
    "y = cancer.target"
   ]
  },
  {
   "cell_type": "code",
   "execution_count": 14,
   "metadata": {},
   "outputs": [
    {
     "output_type": "error",
     "ename": "NameError",
     "evalue": "name 'x' is not defined",
     "traceback": [
      "\u001b[0;31m---------------------------------------------------------------------------\u001b[0m",
      "\u001b[0;31mNameError\u001b[0m                                 Traceback (most recent call last)",
      "\u001b[0;32m<ipython-input-14-bd29a22c0119>\u001b[0m in \u001b[0;36m<module>\u001b[0;34m\u001b[0m\n\u001b[0;32m----> 1\u001b[0;31m \u001b[0mx_train\u001b[0m\u001b[0;34m,\u001b[0m \u001b[0mx_test\u001b[0m\u001b[0;34m,\u001b[0m \u001b[0my_train\u001b[0m\u001b[0;34m,\u001b[0m \u001b[0my_test\u001b[0m \u001b[0;34m=\u001b[0m \u001b[0msklearn\u001b[0m\u001b[0;34m.\u001b[0m\u001b[0mmodel_selection\u001b[0m\u001b[0;34m.\u001b[0m\u001b[0mtrain_test_split\u001b[0m\u001b[0;34m(\u001b[0m\u001b[0mx\u001b[0m\u001b[0;34m,\u001b[0m \u001b[0my\u001b[0m\u001b[0;34m,\u001b[0m \u001b[0mtest_size\u001b[0m\u001b[0;34m=\u001b[0m\u001b[0;36m0.2\u001b[0m\u001b[0;34m)\u001b[0m\u001b[0;34m\u001b[0m\u001b[0;34m\u001b[0m\u001b[0m\n\u001b[0m",
      "\u001b[0;31mNameError\u001b[0m: name 'x' is not defined"
     ]
    }
   ],
   "source": [
    "x_train, x_test, y_train, y_test = sklearn.model_selection.train_test_split(x, y, test_size=0.2)"
   ]
  },
  {
   "cell_type": "code",
   "execution_count": 15,
   "metadata": {
    "tags": []
   },
   "outputs": [
    {
     "output_type": "error",
     "ename": "NameError",
     "evalue": "name 'x_train' is not defined",
     "traceback": [
      "\u001b[0;31m---------------------------------------------------------------------------\u001b[0m",
      "\u001b[0;31mNameError\u001b[0m                                 Traceback (most recent call last)",
      "\u001b[0;32m<ipython-input-15-f354cb27acde>\u001b[0m in \u001b[0;36m<module>\u001b[0;34m\u001b[0m\n\u001b[0;32m----> 1\u001b[0;31m \u001b[0mprint\u001b[0m\u001b[0;34m(\u001b[0m\u001b[0mx_train\u001b[0m\u001b[0;34m,\u001b[0m \u001b[0my_train\u001b[0m\u001b[0;34m)\u001b[0m\u001b[0;34m\u001b[0m\u001b[0;34m\u001b[0m\u001b[0m\n\u001b[0m",
      "\u001b[0;31mNameError\u001b[0m: name 'x_train' is not defined"
     ]
    }
   ],
   "source": [
    "print(x_train, y_train)"
   ]
  },
  {
   "cell_type": "code",
   "execution_count": 16,
   "metadata": {},
   "outputs": [],
   "source": [
    "classes = ['malignant', 'benign']"
   ]
  },
  {
   "cell_type": "code",
   "execution_count": 17,
   "metadata": {
    "tags": []
   },
   "outputs": [
    {
     "output_type": "error",
     "ename": "NameError",
     "evalue": "name 'x_train' is not defined",
     "traceback": [
      "\u001b[0;31m---------------------------------------------------------------------------\u001b[0m",
      "\u001b[0;31mNameError\u001b[0m                                 Traceback (most recent call last)",
      "\u001b[0;32m<ipython-input-17-b2aff421ec56>\u001b[0m in \u001b[0;36m<module>\u001b[0;34m\u001b[0m\n\u001b[1;32m      1\u001b[0m \u001b[0mclf\u001b[0m \u001b[0;34m=\u001b[0m \u001b[0msvm\u001b[0m\u001b[0;34m.\u001b[0m\u001b[0mSVC\u001b[0m\u001b[0;34m(\u001b[0m\u001b[0mkernel\u001b[0m\u001b[0;34m=\u001b[0m\u001b[0;34m\"linear\"\u001b[0m\u001b[0;34m,\u001b[0m \u001b[0mC\u001b[0m\u001b[0;34m=\u001b[0m\u001b[0;36m7\u001b[0m\u001b[0;34m)\u001b[0m\u001b[0;34m\u001b[0m\u001b[0;34m\u001b[0m\u001b[0m\n\u001b[0;32m----> 2\u001b[0;31m \u001b[0mclf\u001b[0m\u001b[0;34m.\u001b[0m\u001b[0mfit\u001b[0m\u001b[0;34m(\u001b[0m\u001b[0mx_train\u001b[0m\u001b[0;34m,\u001b[0m \u001b[0my_train\u001b[0m\u001b[0;34m)\u001b[0m\u001b[0;34m\u001b[0m\u001b[0;34m\u001b[0m\u001b[0m\n\u001b[0m\u001b[1;32m      3\u001b[0m \u001b[0my_pred\u001b[0m \u001b[0;34m=\u001b[0m \u001b[0mclf\u001b[0m\u001b[0;34m.\u001b[0m\u001b[0mpredict\u001b[0m\u001b[0;34m(\u001b[0m\u001b[0mx_test\u001b[0m\u001b[0;34m)\u001b[0m\u001b[0;34m\u001b[0m\u001b[0;34m\u001b[0m\u001b[0m\n\u001b[1;32m      4\u001b[0m \u001b[0macc\u001b[0m \u001b[0;34m=\u001b[0m \u001b[0mmetrics\u001b[0m\u001b[0;34m.\u001b[0m\u001b[0maccuracy_score\u001b[0m\u001b[0;34m(\u001b[0m\u001b[0my_test\u001b[0m\u001b[0;34m,\u001b[0m \u001b[0my_pred\u001b[0m\u001b[0;34m)\u001b[0m\u001b[0;34m\u001b[0m\u001b[0;34m\u001b[0m\u001b[0m\n\u001b[1;32m      5\u001b[0m \u001b[0mprint\u001b[0m\u001b[0;34m(\u001b[0m\u001b[0macc\u001b[0m\u001b[0;34m)\u001b[0m\u001b[0;34m\u001b[0m\u001b[0;34m\u001b[0m\u001b[0m\n",
      "\u001b[0;31mNameError\u001b[0m: name 'x_train' is not defined"
     ]
    }
   ],
   "source": [
    "clf = svm.SVC(kernel=\"linear\", C=7)\n",
    "clf.fit(x_train, y_train)\n",
    "y_pred = clf.predict(x_test)\n",
    "acc = metrics.accuracy_score(y_test, y_pred)\n",
    "print(acc)"
   ]
  },
  {
   "cell_type": "code",
   "execution_count": 18,
   "metadata": {
    "tags": []
   },
   "outputs": [
    {
     "output_type": "error",
     "ename": "NameError",
     "evalue": "name 'x_train' is not defined",
     "traceback": [
      "\u001b[0;31m---------------------------------------------------------------------------\u001b[0m",
      "\u001b[0;31mNameError\u001b[0m                                 Traceback (most recent call last)",
      "\u001b[0;32m<ipython-input-18-c6b32062b2ab>\u001b[0m in \u001b[0;36m<module>\u001b[0;34m\u001b[0m\n\u001b[1;32m      1\u001b[0m \u001b[0mclf\u001b[0m \u001b[0;34m=\u001b[0m \u001b[0msvm\u001b[0m\u001b[0;34m.\u001b[0m\u001b[0mSVC\u001b[0m\u001b[0;34m(\u001b[0m\u001b[0mkernel\u001b[0m\u001b[0;34m=\u001b[0m\u001b[0;34m\"poly\"\u001b[0m\u001b[0;34m,\u001b[0m \u001b[0mC\u001b[0m\u001b[0;34m=\u001b[0m\u001b[0;36m13\u001b[0m\u001b[0;34m)\u001b[0m\u001b[0;34m\u001b[0m\u001b[0;34m\u001b[0m\u001b[0m\n\u001b[0;32m----> 2\u001b[0;31m \u001b[0mclf\u001b[0m\u001b[0;34m.\u001b[0m\u001b[0mfit\u001b[0m\u001b[0;34m(\u001b[0m\u001b[0mx_train\u001b[0m\u001b[0;34m,\u001b[0m \u001b[0my_train\u001b[0m\u001b[0;34m)\u001b[0m\u001b[0;34m\u001b[0m\u001b[0;34m\u001b[0m\u001b[0m\n\u001b[0m\u001b[1;32m      3\u001b[0m \u001b[0my_pred\u001b[0m \u001b[0;34m=\u001b[0m \u001b[0mclf\u001b[0m\u001b[0;34m.\u001b[0m\u001b[0mpredict\u001b[0m\u001b[0;34m(\u001b[0m\u001b[0mx_test\u001b[0m\u001b[0;34m)\u001b[0m\u001b[0;34m\u001b[0m\u001b[0;34m\u001b[0m\u001b[0m\n\u001b[1;32m      4\u001b[0m \u001b[0macc\u001b[0m \u001b[0;34m=\u001b[0m \u001b[0mmetrics\u001b[0m\u001b[0;34m.\u001b[0m\u001b[0maccuracy_score\u001b[0m\u001b[0;34m(\u001b[0m\u001b[0my_test\u001b[0m\u001b[0;34m,\u001b[0m \u001b[0my_pred\u001b[0m\u001b[0;34m)\u001b[0m\u001b[0;34m\u001b[0m\u001b[0;34m\u001b[0m\u001b[0m\n\u001b[1;32m      5\u001b[0m \u001b[0mprint\u001b[0m\u001b[0;34m(\u001b[0m\u001b[0macc\u001b[0m\u001b[0;34m)\u001b[0m\u001b[0;34m\u001b[0m\u001b[0;34m\u001b[0m\u001b[0m\n",
      "\u001b[0;31mNameError\u001b[0m: name 'x_train' is not defined"
     ]
    }
   ],
   "source": [
    "clf = svm.SVC(kernel=\"poly\", C=13)\n",
    "clf.fit(x_train, y_train)\n",
    "y_pred = clf.predict(x_test)\n",
    "acc = metrics.accuracy_score(y_test, y_pred)\n",
    "print(acc)"
   ]
  },
  {
   "cell_type": "code",
   "execution_count": null,
   "metadata": {},
   "outputs": [],
   "source": []
  }
 ],
 "metadata": {
  "kernelspec": {
   "display_name": "Python 3.8.1 64-bit ('3.8.1': pyenv)",
   "language": "python",
   "name": "python38164bit381pyenvc0e1d4fb139e4c8d8bbd1bcf9c4ee977"
  },
  "language_info": {
   "codemirror_mode": {
    "name": "ipython",
    "version": 3
   },
   "file_extension": ".py",
   "mimetype": "text/x-python",
   "name": "python",
   "nbconvert_exporter": "python",
   "pygments_lexer": "ipython3",
   "version": "3.8.1-final"
  }
 },
 "nbformat": 4,
 "nbformat_minor": 4
}