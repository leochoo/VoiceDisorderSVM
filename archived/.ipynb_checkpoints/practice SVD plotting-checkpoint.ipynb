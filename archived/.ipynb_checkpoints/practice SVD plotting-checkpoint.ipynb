{
 "cells": [
  {
   "cell_type": "code",
   "execution_count": 90,
   "metadata": {
    "tags": []
   },
   "outputs": [
    {
     "name": "stdout",
     "output_type": "stream",
     "text": [
      "Jitter Plots.ipynb           \u001b[1m\u001b[36marchived\u001b[m\u001b[m\n",
      "README.md                    \u001b[1m\u001b[36mdata\u001b[m\u001b[m\n",
      "\u001b[1m\u001b[36mSVD\u001b[m\u001b[m                          praat.Collection\n",
      "SVD jitter shimmer hnr.ipynb \u001b[1m\u001b[36mscripts\u001b[m\u001b[m\n",
      "/Users/leochoo/dev/GP2-dev\n"
     ]
    }
   ],
   "source": [
    "!ls\n",
    "!pwd"
   ]
  },
  {
   "cell_type": "code",
   "execution_count": 91,
   "metadata": {
    "tags": []
   },
   "outputs": [
    {
     "name": "stdout",
     "output_type": "stream",
     "text": [
      "\u001b[1m\u001b[36mfunctional\u001b[m\u001b[m      \u001b[1m\u001b[36mhyperfunctional\u001b[m\u001b[m \u001b[1m\u001b[36morganic\u001b[m\u001b[m         \u001b[1m\u001b[36mpsychogenic\u001b[m\u001b[m\n",
      "./SVD/my_data\n"
     ]
    }
   ],
   "source": [
    "# initialize\n",
    "import glob\n",
    "import parselmouth\n",
    "import pandas as pd\n",
    "import numpy as np\n",
    "import matplotlib.pyplot as plt\n",
    "import seaborn as sns\n",
    "import os\n",
    "\n",
    "# filepath for the dataset\n",
    "# root = \"/Users/leochoo/dev/GP2-dev/SVD\"\n",
    "root = \"./SVD\"\n",
    "\n",
    "my_data_path = root + \"/my_data\"\n",
    "healthy_path = root + \"/healthy\"\n",
    "patho_path = root + \"/pathological\"\n",
    "\n",
    "!ls {patho}\n",
    "print(my_data_path)\n",
    "# on MacOS, it creates a hidden .DS_Store folder that only be shown using `ls -la` command. You should delete it to ge the code working! :)"
   ]
  },
  {
   "cell_type": "code",
   "execution_count": 93,
   "metadata": {},
   "outputs": [],
   "source": [
    "def get_voice_data(_path):\n",
    "    # select .wav files only\n",
    "    wav_files = glob.glob(_path + \"/*.wav\")\n",
    "\n",
    "    n_list = []\n",
    "    j_list = []\n",
    "    s_list = []\n",
    "    h_list = []\n",
    "\n",
    "    for wav_file in wav_files:\n",
    "        sound = parselmouth.Sound(wav_file) # sound object from wav file\n",
    "        pitch = sound.to_pitch()\n",
    "        pulses = parselmouth.praat.call([sound, pitch], \"To PointProcess (cc)\")\n",
    "\n",
    "        # jitter\n",
    "        jitter_local = parselmouth.praat.call(pulses, \"Get jitter (local)\", 0.0, 0.0, 0.0001, 0.02, 1.3) * 100\n",
    "\n",
    "        # shimmer\n",
    "        shimmer_local = parselmouth.praat.call([sound, pulses], \"Get shimmer (local)\", 0, 0, 0.0001, 0.02, 1.3, 1.6)\n",
    "\n",
    "        # HNR\n",
    "        harmonicity = parselmouth.praat.call(sound, \"To Harmonicity (cc)\", 0.01, 75, 0.1, 1.0)\n",
    "        hnr = parselmouth.praat.call(harmonicity, \"Get mean\", 0, 0)\n",
    "\n",
    "        # Append to dataframe\n",
    "        n_list.append(os.path.basename(wav_file))\n",
    "        j_list.append(jitter_local)\n",
    "        s_list.append(shimmer_local)\n",
    "        h_list.append(hnr)\n",
    "\n",
    "    # dataframe\n",
    "    df = pd.DataFrame({\"Name\":pd.Series(n_list),\n",
    "                           \"Jitter\":pd.Series(j_list),\n",
    "                           \"Shimmer\":pd.Series(s_list),\n",
    "                           \"HNR\":pd.Series(h_list)})\n",
    "    return df\n"
   ]
  },
  {
   "cell_type": "code",
   "execution_count": null,
   "metadata": {},
   "outputs": [],
   "source": [
    "# get data and show dataframe\n",
    "my_data_df = get_voice_data(my_data_path)\n",
    "my_data_df.head()\n",
    "\n",
    "my_data_df = get_voice_data(my_data_path)\n",
    "my_data_df.head()\n"
   ]
  },
  {
   "cell_type": "code",
   "execution_count": null,
   "metadata": {},
   "outputs": [],
   "source": []
  },
  {
   "cell_type": "code",
   "execution_count": null,
   "metadata": {},
   "outputs": [],
   "source": []
  }
 ],
 "metadata": {
  "kernelspec": {
   "display_name": "Python 3.8.1 64-bit ('3.8.1': pyenv)",
   "language": "python",
   "name": "python38164bit381pyenvc0e1d4fb139e4c8d8bbd1bcf9c4ee977"
  },
  "language_info": {
   "codemirror_mode": {
    "name": "ipython",
    "version": 3
   },
   "file_extension": ".py",
   "mimetype": "text/x-python",
   "name": "python",
   "nbconvert_exporter": "python",
   "pygments_lexer": "ipython3",
   "version": "3.8.1"
  }
 },
 "nbformat": 4,
 "nbformat_minor": 4
}
