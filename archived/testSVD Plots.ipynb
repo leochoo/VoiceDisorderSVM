{
 "cells": [
  {
   "cell_type": "code",
   "execution_count": 1,
   "metadata": {
    "tags": []
   },
   "outputs": [
    {
     "name": "stdout",
     "output_type": "stream",
     "text": [
      "README.md                 SVM-test.csv              test MFCC.ipynb\n",
      "\u001b[1m\u001b[36mSVD\u001b[m\u001b[m                       \u001b[1m\u001b[36mUntitled Folder\u001b[m\u001b[m           test.csv\n",
      "SVD Plots.ipynb           \u001b[1m\u001b[36marchived\u001b[m\u001b[m                  \u001b[1m\u001b[36mtestSVD\u001b[m\u001b[m\n",
      "SVD_data1.csv             \u001b[1m\u001b[36mdata\u001b[m\u001b[m                      testSVD Plots.ipynb\n",
      "SVDwithMFCC.csv           praat.Collection          testSVD_data1.csv\n",
      "SVM test with J,S,H.ipynb \u001b[1m\u001b[36mscripts\u001b[m\u001b[m\n",
      "/Users/leochoo/dev/GP2-dev\n"
     ]
    }
   ],
   "source": [
    "!ls\n",
    "!pwd"
   ]
  },
  {
   "cell_type": "code",
   "execution_count": 2,
   "metadata": {
    "tags": []
   },
   "outputs": [
    {
     "name": "stderr",
     "output_type": "stream",
     "text": [
      "/Users/leochoo/.pyenv/versions/3.8.1/lib/python3.8/site-packages/pandas/compat/__init__.py:117: UserWarning: Could not import the lzma module. Your installed Python is incomplete. Attempting to use lzma compression will result in a RuntimeError.\n",
      "  warnings.warn(msg)\n"
     ]
    },
    {
     "name": "stdout",
     "output_type": "stream",
     "text": [
      "\u001b[1m\u001b[36mfunctional\u001b[m\u001b[m      \u001b[1m\u001b[36mhyperfunctional\u001b[m\u001b[m \u001b[1m\u001b[36morganic\u001b[m\u001b[m         \u001b[1m\u001b[36mpsychogenic\u001b[m\u001b[m\n",
      "./testSVD/my_data\n"
     ]
    }
   ],
   "source": [
    "# initialize\n",
    "import glob\n",
    "import parselmouth\n",
    "import pandas as pd\n",
    "import numpy as np\n",
    "import matplotlib.pyplot as plt\n",
    "import seaborn as sns\n",
    "import os\n",
    "\n",
    "# filepath for the dataset\n",
    "# root = \"/Users/leochoo/dev/GP2-dev/SVD\"\n",
    "root = \"./testSVD\"\n",
    "\n",
    "my_data_path = root + \"/my_data\"\n",
    "healthy_path = root + \"/healthy\"\n",
    "patho_path = root + \"/pathological\"\n",
    "\n",
    "!ls {patho_path}\n",
    "print(my_data_path)\n",
    "# on MacOS, it creates a hidden .DS_Store folder that only be shown using `ls -la` command. You should delete it to ge the code working! :)"
   ]
  },
  {
   "cell_type": "code",
   "execution_count": 3,
   "metadata": {},
   "outputs": [],
   "source": [
    "from tqdm import tqdm\n",
    "from time import sleep\n",
    "\n",
    "def get_voice_data(_path):\n",
    "    # select .wav files only\n",
    "    wav_files = glob.glob(_path + \"/*.wav\")\n",
    "\n",
    "    n_list = []\n",
    "    tone_list = []\n",
    "    syllab_list = []\n",
    "\n",
    "    j_list = []\n",
    "    s_list = []\n",
    "    h_list = []\n",
    "\n",
    "    # for wav_file in wav_files:\n",
    "    for wav_file in tqdm(wav_files): # tqdm shows the progress bar\n",
    "        sound = parselmouth.Sound(wav_file) # sound object from wav file\n",
    "        pitch = sound.to_pitch()\n",
    "        pulses = parselmouth.praat.call([sound, pitch], \"To PointProcess (cc)\")\n",
    "\n",
    "        # name analysis\n",
    "        name = os.path.basename(wav_file).split(\".\")[0]  \n",
    "        \n",
    "        ## tone\n",
    "        if \"l\" in name:\n",
    "            tone_list.append(\"l\")\n",
    "        elif \"n\" in name:\n",
    "            tone_list.append(\"n\")\n",
    "        elif \"h\" in name:\n",
    "            tone_list.append(\"h\")\n",
    "\n",
    "        ## syllable\n",
    "        if \"a\" in name:\n",
    "            syllab_list.append(\"a\")\n",
    "        elif \"i\" in name:\n",
    "            syllab_list.append(\"i\")\n",
    "        elif \"u\" in name:\n",
    "            syllab_list.append(\"u\")\n",
    "        # jitter\n",
    "        jitter_local = parselmouth.praat.call(pulses, \"Get jitter (local)\", 0.0, 0.0, 0.0001, 0.02, 1.3) * 100\n",
    "\n",
    "        # shimmer\n",
    "        shimmer_local = parselmouth.praat.call([sound, pulses], \"Get shimmer (local)\", 0, 0, 0.0001, 0.02, 1.3, 1.6)\n",
    "\n",
    "        # HNR\n",
    "        harmonicity = parselmouth.praat.call(sound, \"To Harmonicity (cc)\", 0.01, 75, 0.1, 1.0)\n",
    "        hnr = parselmouth.praat.call(harmonicity, \"Get mean\", 0, 0)\n",
    "\n",
    "        # Append to dataframe\n",
    "        n_list.append(name)\n",
    "        j_list.append(jitter_local)\n",
    "        s_list.append(shimmer_local)\n",
    "        h_list.append(hnr)\n",
    "\n",
    "\n",
    "    # create dataframe\n",
    "    df = pd.DataFrame({\"Name\":pd.Series(n_list),\n",
    "                        \"Type\": np.nan,\n",
    "                        \"Tone\": pd.Series(tone_list),\n",
    "                        \"Syllab\": pd.Series(syllab_list),\n",
    "                           \"Jitter\":pd.Series(j_list),\n",
    "                           \"Shimmer\":pd.Series(s_list),\n",
    "                           \"HNR\":pd.Series(h_list)})\n",
    "    df[\"Type\"]= _path.split(\"/\")[-1] # identify type: my_data, healthy, functional etc...\n",
    "    df = df.dropna()\n",
    "    return df\n"
   ]
  },
  {
   "cell_type": "code",
   "execution_count": 4,
   "metadata": {
    "tags": []
   },
   "outputs": [
    {
     "name": "stderr",
     "output_type": "stream",
     "text": [
      "100%|██████████| 9/9 [00:02<00:00,  4.43it/s]\n"
     ]
    },
    {
     "data": {
      "text/html": [
       "<div>\n",
       "<style scoped>\n",
       "    .dataframe tbody tr th:only-of-type {\n",
       "        vertical-align: middle;\n",
       "    }\n",
       "\n",
       "    .dataframe tbody tr th {\n",
       "        vertical-align: top;\n",
       "    }\n",
       "\n",
       "    .dataframe thead th {\n",
       "        text-align: right;\n",
       "    }\n",
       "</style>\n",
       "<table border=\"1\" class=\"dataframe\">\n",
       "  <thead>\n",
       "    <tr style=\"text-align: right;\">\n",
       "      <th></th>\n",
       "      <th>Name</th>\n",
       "      <th>Type</th>\n",
       "      <th>Tone</th>\n",
       "      <th>Syllab</th>\n",
       "      <th>Jitter</th>\n",
       "      <th>Shimmer</th>\n",
       "      <th>HNR</th>\n",
       "    </tr>\n",
       "  </thead>\n",
       "  <tbody>\n",
       "    <tr>\n",
       "      <th>0</th>\n",
       "      <td>myd_a_h</td>\n",
       "      <td>my_data</td>\n",
       "      <td>h</td>\n",
       "      <td>a</td>\n",
       "      <td>0.222252</td>\n",
       "      <td>0.017838</td>\n",
       "      <td>28.288537</td>\n",
       "    </tr>\n",
       "    <tr>\n",
       "      <th>1</th>\n",
       "      <td>myd_a_l</td>\n",
       "      <td>my_data</td>\n",
       "      <td>l</td>\n",
       "      <td>a</td>\n",
       "      <td>0.487569</td>\n",
       "      <td>0.023036</td>\n",
       "      <td>21.677873</td>\n",
       "    </tr>\n",
       "    <tr>\n",
       "      <th>2</th>\n",
       "      <td>myd_a_n</td>\n",
       "      <td>my_data</td>\n",
       "      <td>n</td>\n",
       "      <td>a</td>\n",
       "      <td>0.222252</td>\n",
       "      <td>0.017838</td>\n",
       "      <td>28.288537</td>\n",
       "    </tr>\n",
       "    <tr>\n",
       "      <th>3</th>\n",
       "      <td>myd_u_n</td>\n",
       "      <td>my_data</td>\n",
       "      <td>n</td>\n",
       "      <td>u</td>\n",
       "      <td>0.164563</td>\n",
       "      <td>0.011110</td>\n",
       "      <td>30.354595</td>\n",
       "    </tr>\n",
       "    <tr>\n",
       "      <th>4</th>\n",
       "      <td>myd_u_l</td>\n",
       "      <td>my_data</td>\n",
       "      <td>l</td>\n",
       "      <td>u</td>\n",
       "      <td>0.279021</td>\n",
       "      <td>0.013981</td>\n",
       "      <td>28.079217</td>\n",
       "    </tr>\n",
       "  </tbody>\n",
       "</table>\n",
       "</div>"
      ],
      "text/plain": [
       "      Name     Type Tone Syllab    Jitter   Shimmer        HNR\n",
       "0  myd_a_h  my_data    h      a  0.222252  0.017838  28.288537\n",
       "1  myd_a_l  my_data    l      a  0.487569  0.023036  21.677873\n",
       "2  myd_a_n  my_data    n      a  0.222252  0.017838  28.288537\n",
       "3  myd_u_n  my_data    n      u  0.164563  0.011110  30.354595\n",
       "4  myd_u_l  my_data    l      u  0.279021  0.013981  28.079217"
      ]
     },
     "execution_count": 4,
     "metadata": {},
     "output_type": "execute_result"
    }
   ],
   "source": [
    "# get data and show dataframe\n",
    "my_data_df = get_voice_data(my_data_path)\n",
    "my_data_df.head()"
   ]
  },
  {
   "cell_type": "code",
   "execution_count": 5,
   "metadata": {
    "tags": []
   },
   "outputs": [
    {
     "name": "stderr",
     "output_type": "stream",
     "text": [
      "100%|██████████| 18/18 [00:01<00:00, 11.92it/s]\n",
      "100%|██████████| 18/18 [00:01<00:00, 17.36it/s]\n",
      "100%|██████████| 18/18 [00:01<00:00, 11.93it/s]\n",
      "100%|██████████| 18/18 [00:01<00:00, 12.92it/s]\n",
      "100%|██████████| 27/27 [00:01<00:00, 14.18it/s]\n"
     ]
    }
   ],
   "source": [
    "\n",
    "healthy_df = get_voice_data(healthy_path)\n",
    "healthy_df.head()\n",
    "\n",
    "functional_df = get_voice_data(patho_path + \"/functional\")\n",
    "functional_df.head()\n",
    "\n",
    "hyperfunctional_df = get_voice_data(patho_path + \"/hyperfunctional\")\n",
    "hyperfunctional_df.head()\n",
    "\n",
    "organic_df = get_voice_data(patho_path + \"/organic\")\n",
    "organic_df.head()\n",
    "\n",
    "psychogenic_df = get_voice_data(patho_path + \"/psychogenic\")"
   ]
  },
  {
   "cell_type": "code",
   "execution_count": 6,
   "metadata": {
    "tags": []
   },
   "outputs": [
    {
     "name": "stdout",
     "output_type": "stream",
     "text": [
      "                   Name         Type Tone Syllab    Jitter   Shimmer  \\\n",
      "my_data     0   myd_a_h      my_data    h      a  0.222252  0.017838   \n",
      "            1   myd_a_l      my_data    l      a  0.487569  0.023036   \n",
      "            2   myd_a_n      my_data    n      a  0.222252  0.017838   \n",
      "            3   myd_u_n      my_data    n      u  0.164563  0.011110   \n",
      "            4   myd_u_l      my_data    l      u  0.279021  0.013981   \n",
      "...                 ...          ...  ...    ...       ...       ...   \n",
      "psychogenic 22  151-a_l  psychogenic    l      a  0.100698  0.010602   \n",
      "            23  366-u_n  psychogenic    n      u  0.201356  0.015767   \n",
      "            24  741-a_h  psychogenic    h      a  0.281613  0.026882   \n",
      "            25  366-u_l  psychogenic    l      u  0.389981  0.039966   \n",
      "            26  151-a_n  psychogenic    n      a  0.448863  0.024517   \n",
      "\n",
      "                      HNR  \n",
      "my_data     0   28.288537  \n",
      "            1   21.677873  \n",
      "            2   28.288537  \n",
      "            3   30.354595  \n",
      "            4   28.079217  \n",
      "...                   ...  \n",
      "psychogenic 22  32.236174  \n",
      "            23  31.531414  \n",
      "            24  28.802297  \n",
      "            25  23.895287  \n",
      "            26  23.677346  \n",
      "\n",
      "[108 rows x 7 columns]\n"
     ]
    }
   ],
   "source": [
    "# Combine to one dataframe\n",
    "frames = [my_data_df, healthy_df, functional_df, hyperfunctional_df, organic_df, psychogenic_df]\n",
    "total_df = pd.concat(frames, keys=[\"my_data\", \"healthy_df\", \"functional\", \"hyperfunctional\", \"organic\", \"psychogenic\"])\n",
    "\n",
    "total_df.to_csv (\"./testSVD_data1.csv\", index = False, header=True)\n",
    "print(total_df)"
   ]
  },
  {
   "cell_type": "code",
   "execution_count": 7,
   "metadata": {
    "tags": []
   },
   "outputs": [
    {
     "data": {
      "text/html": [
       "<div>\n",
       "<style scoped>\n",
       "    .dataframe tbody tr th:only-of-type {\n",
       "        vertical-align: middle;\n",
       "    }\n",
       "\n",
       "    .dataframe tbody tr th {\n",
       "        vertical-align: top;\n",
       "    }\n",
       "\n",
       "    .dataframe thead th {\n",
       "        text-align: right;\n",
       "    }\n",
       "</style>\n",
       "<table border=\"1\" class=\"dataframe\">\n",
       "  <thead>\n",
       "    <tr style=\"text-align: right;\">\n",
       "      <th></th>\n",
       "      <th>Name</th>\n",
       "      <th>Type</th>\n",
       "      <th>Tone</th>\n",
       "      <th>Syllab</th>\n",
       "      <th>Jitter</th>\n",
       "      <th>Shimmer</th>\n",
       "      <th>HNR</th>\n",
       "    </tr>\n",
       "  </thead>\n",
       "  <tbody>\n",
       "    <tr>\n",
       "      <th>0</th>\n",
       "      <td>myd_a_h</td>\n",
       "      <td>my_data</td>\n",
       "      <td>h</td>\n",
       "      <td>a</td>\n",
       "      <td>0.222252</td>\n",
       "      <td>0.017838</td>\n",
       "      <td>28.288537</td>\n",
       "    </tr>\n",
       "    <tr>\n",
       "      <th>1</th>\n",
       "      <td>myd_a_l</td>\n",
       "      <td>my_data</td>\n",
       "      <td>l</td>\n",
       "      <td>a</td>\n",
       "      <td>0.487569</td>\n",
       "      <td>0.023036</td>\n",
       "      <td>21.677873</td>\n",
       "    </tr>\n",
       "    <tr>\n",
       "      <th>2</th>\n",
       "      <td>myd_a_n</td>\n",
       "      <td>my_data</td>\n",
       "      <td>n</td>\n",
       "      <td>a</td>\n",
       "      <td>0.222252</td>\n",
       "      <td>0.017838</td>\n",
       "      <td>28.288537</td>\n",
       "    </tr>\n",
       "    <tr>\n",
       "      <th>3</th>\n",
       "      <td>myd_u_n</td>\n",
       "      <td>my_data</td>\n",
       "      <td>n</td>\n",
       "      <td>u</td>\n",
       "      <td>0.164563</td>\n",
       "      <td>0.011110</td>\n",
       "      <td>30.354595</td>\n",
       "    </tr>\n",
       "    <tr>\n",
       "      <th>4</th>\n",
       "      <td>myd_u_l</td>\n",
       "      <td>my_data</td>\n",
       "      <td>l</td>\n",
       "      <td>u</td>\n",
       "      <td>0.279021</td>\n",
       "      <td>0.013981</td>\n",
       "      <td>28.079217</td>\n",
       "    </tr>\n",
       "    <tr>\n",
       "      <th>...</th>\n",
       "      <td>...</td>\n",
       "      <td>...</td>\n",
       "      <td>...</td>\n",
       "      <td>...</td>\n",
       "      <td>...</td>\n",
       "      <td>...</td>\n",
       "      <td>...</td>\n",
       "    </tr>\n",
       "    <tr>\n",
       "      <th>22</th>\n",
       "      <td>151-a_l</td>\n",
       "      <td>psychogenic</td>\n",
       "      <td>l</td>\n",
       "      <td>a</td>\n",
       "      <td>0.100698</td>\n",
       "      <td>0.010602</td>\n",
       "      <td>32.236174</td>\n",
       "    </tr>\n",
       "    <tr>\n",
       "      <th>23</th>\n",
       "      <td>366-u_n</td>\n",
       "      <td>psychogenic</td>\n",
       "      <td>n</td>\n",
       "      <td>u</td>\n",
       "      <td>0.201356</td>\n",
       "      <td>0.015767</td>\n",
       "      <td>31.531414</td>\n",
       "    </tr>\n",
       "    <tr>\n",
       "      <th>24</th>\n",
       "      <td>741-a_h</td>\n",
       "      <td>psychogenic</td>\n",
       "      <td>h</td>\n",
       "      <td>a</td>\n",
       "      <td>0.281613</td>\n",
       "      <td>0.026882</td>\n",
       "      <td>28.802297</td>\n",
       "    </tr>\n",
       "    <tr>\n",
       "      <th>25</th>\n",
       "      <td>366-u_l</td>\n",
       "      <td>psychogenic</td>\n",
       "      <td>l</td>\n",
       "      <td>u</td>\n",
       "      <td>0.389981</td>\n",
       "      <td>0.039966</td>\n",
       "      <td>23.895287</td>\n",
       "    </tr>\n",
       "    <tr>\n",
       "      <th>26</th>\n",
       "      <td>151-a_n</td>\n",
       "      <td>psychogenic</td>\n",
       "      <td>n</td>\n",
       "      <td>a</td>\n",
       "      <td>0.448863</td>\n",
       "      <td>0.024517</td>\n",
       "      <td>23.677346</td>\n",
       "    </tr>\n",
       "  </tbody>\n",
       "</table>\n",
       "<p>108 rows × 7 columns</p>\n",
       "</div>"
      ],
      "text/plain": [
       "       Name         Type Tone Syllab    Jitter   Shimmer        HNR\n",
       "0   myd_a_h      my_data    h      a  0.222252  0.017838  28.288537\n",
       "1   myd_a_l      my_data    l      a  0.487569  0.023036  21.677873\n",
       "2   myd_a_n      my_data    n      a  0.222252  0.017838  28.288537\n",
       "3   myd_u_n      my_data    n      u  0.164563  0.011110  30.354595\n",
       "4   myd_u_l      my_data    l      u  0.279021  0.013981  28.079217\n",
       "..      ...          ...  ...    ...       ...       ...        ...\n",
       "22  151-a_l  psychogenic    l      a  0.100698  0.010602  32.236174\n",
       "23  366-u_n  psychogenic    n      u  0.201356  0.015767  31.531414\n",
       "24  741-a_h  psychogenic    h      a  0.281613  0.026882  28.802297\n",
       "25  366-u_l  psychogenic    l      u  0.389981  0.039966  23.895287\n",
       "26  151-a_n  psychogenic    n      a  0.448863  0.024517  23.677346\n",
       "\n",
       "[108 rows x 7 columns]"
      ]
     },
     "execution_count": 7,
     "metadata": {},
     "output_type": "execute_result"
    }
   ],
   "source": [
    "new_df = pd.concat(frames)\n",
    "new_df"
   ]
  },
  {
   "cell_type": "code",
   "execution_count": 8,
   "metadata": {},
   "outputs": [
    {
     "data": {
      "text/html": [
       "<div>\n",
       "<style scoped>\n",
       "    .dataframe tbody tr th:only-of-type {\n",
       "        vertical-align: middle;\n",
       "    }\n",
       "\n",
       "    .dataframe tbody tr th {\n",
       "        vertical-align: top;\n",
       "    }\n",
       "\n",
       "    .dataframe thead th {\n",
       "        text-align: right;\n",
       "    }\n",
       "</style>\n",
       "<table border=\"1\" class=\"dataframe\">\n",
       "  <thead>\n",
       "    <tr style=\"text-align: right;\">\n",
       "      <th></th>\n",
       "      <th>Name</th>\n",
       "      <th>Type</th>\n",
       "      <th>Tone</th>\n",
       "      <th>Syllab</th>\n",
       "      <th>Jitter</th>\n",
       "      <th>Shimmer</th>\n",
       "      <th>HNR</th>\n",
       "    </tr>\n",
       "  </thead>\n",
       "  <tbody>\n",
       "    <tr>\n",
       "      <th>13</th>\n",
       "      <td>2-a_l</td>\n",
       "      <td>healthy</td>\n",
       "      <td>l</td>\n",
       "      <td>a</td>\n",
       "      <td>0.500103</td>\n",
       "      <td>0.024036</td>\n",
       "      <td>25.397455</td>\n",
       "    </tr>\n",
       "    <tr>\n",
       "      <th>15</th>\n",
       "      <td>1-a_l</td>\n",
       "      <td>healthy</td>\n",
       "      <td>l</td>\n",
       "      <td>a</td>\n",
       "      <td>0.191396</td>\n",
       "      <td>0.010283</td>\n",
       "      <td>29.784809</td>\n",
       "    </tr>\n",
       "  </tbody>\n",
       "</table>\n",
       "</div>"
      ],
      "text/plain": [
       "     Name     Type Tone Syllab    Jitter   Shimmer        HNR\n",
       "13  2-a_l  healthy    l      a  0.500103  0.024036  25.397455\n",
       "15  1-a_l  healthy    l      a  0.191396  0.010283  29.784809"
      ]
     },
     "execution_count": 8,
     "metadata": {},
     "output_type": "execute_result"
    }
   ],
   "source": [
    "new_df.loc[(new_df[\"Type\"] == \"healthy\") & (new_df[\"Tone\"] == \"l\") & (new_df[\"Syllab\"] == \"a\")]"
   ]
  },
  {
   "cell_type": "code",
   "execution_count": 9,
   "metadata": {
    "tags": []
   },
   "outputs": [
    {
     "name": "stdout",
     "output_type": "stream",
     "text": [
      "[1008, 1916, 909, 819]\n",
      "# of people per type [112, 212, 101, 91]\n"
     ]
    }
   ],
   "source": [
    "# file number count\n",
    "# all gender\n",
    "\n",
    "# functional\n",
    "#     1008\n",
    "\n",
    "# hyperfunctional\n",
    "#     1916\n",
    "\n",
    "# organic\n",
    "#      909\n",
    "     \n",
    "# psychogenic\n",
    "#      819\n",
    "file_numbers = [1008, 1916, 909, 819]\n",
    "print(file_numbers)\n",
    "print(\"# of people per type\", [x//9 for x in file_numbers]) #f, h, o, p"
   ]
  },
  {
   "cell_type": "code",
   "execution_count": 10,
   "metadata": {},
   "outputs": [
    {
     "data": {
      "text/plain": [
       "<matplotlib.axes._subplots.AxesSubplot at 0x1280a34f0>"
      ]
     },
     "execution_count": 10,
     "metadata": {},
     "output_type": "execute_result"
    },
    {
     "data": {
      "image/png": "[encoded data removed]",
      "text/plain": [
       "<Figure size 432x288 with 1 Axes>"
      ]
     },
     "metadata": {},
     "output_type": "display_data"
    }
   ],
   "source": [
    "sns.set()\n",
    "sns.boxplot(data = my_data_df.drop([\"HNR\"], axis=1))\n"
   ]
  },
  {
   "cell_type": "code",
   "execution_count": 11,
   "metadata": {},
   "outputs": [
    {
     "data": {
      "image/png": "[encoded data removed]",
      "text/plain": [
       "<Figure size 432x288 with 1 Axes>"
      ]
     },
     "metadata": {},
     "output_type": "display_data"
    }
   ],
   "source": [
    "sns.boxplot(data = organic_df)\n",
    "plt.show()"
   ]
  },
  {
   "cell_type": "code",
   "execution_count": 12,
   "metadata": {},
   "outputs": [
    {
     "data": {
      "text/html": [
       "<div>\n",
       "<style scoped>\n",
       "    .dataframe tbody tr th:only-of-type {\n",
       "        vertical-align: middle;\n",
       "    }\n",
       "\n",
       "    .dataframe tbody tr th {\n",
       "        vertical-align: top;\n",
       "    }\n",
       "\n",
       "    .dataframe thead th {\n",
       "        text-align: right;\n",
       "    }\n",
       "</style>\n",
       "<table border=\"1\" class=\"dataframe\">\n",
       "  <thead>\n",
       "    <tr style=\"text-align: right;\">\n",
       "      <th></th>\n",
       "      <th></th>\n",
       "      <th>Name</th>\n",
       "      <th>Type</th>\n",
       "      <th>Tone</th>\n",
       "      <th>Syllab</th>\n",
       "      <th>Jitter</th>\n",
       "      <th>Shimmer</th>\n",
       "      <th>HNR</th>\n",
       "    </tr>\n",
       "  </thead>\n",
       "  <tbody>\n",
       "    <tr>\n",
       "      <th rowspan=\"5\" valign=\"top\">my_data</th>\n",
       "      <th>0</th>\n",
       "      <td>myd_a_h</td>\n",
       "      <td>my_data</td>\n",
       "      <td>h</td>\n",
       "      <td>a</td>\n",
       "      <td>0.222252</td>\n",
       "      <td>0.017838</td>\n",
       "      <td>28.288537</td>\n",
       "    </tr>\n",
       "    <tr>\n",
       "      <th>1</th>\n",
       "      <td>myd_a_l</td>\n",
       "      <td>my_data</td>\n",
       "      <td>l</td>\n",
       "      <td>a</td>\n",
       "      <td>0.487569</td>\n",
       "      <td>0.023036</td>\n",
       "      <td>21.677873</td>\n",
       "    </tr>\n",
       "    <tr>\n",
       "      <th>2</th>\n",
       "      <td>myd_a_n</td>\n",
       "      <td>my_data</td>\n",
       "      <td>n</td>\n",
       "      <td>a</td>\n",
       "      <td>0.222252</td>\n",
       "      <td>0.017838</td>\n",
       "      <td>28.288537</td>\n",
       "    </tr>\n",
       "    <tr>\n",
       "      <th>3</th>\n",
       "      <td>myd_u_n</td>\n",
       "      <td>my_data</td>\n",
       "      <td>n</td>\n",
       "      <td>u</td>\n",
       "      <td>0.164563</td>\n",
       "      <td>0.011110</td>\n",
       "      <td>30.354595</td>\n",
       "    </tr>\n",
       "    <tr>\n",
       "      <th>4</th>\n",
       "      <td>myd_u_l</td>\n",
       "      <td>my_data</td>\n",
       "      <td>l</td>\n",
       "      <td>u</td>\n",
       "      <td>0.279021</td>\n",
       "      <td>0.013981</td>\n",
       "      <td>28.079217</td>\n",
       "    </tr>\n",
       "  </tbody>\n",
       "</table>\n",
       "</div>"
      ],
      "text/plain": [
       "              Name     Type Tone Syllab    Jitter   Shimmer        HNR\n",
       "my_data 0  myd_a_h  my_data    h      a  0.222252  0.017838  28.288537\n",
       "        1  myd_a_l  my_data    l      a  0.487569  0.023036  21.677873\n",
       "        2  myd_a_n  my_data    n      a  0.222252  0.017838  28.288537\n",
       "        3  myd_u_n  my_data    n      u  0.164563  0.011110  30.354595\n",
       "        4  myd_u_l  my_data    l      u  0.279021  0.013981  28.079217"
      ]
     },
     "execution_count": 12,
     "metadata": {},
     "output_type": "execute_result"
    }
   ],
   "source": [
    "frames = [my_data_df, organic_df]\n",
    "\n",
    "result = pd.concat(frames, keys=[\"my_data\",\"organic\"])\n",
    "result.head()"
   ]
  },
  {
   "cell_type": "code",
   "execution_count": 13,
   "metadata": {},
   "outputs": [
    {
     "data": {
      "text/plain": [
       "<matplotlib.axes._subplots.AxesSubplot at 0x12826cb20>"
      ]
     },
     "execution_count": 13,
     "metadata": {},
     "output_type": "execute_result"
    },
    {
     "data": {
      "image/png": "[encoded data removed]",
      "text/plain": [
       "<Figure size 432x288 with 1 Axes>"
      ]
     },
     "metadata": {},
     "output_type": "display_data"
    }
   ],
   "source": [
    "plt.ylim(0, 1)\n",
    "sns.boxplot(x=\"Type\", y=\"Jitter\", data=result, palette=\"Set3\")\n"
   ]
  },
  {
   "cell_type": "code",
   "execution_count": 14,
   "metadata": {},
   "outputs": [
    {
     "data": {
      "text/html": [
       "<div>\n",
       "<style scoped>\n",
       "    .dataframe tbody tr th:only-of-type {\n",
       "        vertical-align: middle;\n",
       "    }\n",
       "\n",
       "    .dataframe tbody tr th {\n",
       "        vertical-align: top;\n",
       "    }\n",
       "\n",
       "    .dataframe thead th {\n",
       "        text-align: right;\n",
       "    }\n",
       "</style>\n",
       "<table border=\"1\" class=\"dataframe\">\n",
       "  <thead>\n",
       "    <tr style=\"text-align: right;\">\n",
       "      <th></th>\n",
       "      <th>Name</th>\n",
       "      <th>Type</th>\n",
       "      <th>Tone</th>\n",
       "      <th>Syllab</th>\n",
       "      <th>Jitter</th>\n",
       "      <th>Shimmer</th>\n",
       "      <th>HNR</th>\n",
       "    </tr>\n",
       "  </thead>\n",
       "  <tbody>\n",
       "    <tr>\n",
       "      <th>0</th>\n",
       "      <td>445-i_l</td>\n",
       "      <td>organic</td>\n",
       "      <td>l</td>\n",
       "      <td>i</td>\n",
       "      <td>0.540254</td>\n",
       "      <td>0.018591</td>\n",
       "      <td>24.334806</td>\n",
       "    </tr>\n",
       "    <tr>\n",
       "      <th>1</th>\n",
       "      <td>368-i_l</td>\n",
       "      <td>organic</td>\n",
       "      <td>l</td>\n",
       "      <td>i</td>\n",
       "      <td>0.860867</td>\n",
       "      <td>0.036633</td>\n",
       "      <td>23.453634</td>\n",
       "    </tr>\n",
       "    <tr>\n",
       "      <th>10</th>\n",
       "      <td>445-u_l</td>\n",
       "      <td>organic</td>\n",
       "      <td>l</td>\n",
       "      <td>u</td>\n",
       "      <td>0.690482</td>\n",
       "      <td>0.031553</td>\n",
       "      <td>25.089014</td>\n",
       "    </tr>\n",
       "    <tr>\n",
       "      <th>11</th>\n",
       "      <td>368-u_l</td>\n",
       "      <td>organic</td>\n",
       "      <td>l</td>\n",
       "      <td>u</td>\n",
       "      <td>0.902104</td>\n",
       "      <td>0.070926</td>\n",
       "      <td>19.781639</td>\n",
       "    </tr>\n",
       "    <tr>\n",
       "      <th>12</th>\n",
       "      <td>368-a_l</td>\n",
       "      <td>organic</td>\n",
       "      <td>l</td>\n",
       "      <td>a</td>\n",
       "      <td>0.964770</td>\n",
       "      <td>0.036703</td>\n",
       "      <td>22.765588</td>\n",
       "    </tr>\n",
       "    <tr>\n",
       "      <th>13</th>\n",
       "      <td>445-a_l</td>\n",
       "      <td>organic</td>\n",
       "      <td>l</td>\n",
       "      <td>a</td>\n",
       "      <td>0.653534</td>\n",
       "      <td>0.046101</td>\n",
       "      <td>19.602004</td>\n",
       "    </tr>\n",
       "  </tbody>\n",
       "</table>\n",
       "</div>"
      ],
      "text/plain": [
       "       Name     Type Tone Syllab    Jitter   Shimmer        HNR\n",
       "0   445-i_l  organic    l      i  0.540254  0.018591  24.334806\n",
       "1   368-i_l  organic    l      i  0.860867  0.036633  23.453634\n",
       "10  445-u_l  organic    l      u  0.690482  0.031553  25.089014\n",
       "11  368-u_l  organic    l      u  0.902104  0.070926  19.781639\n",
       "12  368-a_l  organic    l      a  0.964770  0.036703  22.765588\n",
       "13  445-a_l  organic    l      a  0.653534  0.046101  19.602004"
      ]
     },
     "execution_count": 14,
     "metadata": {},
     "output_type": "execute_result"
    }
   ],
   "source": [
    "organic_df.loc[organic_df.Tone == \"l\"]"
   ]
  },
  {
   "cell_type": "code",
   "execution_count": 15,
   "metadata": {},
   "outputs": [
    {
     "data": {
      "text/html": [
       "<div>\n",
       "<style scoped>\n",
       "    .dataframe tbody tr th:only-of-type {\n",
       "        vertical-align: middle;\n",
       "    }\n",
       "\n",
       "    .dataframe tbody tr th {\n",
       "        vertical-align: top;\n",
       "    }\n",
       "\n",
       "    .dataframe thead th {\n",
       "        text-align: right;\n",
       "    }\n",
       "</style>\n",
       "<table border=\"1\" class=\"dataframe\">\n",
       "  <thead>\n",
       "    <tr style=\"text-align: right;\">\n",
       "      <th></th>\n",
       "      <th>Name</th>\n",
       "      <th>Type</th>\n",
       "      <th>Tone</th>\n",
       "      <th>Syllab</th>\n",
       "      <th>Jitter</th>\n",
       "      <th>Shimmer</th>\n",
       "      <th>HNR</th>\n",
       "    </tr>\n",
       "  </thead>\n",
       "  <tbody>\n",
       "    <tr>\n",
       "      <th>0</th>\n",
       "      <td>445-i_l</td>\n",
       "      <td>organic</td>\n",
       "      <td>l</td>\n",
       "      <td>i</td>\n",
       "      <td>0.540254</td>\n",
       "      <td>0.018591</td>\n",
       "      <td>24.334806</td>\n",
       "    </tr>\n",
       "    <tr>\n",
       "      <th>1</th>\n",
       "      <td>368-i_l</td>\n",
       "      <td>organic</td>\n",
       "      <td>l</td>\n",
       "      <td>i</td>\n",
       "      <td>0.860867</td>\n",
       "      <td>0.036633</td>\n",
       "      <td>23.453634</td>\n",
       "    </tr>\n",
       "  </tbody>\n",
       "</table>\n",
       "</div>"
      ],
      "text/plain": [
       "      Name     Type Tone Syllab    Jitter   Shimmer        HNR\n",
       "0  445-i_l  organic    l      i  0.540254  0.018591  24.334806\n",
       "1  368-i_l  organic    l      i  0.860867  0.036633  23.453634"
      ]
     },
     "execution_count": 15,
     "metadata": {},
     "output_type": "execute_result"
    }
   ],
   "source": [
    "organic_df.loc[(organic_df.Tone == \"l\") & (organic_df.Syllab == \"i\")]"
   ]
  },
  {
   "cell_type": "code",
   "execution_count": 16,
   "metadata": {},
   "outputs": [],
   "source": [
    "def select_from_data(_df, _tone, _syllab, _param):\n",
    "    result = _df.loc[(_df.Tone == _tone) & (_df.Syllab == _syllab)][_param]\n",
    "    return result"
   ]
  },
  {
   "cell_type": "code",
   "execution_count": 17,
   "metadata": {},
   "outputs": [
    {
     "data": {
      "text/plain": [
       "<matplotlib.axes._subplots.AxesSubplot at 0x1282eb400>"
      ]
     },
     "execution_count": 17,
     "metadata": {},
     "output_type": "execute_result"
    },
    {
     "data": {
      "image/png": "[encoded data removed]",
      "text/plain": [
       "<Figure size 432x288 with 1 Axes>"
      ]
     },
     "metadata": {},
     "output_type": "display_data"
    }
   ],
   "source": [
    "my_jitter = select_from_data(my_data_df, \"l\", \"i\", \"Jitter\")\n",
    "organic_jitter = select_from_data(organic_df, \"l\", \"i\", \"Jitter\")\n",
    "my_organic_j = pd.DataFrame({\"My\":pd.Series(my_jitter), \"Organic\":pd.Series(organic_jitter)})\n",
    "sns.boxplot(data = my_organic_j)"
   ]
  },
  {
   "cell_type": "code",
   "execution_count": 18,
   "metadata": {},
   "outputs": [
    {
     "data": {
      "text/plain": [
       "<matplotlib.axes._subplots.AxesSubplot at 0x1282dc970>"
      ]
     },
     "execution_count": 18,
     "metadata": {},
     "output_type": "execute_result"
    },
    {
     "data": {
      "image/png": "[encoded data removed]",
      "text/plain": [
       "<Figure size 432x288 with 1 Axes>"
      ]
     },
     "metadata": {},
     "output_type": "display_data"
    }
   ],
   "source": [
    "plt.xlabel(\"Healthy\")\n",
    "sns.boxplot(data = healthy_df)"
   ]
  },
  {
   "cell_type": "code",
   "execution_count": 19,
   "metadata": {},
   "outputs": [
    {
     "data": {
      "text/plain": [
       "<matplotlib.axes._subplots.AxesSubplot at 0x1283d3670>"
      ]
     },
     "execution_count": 19,
     "metadata": {},
     "output_type": "execute_result"
    },
    {
     "data": {
      "image/png": "[encoded data removed]",
      "text/plain": [
       "<Figure size 432x288 with 1 Axes>"
      ]
     },
     "metadata": {},
     "output_type": "display_data"
    }
   ],
   "source": [
    "plt.xlabel(\"organic\")\n",
    "sns.boxplot(data = organic_df)"
   ]
  },
  {
   "cell_type": "code",
   "execution_count": 20,
   "metadata": {},
   "outputs": [
    {
     "data": {
      "text/plain": [
       "<matplotlib.axes._subplots.AxesSubplot at 0x128459850>"
      ]
     },
     "execution_count": 20,
     "metadata": {},
     "output_type": "execute_result"
    },
    {
     "data": {
      "image/png": "[encoded data removed]",
      "text/plain": [
       "<Figure size 432x288 with 1 Axes>"
      ]
     },
     "metadata": {},
     "output_type": "display_data"
    }
   ],
   "source": [
    "plt.xlabel(\"functional\")\n",
    "sns.boxplot(data = functional_df)"
   ]
  },
  {
   "cell_type": "code",
   "execution_count": 21,
   "metadata": {},
   "outputs": [
    {
     "data": {
      "text/html": [
       "<div>\n",
       "<style scoped>\n",
       "    .dataframe tbody tr th:only-of-type {\n",
       "        vertical-align: middle;\n",
       "    }\n",
       "\n",
       "    .dataframe tbody tr th {\n",
       "        vertical-align: top;\n",
       "    }\n",
       "\n",
       "    .dataframe thead th {\n",
       "        text-align: right;\n",
       "    }\n",
       "</style>\n",
       "<table border=\"1\" class=\"dataframe\">\n",
       "  <thead>\n",
       "    <tr style=\"text-align: right;\">\n",
       "      <th></th>\n",
       "      <th>Name</th>\n",
       "      <th>Type</th>\n",
       "      <th>Tone</th>\n",
       "      <th>Syllab</th>\n",
       "      <th>Jitter</th>\n",
       "      <th>Shimmer</th>\n",
       "      <th>HNR</th>\n",
       "    </tr>\n",
       "  </thead>\n",
       "  <tbody>\n",
       "    <tr>\n",
       "      <th>0</th>\n",
       "      <td>350-a_n</td>\n",
       "      <td>functional</td>\n",
       "      <td>n</td>\n",
       "      <td>a</td>\n",
       "      <td>0.149364</td>\n",
       "      <td>0.024658</td>\n",
       "      <td>28.264699</td>\n",
       "    </tr>\n",
       "    <tr>\n",
       "      <th>1</th>\n",
       "      <td>351-a_h</td>\n",
       "      <td>functional</td>\n",
       "      <td>h</td>\n",
       "      <td>a</td>\n",
       "      <td>0.622685</td>\n",
       "      <td>0.037482</td>\n",
       "      <td>22.785389</td>\n",
       "    </tr>\n",
       "    <tr>\n",
       "      <th>2</th>\n",
       "      <td>350-a_l</td>\n",
       "      <td>functional</td>\n",
       "      <td>l</td>\n",
       "      <td>a</td>\n",
       "      <td>0.131557</td>\n",
       "      <td>0.016773</td>\n",
       "      <td>29.744053</td>\n",
       "    </tr>\n",
       "    <tr>\n",
       "      <th>3</th>\n",
       "      <td>350-a_h</td>\n",
       "      <td>functional</td>\n",
       "      <td>h</td>\n",
       "      <td>a</td>\n",
       "      <td>0.178579</td>\n",
       "      <td>0.017611</td>\n",
       "      <td>27.779174</td>\n",
       "    </tr>\n",
       "    <tr>\n",
       "      <th>4</th>\n",
       "      <td>351-a_l</td>\n",
       "      <td>functional</td>\n",
       "      <td>l</td>\n",
       "      <td>a</td>\n",
       "      <td>0.479336</td>\n",
       "      <td>0.041689</td>\n",
       "      <td>22.565679</td>\n",
       "    </tr>\n",
       "    <tr>\n",
       "      <th>5</th>\n",
       "      <td>351-a_n</td>\n",
       "      <td>functional</td>\n",
       "      <td>n</td>\n",
       "      <td>a</td>\n",
       "      <td>0.503399</td>\n",
       "      <td>0.050224</td>\n",
       "      <td>21.277874</td>\n",
       "    </tr>\n",
       "    <tr>\n",
       "      <th>6</th>\n",
       "      <td>350-i_n</td>\n",
       "      <td>functional</td>\n",
       "      <td>n</td>\n",
       "      <td>i</td>\n",
       "      <td>0.128683</td>\n",
       "      <td>0.016487</td>\n",
       "      <td>30.198271</td>\n",
       "    </tr>\n",
       "    <tr>\n",
       "      <th>7</th>\n",
       "      <td>351-i_h</td>\n",
       "      <td>functional</td>\n",
       "      <td>h</td>\n",
       "      <td>i</td>\n",
       "      <td>0.477179</td>\n",
       "      <td>0.026774</td>\n",
       "      <td>24.843892</td>\n",
       "    </tr>\n",
       "    <tr>\n",
       "      <th>8</th>\n",
       "      <td>350-i_l</td>\n",
       "      <td>functional</td>\n",
       "      <td>l</td>\n",
       "      <td>i</td>\n",
       "      <td>0.112764</td>\n",
       "      <td>0.010442</td>\n",
       "      <td>32.643555</td>\n",
       "    </tr>\n",
       "    <tr>\n",
       "      <th>9</th>\n",
       "      <td>350-i_h</td>\n",
       "      <td>functional</td>\n",
       "      <td>h</td>\n",
       "      <td>i</td>\n",
       "      <td>0.145484</td>\n",
       "      <td>0.011612</td>\n",
       "      <td>31.839918</td>\n",
       "    </tr>\n",
       "    <tr>\n",
       "      <th>10</th>\n",
       "      <td>351-i_l</td>\n",
       "      <td>functional</td>\n",
       "      <td>l</td>\n",
       "      <td>i</td>\n",
       "      <td>0.369079</td>\n",
       "      <td>0.020504</td>\n",
       "      <td>26.323587</td>\n",
       "    </tr>\n",
       "    <tr>\n",
       "      <th>11</th>\n",
       "      <td>351-i_n</td>\n",
       "      <td>functional</td>\n",
       "      <td>n</td>\n",
       "      <td>i</td>\n",
       "      <td>0.557279</td>\n",
       "      <td>0.028589</td>\n",
       "      <td>19.227580</td>\n",
       "    </tr>\n",
       "    <tr>\n",
       "      <th>12</th>\n",
       "      <td>351-u_n</td>\n",
       "      <td>functional</td>\n",
       "      <td>n</td>\n",
       "      <td>u</td>\n",
       "      <td>0.410337</td>\n",
       "      <td>0.032351</td>\n",
       "      <td>24.674063</td>\n",
       "    </tr>\n",
       "    <tr>\n",
       "      <th>13</th>\n",
       "      <td>350-u_h</td>\n",
       "      <td>functional</td>\n",
       "      <td>h</td>\n",
       "      <td>u</td>\n",
       "      <td>0.330339</td>\n",
       "      <td>0.023423</td>\n",
       "      <td>30.305674</td>\n",
       "    </tr>\n",
       "    <tr>\n",
       "      <th>14</th>\n",
       "      <td>351-u_l</td>\n",
       "      <td>functional</td>\n",
       "      <td>l</td>\n",
       "      <td>u</td>\n",
       "      <td>0.244244</td>\n",
       "      <td>0.022973</td>\n",
       "      <td>29.117345</td>\n",
       "    </tr>\n",
       "    <tr>\n",
       "      <th>15</th>\n",
       "      <td>351-u_h</td>\n",
       "      <td>functional</td>\n",
       "      <td>h</td>\n",
       "      <td>u</td>\n",
       "      <td>0.505688</td>\n",
       "      <td>0.047624</td>\n",
       "      <td>27.773584</td>\n",
       "    </tr>\n",
       "    <tr>\n",
       "      <th>16</th>\n",
       "      <td>350-u_l</td>\n",
       "      <td>functional</td>\n",
       "      <td>l</td>\n",
       "      <td>u</td>\n",
       "      <td>0.244443</td>\n",
       "      <td>0.024259</td>\n",
       "      <td>29.314795</td>\n",
       "    </tr>\n",
       "    <tr>\n",
       "      <th>17</th>\n",
       "      <td>350-u_n</td>\n",
       "      <td>functional</td>\n",
       "      <td>n</td>\n",
       "      <td>u</td>\n",
       "      <td>0.391050</td>\n",
       "      <td>0.028963</td>\n",
       "      <td>27.678851</td>\n",
       "    </tr>\n",
       "  </tbody>\n",
       "</table>\n",
       "</div>"
      ],
      "text/plain": [
       "       Name        Type Tone Syllab    Jitter   Shimmer        HNR\n",
       "0   350-a_n  functional    n      a  0.149364  0.024658  28.264699\n",
       "1   351-a_h  functional    h      a  0.622685  0.037482  22.785389\n",
       "2   350-a_l  functional    l      a  0.131557  0.016773  29.744053\n",
       "3   350-a_h  functional    h      a  0.178579  0.017611  27.779174\n",
       "4   351-a_l  functional    l      a  0.479336  0.041689  22.565679\n",
       "5   351-a_n  functional    n      a  0.503399  0.050224  21.277874\n",
       "6   350-i_n  functional    n      i  0.128683  0.016487  30.198271\n",
       "7   351-i_h  functional    h      i  0.477179  0.026774  24.843892\n",
       "8   350-i_l  functional    l      i  0.112764  0.010442  32.643555\n",
       "9   350-i_h  functional    h      i  0.145484  0.011612  31.839918\n",
       "10  351-i_l  functional    l      i  0.369079  0.020504  26.323587\n",
       "11  351-i_n  functional    n      i  0.557279  0.028589  19.227580\n",
       "12  351-u_n  functional    n      u  0.410337  0.032351  24.674063\n",
       "13  350-u_h  functional    h      u  0.330339  0.023423  30.305674\n",
       "14  351-u_l  functional    l      u  0.244244  0.022973  29.117345\n",
       "15  351-u_h  functional    h      u  0.505688  0.047624  27.773584\n",
       "16  350-u_l  functional    l      u  0.244443  0.024259  29.314795\n",
       "17  350-u_n  functional    n      u  0.391050  0.028963  27.678851"
      ]
     },
     "execution_count": 21,
     "metadata": {},
     "output_type": "execute_result"
    }
   ],
   "source": [
    "functional_df"
   ]
  },
  {
   "cell_type": "code",
   "execution_count": 22,
   "metadata": {},
   "outputs": [
    {
     "data": {
      "text/plain": [
       "<matplotlib.axes._subplots.AxesSubplot at 0x1282dc310>"
      ]
     },
     "execution_count": 22,
     "metadata": {},
     "output_type": "execute_result"
    },
    {
     "data": {
      "image/png": "[encoded data removed]",
      "text/plain": [
       "<Figure size 432x288 with 1 Axes>"
      ]
     },
     "metadata": {},
     "output_type": "display_data"
    }
   ],
   "source": [
    "plt.xlabel(\"hyperfunctional\")\n",
    "sns.boxplot(data = hyperfunctional_df)"
   ]
  },
  {
   "cell_type": "code",
   "execution_count": 23,
   "metadata": {},
   "outputs": [
    {
     "data": {
      "text/plain": [
       "<matplotlib.axes._subplots.AxesSubplot at 0x12817b250>"
      ]
     },
     "execution_count": 23,
     "metadata": {},
     "output_type": "execute_result"
    },
    {
     "data": {
      "image/png": "[encoded data removed]",
      "text/plain": [
       "<Figure size 432x288 with 1 Axes>"
      ]
     },
     "metadata": {},
     "output_type": "display_data"
    }
   ],
   "source": [
    "plt.xlabel(\"psychogenic\")\n",
    "sns.boxplot(data = psychogenic_df)"
   ]
  },
  {
   "cell_type": "code",
   "execution_count": 24,
   "metadata": {},
   "outputs": [],
   "source": [
    "# dict of dataframes\n",
    "dict_df = {\"my_data\": my_data_df,\n",
    "\"healthy\": healthy_df,\n",
    "\"functional\": functional_df,\n",
    "\"hyperfunctional\": hyperfunctional_df,\n",
    "\"organic\": organic_df,\n",
    "\"psychogenic\": psychogenic_df,\n",
    "}"
   ]
  },
  {
   "cell_type": "code",
   "execution_count": 25,
   "metadata": {
    "tags": []
   },
   "outputs": [
    {
     "name": "stdout",
     "output_type": "stream",
     "text": [
      "my_data\n",
      "healthy\n",
      "functional\n",
      "hyperfunctional\n",
      "organic\n",
      "psychogenic\n"
     ]
    }
   ],
   "source": [
    "for k,v in dict_df.items():\n",
    "    print(k)\n"
   ]
  },
  {
   "cell_type": "code",
   "execution_count": 26,
   "metadata": {},
   "outputs": [],
   "source": [
    "# selecting for tone and syllab\n",
    "def select_tone_syllab(_tone, _syllab, _param):\n",
    "    global dict_df\n",
    "    result_df = pd.DataFrame()\n",
    "    for type, _df in dict_df.items():\n",
    "        selected_column = _df.loc[(_df.Tone == _tone) & (_df.Syllab == _syllab)][_param].values\n",
    "        additional = pd.DataFrame({type: selected_column})\n",
    "        result_df = pd.concat([result_df, additional], axis=1)\n",
    "    return result_df"
   ]
  },
  {
   "cell_type": "code",
   "execution_count": 27,
   "metadata": {
    "tags": []
   },
   "outputs": [
    {
     "data": {
      "text/html": [
       "<div>\n",
       "<style scoped>\n",
       "    .dataframe tbody tr th:only-of-type {\n",
       "        vertical-align: middle;\n",
       "    }\n",
       "\n",
       "    .dataframe tbody tr th {\n",
       "        vertical-align: top;\n",
       "    }\n",
       "\n",
       "    .dataframe thead th {\n",
       "        text-align: right;\n",
       "    }\n",
       "</style>\n",
       "<table border=\"1\" class=\"dataframe\">\n",
       "  <thead>\n",
       "    <tr style=\"text-align: right;\">\n",
       "      <th></th>\n",
       "      <th>my_data</th>\n",
       "      <th>healthy</th>\n",
       "      <th>functional</th>\n",
       "      <th>hyperfunctional</th>\n",
       "      <th>organic</th>\n",
       "      <th>psychogenic</th>\n",
       "    </tr>\n",
       "  </thead>\n",
       "  <tbody>\n",
       "    <tr>\n",
       "      <th>0</th>\n",
       "      <td>0.487569</td>\n",
       "      <td>0.500103</td>\n",
       "      <td>0.131557</td>\n",
       "      <td>0.411039</td>\n",
       "      <td>0.964770</td>\n",
       "      <td>0.508194</td>\n",
       "    </tr>\n",
       "    <tr>\n",
       "      <th>1</th>\n",
       "      <td>NaN</td>\n",
       "      <td>0.191396</td>\n",
       "      <td>0.479336</td>\n",
       "      <td>0.653374</td>\n",
       "      <td>0.653534</td>\n",
       "      <td>0.254183</td>\n",
       "    </tr>\n",
       "    <tr>\n",
       "      <th>2</th>\n",
       "      <td>NaN</td>\n",
       "      <td>NaN</td>\n",
       "      <td>NaN</td>\n",
       "      <td>NaN</td>\n",
       "      <td>NaN</td>\n",
       "      <td>0.100698</td>\n",
       "    </tr>\n",
       "  </tbody>\n",
       "</table>\n",
       "</div>"
      ],
      "text/plain": [
       "    my_data   healthy  functional  hyperfunctional   organic  psychogenic\n",
       "0  0.487569  0.500103    0.131557         0.411039  0.964770     0.508194\n",
       "1       NaN  0.191396    0.479336         0.653374  0.653534     0.254183\n",
       "2       NaN       NaN         NaN              NaN       NaN     0.100698"
      ]
     },
     "execution_count": 27,
     "metadata": {},
     "output_type": "execute_result"
    }
   ],
   "source": [
    "filtered_df = select_tone_syllab(\"l\", \"a\", \"Jitter\")\n",
    "filtered_df.head()"
   ]
  },
  {
   "cell_type": "code",
   "execution_count": 28,
   "metadata": {},
   "outputs": [
    {
     "data": {
      "text/plain": [
       "<matplotlib.axes._subplots.AxesSubplot at 0x1285ccbb0>"
      ]
     },
     "execution_count": 28,
     "metadata": {},
     "output_type": "execute_result"
    },
    {
     "data": {
      "image/png": "[encoded data removed]",
      "text/plain": [
       "<Figure size 432x288 with 1 Axes>"
      ]
     },
     "metadata": {},
     "output_type": "display_data"
    }
   ],
   "source": [
    "sns.boxplot(data=filtered_df)"
   ]
  },
  {
   "cell_type": "code",
   "execution_count": 29,
   "metadata": {},
   "outputs": [],
   "source": [
    "# selecting just for tone\n",
    "def select_one_tone(_tone, _param):\n",
    "    global dict_df\n",
    "    result_df = pd.DataFrame()\n",
    "    for type, _df in dict_df.items():\n",
    "        selected_column = _df.loc[(_df.Tone == _tone)][_param].values\n",
    "        additional = pd.DataFrame({type: selected_column})\n",
    "        result_df = pd.concat([result_df, additional], axis=1)\n",
    "    return result_df"
   ]
  },
  {
   "cell_type": "code",
   "execution_count": 30,
   "metadata": {},
   "outputs": [
    {
     "data": {
      "text/plain": [
       "<matplotlib.axes._subplots.AxesSubplot at 0x128674370>"
      ]
     },
     "execution_count": 30,
     "metadata": {},
     "output_type": "execute_result"
    },
    {
     "data": {
      "image/png": "[encoded data removed]",
      "text/plain": [
       "<Figure size 432x288 with 1 Axes>"
      ]
     },
     "metadata": {},
     "output_type": "display_data"
    }
   ],
   "source": [
    "# box plot for all jitter in low tone\n",
    "all_jitter_l = select_one_tone(\"l\",\"Jitter\")\n",
    "sns.boxplot(data = all_jitter_l)"
   ]
  },
  {
   "cell_type": "code",
   "execution_count": 31,
   "metadata": {},
   "outputs": [
    {
     "data": {
      "text/plain": [
       "<matplotlib.axes._subplots.AxesSubplot at 0x12872afd0>"
      ]
     },
     "execution_count": 31,
     "metadata": {},
     "output_type": "execute_result"
    },
    {
     "data": {
      "image/png": "[encoded data removed]",
      "text/plain": [
       "<Figure size 432x288 with 1 Axes>"
      ]
     },
     "metadata": {},
     "output_type": "display_data"
    }
   ],
   "source": [
    "# box plot for all jitter in low tone\n",
    "all_jitter_n = select_one_tone(\"n\",\"Jitter\")\n",
    "sns.boxplot(data = all_jitter_n)"
   ]
  },
  {
   "cell_type": "code",
   "execution_count": 32,
   "metadata": {},
   "outputs": [
    {
     "data": {
      "text/plain": [
       "<matplotlib.axes._subplots.AxesSubplot at 0x1287db1f0>"
      ]
     },
     "execution_count": 32,
     "metadata": {},
     "output_type": "execute_result"
    },
    {
     "data": {
      "image/png": "[encoded data removed]",
      "text/plain": [
       "<Figure size 432x288 with 1 Axes>"
      ]
     },
     "metadata": {},
     "output_type": "display_data"
    }
   ],
   "source": [
    "# box plot for all jitter in low tone\n",
    "all_jitter_h = select_one_tone(\"h\",\"Jitter\")\n",
    "sns.boxplot(data = all_jitter_h)"
   ]
  },
  {
   "cell_type": "code",
   "execution_count": 33,
   "metadata": {},
   "outputs": [
    {
     "data": {
      "text/html": [
       "<div>\n",
       "<style scoped>\n",
       "    .dataframe tbody tr th:only-of-type {\n",
       "        vertical-align: middle;\n",
       "    }\n",
       "\n",
       "    .dataframe tbody tr th {\n",
       "        vertical-align: top;\n",
       "    }\n",
       "\n",
       "    .dataframe thead th {\n",
       "        text-align: right;\n",
       "    }\n",
       "</style>\n",
       "<table border=\"1\" class=\"dataframe\">\n",
       "  <thead>\n",
       "    <tr style=\"text-align: right;\">\n",
       "      <th></th>\n",
       "      <th></th>\n",
       "      <th>Name</th>\n",
       "      <th>Type</th>\n",
       "      <th>Tone</th>\n",
       "      <th>Syllab</th>\n",
       "      <th>Jitter</th>\n",
       "      <th>Shimmer</th>\n",
       "      <th>HNR</th>\n",
       "    </tr>\n",
       "  </thead>\n",
       "  <tbody>\n",
       "    <tr>\n",
       "      <th rowspan=\"3\" valign=\"top\">my_data</th>\n",
       "      <th>0</th>\n",
       "      <td>myd_a_h</td>\n",
       "      <td>my_data</td>\n",
       "      <td>h</td>\n",
       "      <td>a</td>\n",
       "      <td>0.222252</td>\n",
       "      <td>0.017838</td>\n",
       "      <td>28.288537</td>\n",
       "    </tr>\n",
       "    <tr>\n",
       "      <th>1</th>\n",
       "      <td>myd_a_l</td>\n",
       "      <td>my_data</td>\n",
       "      <td>l</td>\n",
       "      <td>a</td>\n",
       "      <td>0.487569</td>\n",
       "      <td>0.023036</td>\n",
       "      <td>21.677873</td>\n",
       "    </tr>\n",
       "    <tr>\n",
       "      <th>2</th>\n",
       "      <td>myd_a_n</td>\n",
       "      <td>my_data</td>\n",
       "      <td>n</td>\n",
       "      <td>a</td>\n",
       "      <td>0.222252</td>\n",
       "      <td>0.017838</td>\n",
       "      <td>28.288537</td>\n",
       "    </tr>\n",
       "    <tr>\n",
       "      <th rowspan=\"6\" valign=\"top\">organic</th>\n",
       "      <th>12</th>\n",
       "      <td>368-a_l</td>\n",
       "      <td>organic</td>\n",
       "      <td>l</td>\n",
       "      <td>a</td>\n",
       "      <td>0.964770</td>\n",
       "      <td>0.036703</td>\n",
       "      <td>22.765588</td>\n",
       "    </tr>\n",
       "    <tr>\n",
       "      <th>13</th>\n",
       "      <td>445-a_l</td>\n",
       "      <td>organic</td>\n",
       "      <td>l</td>\n",
       "      <td>a</td>\n",
       "      <td>0.653534</td>\n",
       "      <td>0.046101</td>\n",
       "      <td>19.602004</td>\n",
       "    </tr>\n",
       "    <tr>\n",
       "      <th>14</th>\n",
       "      <td>445-a_n</td>\n",
       "      <td>organic</td>\n",
       "      <td>n</td>\n",
       "      <td>a</td>\n",
       "      <td>0.987353</td>\n",
       "      <td>0.080456</td>\n",
       "      <td>15.625524</td>\n",
       "    </tr>\n",
       "    <tr>\n",
       "      <th>15</th>\n",
       "      <td>368-a_n</td>\n",
       "      <td>organic</td>\n",
       "      <td>n</td>\n",
       "      <td>a</td>\n",
       "      <td>0.435160</td>\n",
       "      <td>0.042159</td>\n",
       "      <td>20.478885</td>\n",
       "    </tr>\n",
       "    <tr>\n",
       "      <th>16</th>\n",
       "      <td>368-a_h</td>\n",
       "      <td>organic</td>\n",
       "      <td>h</td>\n",
       "      <td>a</td>\n",
       "      <td>0.839461</td>\n",
       "      <td>0.049347</td>\n",
       "      <td>23.597963</td>\n",
       "    </tr>\n",
       "    <tr>\n",
       "      <th>17</th>\n",
       "      <td>445-a_h</td>\n",
       "      <td>organic</td>\n",
       "      <td>h</td>\n",
       "      <td>a</td>\n",
       "      <td>0.419651</td>\n",
       "      <td>0.034329</td>\n",
       "      <td>22.937231</td>\n",
       "    </tr>\n",
       "    <tr>\n",
       "      <th rowspan=\"6\" valign=\"top\">functional</th>\n",
       "      <th>0</th>\n",
       "      <td>350-a_n</td>\n",
       "      <td>functional</td>\n",
       "      <td>n</td>\n",
       "      <td>a</td>\n",
       "      <td>0.149364</td>\n",
       "      <td>0.024658</td>\n",
       "      <td>28.264699</td>\n",
       "    </tr>\n",
       "    <tr>\n",
       "      <th>1</th>\n",
       "      <td>351-a_h</td>\n",
       "      <td>functional</td>\n",
       "      <td>h</td>\n",
       "      <td>a</td>\n",
       "      <td>0.622685</td>\n",
       "      <td>0.037482</td>\n",
       "      <td>22.785389</td>\n",
       "    </tr>\n",
       "    <tr>\n",
       "      <th>2</th>\n",
       "      <td>350-a_l</td>\n",
       "      <td>functional</td>\n",
       "      <td>l</td>\n",
       "      <td>a</td>\n",
       "      <td>0.131557</td>\n",
       "      <td>0.016773</td>\n",
       "      <td>29.744053</td>\n",
       "    </tr>\n",
       "    <tr>\n",
       "      <th>3</th>\n",
       "      <td>350-a_h</td>\n",
       "      <td>functional</td>\n",
       "      <td>h</td>\n",
       "      <td>a</td>\n",
       "      <td>0.178579</td>\n",
       "      <td>0.017611</td>\n",
       "      <td>27.779174</td>\n",
       "    </tr>\n",
       "    <tr>\n",
       "      <th>4</th>\n",
       "      <td>351-a_l</td>\n",
       "      <td>functional</td>\n",
       "      <td>l</td>\n",
       "      <td>a</td>\n",
       "      <td>0.479336</td>\n",
       "      <td>0.041689</td>\n",
       "      <td>22.565679</td>\n",
       "    </tr>\n",
       "    <tr>\n",
       "      <th>5</th>\n",
       "      <td>351-a_n</td>\n",
       "      <td>functional</td>\n",
       "      <td>n</td>\n",
       "      <td>a</td>\n",
       "      <td>0.503399</td>\n",
       "      <td>0.050224</td>\n",
       "      <td>21.277874</td>\n",
       "    </tr>\n",
       "  </tbody>\n",
       "</table>\n",
       "</div>"
      ],
      "text/plain": [
       "                  Name        Type Tone Syllab    Jitter   Shimmer        HNR\n",
       "my_data    0   myd_a_h     my_data    h      a  0.222252  0.017838  28.288537\n",
       "           1   myd_a_l     my_data    l      a  0.487569  0.023036  21.677873\n",
       "           2   myd_a_n     my_data    n      a  0.222252  0.017838  28.288537\n",
       "organic    12  368-a_l     organic    l      a  0.964770  0.036703  22.765588\n",
       "           13  445-a_l     organic    l      a  0.653534  0.046101  19.602004\n",
       "           14  445-a_n     organic    n      a  0.987353  0.080456  15.625524\n",
       "           15  368-a_n     organic    n      a  0.435160  0.042159  20.478885\n",
       "           16  368-a_h     organic    h      a  0.839461  0.049347  23.597963\n",
       "           17  445-a_h     organic    h      a  0.419651  0.034329  22.937231\n",
       "functional 0   350-a_n  functional    n      a  0.149364  0.024658  28.264699\n",
       "           1   351-a_h  functional    h      a  0.622685  0.037482  22.785389\n",
       "           2   350-a_l  functional    l      a  0.131557  0.016773  29.744053\n",
       "           3   350-a_h  functional    h      a  0.178579  0.017611  27.779174\n",
       "           4   351-a_l  functional    l      a  0.479336  0.041689  22.565679\n",
       "           5   351-a_n  functional    n      a  0.503399  0.050224  21.277874"
      ]
     },
     "execution_count": 33,
     "metadata": {},
     "output_type": "execute_result"
    }
   ],
   "source": [
    "# \n",
    "frames = [my_data_df, organic_df, functional_df]\n",
    "\n",
    "myd_org = pd.concat(frames, keys=[\"my_data\",\"organic\", \"functional\"])\n",
    "myd_org.loc[myd_org.Syllab == \"a\"]\n"
   ]
  },
  {
   "cell_type": "markdown",
   "metadata": {},
   "source": [
    "# can graph Jitter, Shimmer, HNR for all other dicts\n",
    "dd = pd.melt(myd_org, id_vars=[\"Type\"], value_vars=[\"Jitter\", \"Shimmer\"])\n",
    "dd.head"
   ]
  },
  {
   "cell_type": "code",
   "execution_count": 34,
   "metadata": {},
   "outputs": [
    {
     "ename": "NameError",
     "evalue": "name 'dd' is not defined",
     "output_type": "error",
     "traceback": [
      "\u001b[0;31m---------------------------------------------------------------------------\u001b[0m",
      "\u001b[0;31mNameError\u001b[0m                                 Traceback (most recent call last)",
      "\u001b[0;32m<ipython-input-34-aa569bcdc12a>\u001b[0m in \u001b[0;36m<module>\u001b[0;34m\u001b[0m\n\u001b[0;32m----> 1\u001b[0;31m \u001b[0msns\u001b[0m\u001b[0;34m.\u001b[0m\u001b[0mboxplot\u001b[0m\u001b[0;34m(\u001b[0m\u001b[0mx\u001b[0m\u001b[0;34m=\u001b[0m\u001b[0;34m\"Type\"\u001b[0m\u001b[0;34m,\u001b[0m \u001b[0my\u001b[0m\u001b[0;34m=\u001b[0m\u001b[0;34m\"value\"\u001b[0m\u001b[0;34m,\u001b[0m \u001b[0mdata\u001b[0m\u001b[0;34m=\u001b[0m\u001b[0mdd\u001b[0m\u001b[0;34m,\u001b[0m \u001b[0mhue\u001b[0m\u001b[0;34m=\u001b[0m\u001b[0;34m\"variable\"\u001b[0m\u001b[0;34m)\u001b[0m\u001b[0;34m\u001b[0m\u001b[0;34m\u001b[0m\u001b[0m\n\u001b[0m",
      "\u001b[0;31mNameError\u001b[0m: name 'dd' is not defined"
     ]
    }
   ],
   "source": [
    "sns.boxplot(x=\"Type\", y=\"value\", data=dd, hue=\"variable\")"
   ]
  },
  {
   "cell_type": "code",
   "execution_count": null,
   "metadata": {},
   "outputs": [],
   "source": []
  }
 ],
 "metadata": {
  "kernelspec": {
   "display_name": "Python 3.8.1 64-bit ('3.8.1': pyenv)",
   "language": "python",
   "name": "python38164bit381pyenvc0e1d4fb139e4c8d8bbd1bcf9c4ee977"
  },
  "language_info": {
   "codemirror_mode": {
    "name": "ipython",
    "version": 3
   },
   "file_extension": ".py",
   "mimetype": "text/x-python",
   "name": "python",
   "nbconvert_exporter": "python",
   "pygments_lexer": "ipython3",
   "version": "3.8.1"
  }
 },
 "nbformat": 4,
 "nbformat_minor": 4
}
