{
 "cells": [
  {
   "cell_type": "code",
   "execution_count": 1,
   "metadata": {
    "tags": []
   },
   "outputs": [
    {
     "name": "stdout",
     "output_type": "stream",
     "text": [
      "          Name         Type Tone Syllab    Jitter   Shimmer        HNR\n",
      "0      myd_a_h      my_data    h      a  0.222252  0.017838  28.288537\n",
      "1      myd_a_l      my_data    l      a  0.487569  0.023036  21.677873\n",
      "2      myd_a_n      my_data    n      a  0.222252  0.017838  28.288537\n",
      "3      4-1_a_l      my_data    l      a  5.058610  0.105972   5.959865\n",
      "4        4_a_n      my_data    n      a  0.467767  0.016834  26.713612\n",
      "...        ...          ...  ...    ...       ...       ...        ...\n",
      "7789  2577-i_n  psychogenic    n      i  0.237235  0.013785  32.023731\n",
      "7790  1479-i_h  psychogenic    h      i  0.260425  0.018988  26.772784\n",
      "7791   911-a_h  psychogenic    h      a  0.600121  0.021966  23.163991\n",
      "7792  1058-i_n  psychogenic    n      i  0.426018  0.017449  27.967363\n",
      "7793  1425-i_l  psychogenic    l      i  0.456206  0.014702  26.299612\n",
      "\n",
      "[7794 rows x 7 columns]\n"
     ]
    },
    {
     "name": "stderr",
     "output_type": "stream",
     "text": [
      "/Users/leochoo/.pyenv/versions/3.8.1/lib/python3.8/site-packages/pandas/compat/__init__.py:117: UserWarning: Could not import the lzma module. Your installed Python is incomplete. Attempting to use lzma compression will result in a RuntimeError.\n",
      "  warnings.warn(msg)\n"
     ]
    }
   ],
   "source": [
    "# read CSV\n",
    "\n",
    "import pandas \n",
    "# df = pandas.read_csv('testSVD_j_s_h.csv') \n",
    "df = pandas.read_csv('SVD_j_s_h.csv') \n",
    "print(df)"
   ]
  },
  {
   "cell_type": "code",
   "execution_count": 2,
   "metadata": {},
   "outputs": [],
   "source": [
    "df = df.drop([\"Name\", \"Tone\", \"Syllab\"], axis=1)\n",
    "df = df[df[\"Type\"] != \"my_data\"]"
   ]
  },
  {
   "cell_type": "code",
   "execution_count": 3,
   "metadata": {},
   "outputs": [],
   "source": [
    "from sklearn import preprocessing"
   ]
  },
  {
   "cell_type": "code",
   "execution_count": 4,
   "metadata": {
    "tags": []
   },
   "outputs": [
    {
     "name": "stdout",
     "output_type": "stream",
     "text": [
      "['functional', 'healthy', 'hyperfunctional', 'organic', 'psychogenic']\n",
      "[1 1 1 ... 4 4 4]\n"
     ]
    }
   ],
   "source": [
    "# Create a label encoder object \n",
    "le = preprocessing.LabelEncoder()\n",
    "\n",
    "# Fit the encoder object (le) to a pandas field with categorical data\n",
    "le.fit(df['Type'])\n",
    "\n",
    "# Display labels\n",
    "target_names = list(le.classes_)\n",
    "print(target_names)\n",
    "\n",
    "# Apply the label encoder object to a pandas column\n",
    "dys_target = le.transform(df['Type']) \n",
    "print(dys_target)"
   ]
  },
  {
   "cell_type": "code",
   "execution_count": 5,
   "metadata": {},
   "outputs": [],
   "source": [
    "dys_data = df.drop(columns=\"Type\").to_numpy()"
   ]
  },
  {
   "cell_type": "code",
   "execution_count": 6,
   "metadata": {},
   "outputs": [],
   "source": [
    "import sklearn\n",
    "from sklearn import datasets\n",
    "from sklearn import svm\n",
    "from sklearn import metrics"
   ]
  },
  {
   "cell_type": "code",
   "execution_count": 7,
   "metadata": {},
   "outputs": [],
   "source": [
    "x = dys_data\n",
    "y = dys_target"
   ]
  },
  {
   "cell_type": "code",
   "execution_count": 8,
   "metadata": {},
   "outputs": [],
   "source": [
    "x_train, x_test, y_train, y_test = sklearn.model_selection.train_test_split(x, y, test_size=0.2)"
   ]
  },
  {
   "cell_type": "code",
   "execution_count": 9,
   "metadata": {
    "tags": []
   },
   "outputs": [],
   "source": [
    "# print(x_train, y_train)"
   ]
  },
  {
   "cell_type": "code",
   "execution_count": 10,
   "metadata": {
    "tags": []
   },
   "outputs": [
    {
     "name": "stdout",
     "output_type": "stream",
     "text": [
      "Linear Accuracy: 0.41452442159383035\n"
     ]
    }
   ],
   "source": [
    "clf = svm.SVC(kernel=\"linear\", C=7)\n",
    "clf.fit(x_train, y_train)\n",
    "y_pred = clf.predict(x_test)\n",
    "acc = metrics.accuracy_score(y_test, y_pred)\n",
    "print(\"Linear Accuracy:\", acc)"
   ]
  },
  {
   "cell_type": "code",
   "execution_count": 11,
   "metadata": {
    "tags": []
   },
   "outputs": [],
   "source": [
    "# clf = svm.SVC(kernel=\"poly\", C=13)\n",
    "# clf.fit(x_train, y_train)\n",
    "# y_pred = clf.predict(x_test)\n",
    "# acc = metrics.accuracy_score(y_test, y_pred)\n",
    "# print(\"Polynomial Accuracy:\",acc)"
   ]
  },
  {
   "cell_type": "code",
   "execution_count": 12,
   "metadata": {},
   "outputs": [],
   "source": [
    "from tqdm import tqdm"
   ]
  },
  {
   "cell_type": "code",
   "execution_count": 13,
   "metadata": {},
   "outputs": [],
   "source": [
    "# ## 500 runs to measure the average\n",
    "\n",
    "# # linear\n",
    "# total = 0\n",
    "# for i in tqdm(range(0,500)):\n",
    "#     x_train, x_test, y_train, y_test = sklearn.model_selection.train_test_split(x, y, test_size=0.2)\n",
    "#     clf = svm.SVC(kernel=\"linear\", C=7)\n",
    "#     clf.fit(x_train, y_train)\n",
    "#     y_pred = clf.predict(x_test)\n",
    "#     acc = metrics.accuracy_score(y_test, y_pred)\n",
    "# #     print(\"Linear Accuracy:\", acc)\n",
    "#     total += acc\n",
    "    \n",
    "# avrg = total / 500\n",
    "# print(\"Linear avrg:\", avrg)"
   ]
  },
  {
   "cell_type": "code",
   "execution_count": 14,
   "metadata": {
    "tags": []
   },
   "outputs": [],
   "source": [
    "# # poly\n",
    "# total = 0\n",
    "# for i in tqdm(range(0,500)):\n",
    "#     x_train, x_test, y_train, y_test = sklearn.model_selection.train_test_split(x, y, test_size=0.2)\n",
    "#     clf = svm.SVC(kernel=\"linear\", C=7)\n",
    "#     clf.fit(x_train, y_train)\n",
    "#     y_pred = clf.predict(x_test)\n",
    "#     acc = metrics.accuracy_score(y_test, y_pred)\n",
    "# #     print(\"Linear Accuracy:\", acc)\n",
    "#     total += acc\n",
    "    \n",
    "# avrg = total / 500\n",
    "# print(\"Poly avrg:\",avrg)"
   ]
  },
  {
   "cell_type": "code",
   "execution_count": null,
   "metadata": {},
   "outputs": [],
   "source": []
  }
 ],
 "metadata": {
  "kernelspec": {
   "display_name": "Python 3.8.1 64-bit ('3.8.1': pyenv)",
   "language": "python",
   "name": "python38164bit381pyenvc0e1d4fb139e4c8d8bbd1bcf9c4ee977"
  },
  "language_info": {
   "codemirror_mode": {
    "name": "ipython",
    "version": 3
   },
   "file_extension": ".py",
   "mimetype": "text/x-python",
   "name": "python",
   "nbconvert_exporter": "python",
   "pygments_lexer": "ipython3",
   "version": "3.8.1"
  }
 },
 "nbformat": 4,
 "nbformat_minor": 4
}
