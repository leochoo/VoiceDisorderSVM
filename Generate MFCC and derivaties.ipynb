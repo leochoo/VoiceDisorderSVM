{
 "cells": [
  {
   "cell_type": "code",
   "execution_count": 33,
   "metadata": {},
   "outputs": [],
   "source": [
    "# initialize\n",
    "from tqdm import tqdm\n",
    "from time import sleep\n",
    "\n",
    "import glob\n",
    "import parselmouth\n",
    "import pandas as pd\n",
    "import numpy as np\n",
    "import matplotlib.pyplot as plt\n",
    "import seaborn as sns\n",
    "import os\n",
    "\n",
    "import statistics\n",
    "import speechpy"
   ]
  },
  {
   "cell_type": "code",
   "execution_count": 34,
   "metadata": {},
   "outputs": [],
   "source": [
    "wav_file = \"/Users/leochoo/dev/VoiceDisorderSVM/data/SVD/test_audio/healthy/1-a_h.wav\"\n",
    "sound = parselmouth.Sound(wav_file) # sound object from wav file"
   ]
  },
  {
   "cell_type": "code",
   "execution_count": 35,
   "metadata": {},
   "outputs": [
    {
     "data": {
      "text/plain": [
       "<parselmouth.MFCC at 0x130c86670>"
      ]
     },
     "execution_count": 35,
     "metadata": {},
     "output_type": "execute_result"
    }
   ],
   "source": [
    "# MFCC\n",
    "mfcc_object = sound.to_mfcc(number_of_coefficients=12) # from 0 to 12\n",
    "mfcc_object"
   ]
  },
  {
   "cell_type": "code",
   "execution_count": 45,
   "metadata": {},
   "outputs": [
    {
     "data": {
      "text/plain": [
       "1740.965241853779"
      ]
     },
     "execution_count": 45,
     "metadata": {},
     "output_type": "execute_result"
    }
   ],
   "source": [
    "mfcc_arr = mfcc_object.to_array()\n",
    "len(mfcc_arr)\n",
    "statistics.mean(mfcc_arr[0])"
   ]
  },
  {
   "cell_type": "code",
   "execution_count": 47,
   "metadata": {},
   "outputs": [],
   "source": [
    "mfcc_dic = {}\n",
    "for i in range(1,len(mfcc_arr)):\n",
    "    mfcc_dic[\"MFCC-\"+str(i)] = [statistics.mean(mfcc_arr[i])]\n",
    "mfcc_df = pd.DataFrame.from_dict(mfcc_dic)"
   ]
  },
  {
   "cell_type": "code",
   "execution_count": 42,
   "metadata": {},
   "outputs": [
    {
     "data": {
      "text/html": [
       "<div>\n",
       "<style scoped>\n",
       "    .dataframe tbody tr th:only-of-type {\n",
       "        vertical-align: middle;\n",
       "    }\n",
       "\n",
       "    .dataframe tbody tr th {\n",
       "        vertical-align: top;\n",
       "    }\n",
       "\n",
       "    .dataframe thead th {\n",
       "        text-align: right;\n",
       "    }\n",
       "</style>\n",
       "<table border=\"1\" class=\"dataframe\">\n",
       "  <thead>\n",
       "    <tr style=\"text-align: right;\">\n",
       "      <th></th>\n",
       "      <th>MFCC-1</th>\n",
       "      <th>MFCC-2</th>\n",
       "      <th>MFCC-3</th>\n",
       "      <th>MFCC-4</th>\n",
       "      <th>MFCC-5</th>\n",
       "      <th>MFCC-6</th>\n",
       "      <th>MFCC-7</th>\n",
       "      <th>MFCC-8</th>\n",
       "      <th>MFCC-9</th>\n",
       "      <th>MFCC-10</th>\n",
       "      <th>MFCC-11</th>\n",
       "      <th>MFCC-12</th>\n",
       "    </tr>\n",
       "  </thead>\n",
       "  <tbody>\n",
       "    <tr>\n",
       "      <th>0</th>\n",
       "      <td>396.361323</td>\n",
       "      <td>-116.619975</td>\n",
       "      <td>-21.260483</td>\n",
       "      <td>-203.293634</td>\n",
       "      <td>-91.003209</td>\n",
       "      <td>-165.913936</td>\n",
       "      <td>-92.061193</td>\n",
       "      <td>27.434481</td>\n",
       "      <td>12.731777</td>\n",
       "      <td>-78.369763</td>\n",
       "      <td>-37.069225</td>\n",
       "      <td>-9.464482</td>\n",
       "    </tr>\n",
       "  </tbody>\n",
       "</table>\n",
       "</div>"
      ],
      "text/plain": [
       "       MFCC-1      MFCC-2     MFCC-3      MFCC-4     MFCC-5      MFCC-6  \\\n",
       "0  396.361323 -116.619975 -21.260483 -203.293634 -91.003209 -165.913936   \n",
       "\n",
       "      MFCC-7     MFCC-8     MFCC-9    MFCC-10    MFCC-11   MFCC-12  \n",
       "0 -92.061193  27.434481  12.731777 -78.369763 -37.069225 -9.464482  "
      ]
     },
     "execution_count": 42,
     "metadata": {},
     "output_type": "execute_result"
    }
   ],
   "source": [
    "mfcc_df"
   ]
  },
  {
   "cell_type": "code",
   "execution_count": 59,
   "metadata": {},
   "outputs": [
    {
     "data": {
      "text/plain": [
       "'\\n    File type = \"ooTextFile\"\\n    Object class = \"MFCC 1\"\\n\\n    xmin = 0 \\n    xmax = 1.99352 \\n    nx = 393 \\n    dx = 0.005\\n    x1 = 0.01676000000000005 \\n    fmin = 0 \\n    fmax = 4100 \\n    maximumNumberOfCoefficients = 39 \\n    \\n    \\n    \\n    \\n'"
      ]
     },
     "execution_count": 59,
     "metadata": {},
     "output_type": "execute_result"
    }
   ],
   "source": [
    "\"\"\"\n",
    "    File type = \"ooTextFile\"\n",
    "    Object class = \"MFCC 1\"\n",
    "\n",
    "    xmin = 0 \n",
    "    xmax = 1.99352 \n",
    "    nx = 393 \n",
    "    dx = 0.005\n",
    "    x1 = 0.01676000000000005 \n",
    "    fmin = 0 \n",
    "    fmax = 4100 \n",
    "    maximumNumberOfCoefficients = 39 \n",
    "    \n",
    "    \n",
    "    \n",
    "    \n",
    "\"\"\"\n",
    "# This result was generated by praat. Here we can see\n",
    "# how much frame_length PRAAT used (dx = 0.005)\n",
    "# as well as checking duration etc."
   ]
  },
  {
   "cell_type": "code",
   "execution_count": 60,
   "metadata": {},
   "outputs": [
    {
     "name": "stdout",
     "output_type": "stream",
     "text": [
      "99676\n",
      "50000\n",
      "1.99352\n"
     ]
    }
   ],
   "source": [
    "# another way to check duration etc.\n",
    "import wave\n",
    "import contextlib\n",
    "fname = wav_file\n",
    "with contextlib.closing(wave.open(fname,'r')) as f:\n",
    "    frames = f.getnframes()\n",
    "    print(frames)\n",
    "    rate = f.getframerate()\n",
    "    print(rate)\n",
    "    duration = frames / float(rate)\n",
    "    print(duration)"
   ]
  },
  {
   "cell_type": "code",
   "execution_count": 91,
   "metadata": {},
   "outputs": [
    {
     "data": {
      "text/plain": [
       "0.007859999999999999"
      ]
     },
     "execution_count": 91,
     "metadata": {},
     "output_type": "execute_result"
    }
   ],
   "source": [
    "1.99352 / (99676/393)"
   ]
  },
  {
   "cell_type": "code",
   "execution_count": 84,
   "metadata": {},
   "outputs": [],
   "source": [
    "# read sound file\n",
    "from scipy.io import wavfile\n",
    "samplerate, data = wavfile.read(wav_file)"
   ]
  },
  {
   "cell_type": "code",
   "execution_count": 103,
   "metadata": {},
   "outputs": [
    {
     "data": {
      "text/plain": [
       "array([[ 2.30788011e+01,  8.74297775e+00, -4.73649223e+00, ...,\n",
       "        -9.84282599e-01, -7.10952178e-01, -1.06898944e+00],\n",
       "       [ 2.29972951e+01,  1.48815732e+01, -2.43431791e-01, ...,\n",
       "         1.21816204e+00, -9.13094974e-01, -5.63639552e-01],\n",
       "       [ 2.30777944e+01,  1.15861942e+01, -9.19905308e-01, ...,\n",
       "         1.56295563e-02, -1.24734982e+00, -1.87599291e+00],\n",
       "       ...,\n",
       "       [ 2.38986042e+01,  1.35555168e+01, -1.72206459e+00, ...,\n",
       "        -5.88686595e-01, -1.65235048e+00, -1.65788885e+00],\n",
       "       [ 2.39048970e+01,  1.03174575e+01, -2.51349839e+00, ...,\n",
       "        -1.27620995e+00, -6.99068493e-01, -1.90777208e-01],\n",
       "       [ 2.38687080e+01,  9.43397079e+00, -1.78141975e+00, ...,\n",
       "        -7.11071880e-02, -3.12751314e-01, -1.33318275e+00]])"
      ]
     },
     "execution_count": 103,
     "metadata": {},
     "output_type": "execute_result"
    }
   ],
   "source": [
    "mfcc2 = speechpy.feature.mfcc(data, samplerate, frame_length=0.05, frame_stride=0.01, num_cepstral = 12)\n",
    "mfcc2"
   ]
  },
  {
   "cell_type": "code",
   "execution_count": 104,
   "metadata": {},
   "outputs": [
    {
     "data": {
      "text/plain": [
       "array([[ 2.30788011e+01,  2.29972951e+01,  2.30777944e+01, ...,\n",
       "         2.38986042e+01,  2.39048970e+01,  2.38687080e+01],\n",
       "       [ 8.74297775e+00,  1.48815732e+01,  1.15861942e+01, ...,\n",
       "         1.35555168e+01,  1.03174575e+01,  9.43397079e+00],\n",
       "       [-4.73649223e+00, -2.43431791e-01, -9.19905308e-01, ...,\n",
       "        -1.72206459e+00, -2.51349839e+00, -1.78141975e+00],\n",
       "       ...,\n",
       "       [-9.84282599e-01,  1.21816204e+00,  1.56295563e-02, ...,\n",
       "        -5.88686595e-01, -1.27620995e+00, -7.11071880e-02],\n",
       "       [-7.10952178e-01, -9.13094974e-01, -1.24734982e+00, ...,\n",
       "        -1.65235048e+00, -6.99068493e-01, -3.12751314e-01],\n",
       "       [-1.06898944e+00, -5.63639552e-01, -1.87599291e+00, ...,\n",
       "        -1.65788885e+00, -1.90777208e-01, -1.33318275e+00]])"
      ]
     },
     "execution_count": 104,
     "metadata": {},
     "output_type": "execute_result"
    }
   ],
   "source": [
    "mfcc2 = mfcc2.T\n",
    "mfcc2"
   ]
  },
  {
   "cell_type": "code",
   "execution_count": null,
   "metadata": {},
   "outputs": [],
   "source": []
  },
  {
   "cell_type": "code",
   "execution_count": 105,
   "metadata": {},
   "outputs": [],
   "source": [
    "mfcc2_dic = {}\n",
    "for i in range(1,len(mfcc2)):\n",
    "    mfcc2_dic[\"MFCC-\"+str(i)] = [statistics.mean(mfcc2[i])]\n",
    "mfcc_df2 = pd.DataFrame.from_dict(mfcc2_dic)"
   ]
  },
  {
   "cell_type": "code",
   "execution_count": 106,
   "metadata": {},
   "outputs": [
    {
     "data": {
      "text/html": [
       "<div>\n",
       "<style scoped>\n",
       "    .dataframe tbody tr th:only-of-type {\n",
       "        vertical-align: middle;\n",
       "    }\n",
       "\n",
       "    .dataframe tbody tr th {\n",
       "        vertical-align: top;\n",
       "    }\n",
       "\n",
       "    .dataframe thead th {\n",
       "        text-align: right;\n",
       "    }\n",
       "</style>\n",
       "<table border=\"1\" class=\"dataframe\">\n",
       "  <thead>\n",
       "    <tr style=\"text-align: right;\">\n",
       "      <th></th>\n",
       "      <th>MFCC-1</th>\n",
       "      <th>MFCC-2</th>\n",
       "      <th>MFCC-3</th>\n",
       "      <th>MFCC-4</th>\n",
       "      <th>MFCC-5</th>\n",
       "      <th>MFCC-6</th>\n",
       "      <th>MFCC-7</th>\n",
       "      <th>MFCC-8</th>\n",
       "      <th>MFCC-9</th>\n",
       "      <th>MFCC-10</th>\n",
       "      <th>MFCC-11</th>\n",
       "    </tr>\n",
       "  </thead>\n",
       "  <tbody>\n",
       "    <tr>\n",
       "      <th>0</th>\n",
       "      <td>12.182926</td>\n",
       "      <td>-1.613204</td>\n",
       "      <td>-3.708995</td>\n",
       "      <td>-4.383207</td>\n",
       "      <td>-3.170194</td>\n",
       "      <td>0.241774</td>\n",
       "      <td>1.257916</td>\n",
       "      <td>-1.058584</td>\n",
       "      <td>0.004945</td>\n",
       "      <td>-0.898975</td>\n",
       "      <td>-1.117809</td>\n",
       "    </tr>\n",
       "  </tbody>\n",
       "</table>\n",
       "</div>"
      ],
      "text/plain": [
       "      MFCC-1    MFCC-2    MFCC-3    MFCC-4    MFCC-5    MFCC-6    MFCC-7  \\\n",
       "0  12.182926 -1.613204 -3.708995 -4.383207 -3.170194  0.241774  1.257916   \n",
       "\n",
       "     MFCC-8    MFCC-9   MFCC-10   MFCC-11  \n",
       "0 -1.058584  0.004945 -0.898975 -1.117809  "
      ]
     },
     "execution_count": 106,
     "metadata": {},
     "output_type": "execute_result"
    }
   ],
   "source": [
    "mfcc_df2"
   ]
  },
  {
   "cell_type": "code",
   "execution_count": null,
   "metadata": {},
   "outputs": [],
   "source": []
  }
 ],
 "metadata": {
  "kernelspec": {
   "display_name": "Python 3.8.1 64-bit ('3.8.1': pyenv)",
   "language": "python",
   "name": "python38164bit381pyenvc0e1d4fb139e4c8d8bbd1bcf9c4ee977"
  },
  "language_info": {
   "codemirror_mode": {
    "name": "ipython",
    "version": 3
   },
   "file_extension": ".py",
   "mimetype": "text/x-python",
   "name": "python",
   "nbconvert_exporter": "python",
   "pygments_lexer": "ipython3",
   "version": "3.8.1"
  }
 },
 "nbformat": 4,
 "nbformat_minor": 4
}
