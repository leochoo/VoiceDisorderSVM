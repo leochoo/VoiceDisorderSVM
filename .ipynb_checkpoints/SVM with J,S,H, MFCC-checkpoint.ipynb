{
 "cells": [
  {
   "cell_type": "code",
   "execution_count": 139,
   "metadata": {
    "tags": []
   },
   "outputs": [
    {
     "name": "stdout",
     "output_type": "stream",
     "text": [
      "       Name         Type Tone Syllab    Jitter   Shimmer        HNR  \\\n",
      "0     1-i_l      healthy    l      i  0.238779  0.019045  19.410768   \n",
      "1     2-u_h      healthy    h      u  0.349111  0.023441  28.655604   \n",
      "2     1-i_n      healthy    n      i  0.209544  0.007423  26.996682   \n",
      "3     2-u_l      healthy    l      u  1.069854  0.041115  25.108378   \n",
      "4     2-u_n      healthy    n      u  0.413457  0.031538  24.573556   \n",
      "..      ...          ...  ...    ...       ...       ...        ...   \n",
      "94  151-a_l  psychogenic    l      a  0.100698  0.010602  32.236174   \n",
      "95  366-u_n  psychogenic    n      u  0.201356  0.015767  31.531414   \n",
      "96  741-a_h  psychogenic    h      a  0.281613  0.026882  28.802297   \n",
      "97  366-u_l  psychogenic    l      u  0.389981  0.039966  23.895287   \n",
      "98  151-a_n  psychogenic    n      a  0.448863  0.024517  23.677346   \n",
      "\n",
      "        MFCC-1      MFCC-2     MFCC-3      MFCC-4     MFCC-5      MFCC-6  \\\n",
      "0   401.683204 -106.091207 -16.204958 -177.451287 -80.432412 -167.325435   \n",
      "1   405.945214 -107.319951  -6.467390 -168.654549 -83.775023 -164.000390   \n",
      "2   412.992202 -105.668520   4.367001 -173.748357 -77.660894 -151.323178   \n",
      "3   414.991160  -97.516727  14.790359 -171.141081 -67.202782 -142.208466   \n",
      "4   406.918197  -86.251020  10.266493 -182.298364 -60.985385 -148.072712   \n",
      "..         ...         ...        ...         ...        ...         ...   \n",
      "94  542.278005   -8.265111 -30.852985 -106.179846 -30.792265  -22.565280   \n",
      "95  536.969358   -3.689975 -21.333714 -120.413892 -17.823602  -23.398328   \n",
      "96  536.136757   -8.291563 -18.436971 -128.908856 -12.679275  -27.813144   \n",
      "97  543.660395    0.800456 -29.287699 -121.155722 -10.923893  -32.041889   \n",
      "98  539.588810   10.567431 -35.510372 -116.747291  -1.859557  -38.852202   \n",
      "\n",
      "       MFCC-7     MFCC-8     MFCC-9    MFCC-10    MFCC-11    MFCC-12  \\\n",
      "0  -70.950945  60.705756 -18.078235 -92.995773 -13.111788  -4.964332   \n",
      "1  -57.471754  48.452583  -6.290534 -82.880371 -21.278743  10.481437   \n",
      "2  -68.017679  71.309964 -10.580220 -88.565720  -7.091164   3.198551   \n",
      "3  -72.015559  82.295822  -4.728251 -89.755092   6.052225  -1.277937   \n",
      "4  -66.949520  75.605251  -3.342546 -89.780277  -3.320846   8.403894   \n",
      "..        ...        ...        ...        ...        ...        ...   \n",
      "94 -42.890834  29.361151  26.303133 -40.181743 -47.681269  38.188908   \n",
      "95 -48.960628  31.284078  32.925703 -45.128236 -41.538127  34.274904   \n",
      "96 -46.305927  37.134118  20.319001 -47.234094 -41.778117  34.873738   \n",
      "97 -46.673164  35.578120  20.406814 -39.499129 -40.591833  23.920612   \n",
      "98 -43.809195  38.984126  15.390072 -32.285179 -42.601299  21.982354   \n",
      "\n",
      "      MFCC-13  \n",
      "0  -29.427566  \n",
      "1  -38.131368  \n",
      "2  -33.208541  \n",
      "3  -27.437695  \n",
      "4  -32.433375  \n",
      "..        ...  \n",
      "94 -16.714789  \n",
      "95 -24.623071  \n",
      "96 -26.046758  \n",
      "97 -20.058146  \n",
      "98 -10.771525  \n",
      "\n",
      "[99 rows x 20 columns]\n"
     ]
    }
   ],
   "source": [
    "# read CSV\n",
    "\n",
    "import pandas \n",
    "df = pandas.read_csv('testSVD_j_s_hnr_mfcc.csv') \n",
    "# df = pandas.read_csv('SVD_j_s_hnr_mfcc.csv') \n",
    "print(df)"
   ]
  },
  {
   "cell_type": "code",
   "execution_count": 140,
   "metadata": {},
   "outputs": [
    {
     "data": {
      "text/html": [
       "<div>\n",
       "<style scoped>\n",
       "    .dataframe tbody tr th:only-of-type {\n",
       "        vertical-align: middle;\n",
       "    }\n",
       "\n",
       "    .dataframe tbody tr th {\n",
       "        vertical-align: top;\n",
       "    }\n",
       "\n",
       "    .dataframe thead th {\n",
       "        text-align: right;\n",
       "    }\n",
       "</style>\n",
       "<table border=\"1\" class=\"dataframe\">\n",
       "  <thead>\n",
       "    <tr style=\"text-align: right;\">\n",
       "      <th></th>\n",
       "      <th>Type</th>\n",
       "      <th>Jitter</th>\n",
       "      <th>Shimmer</th>\n",
       "      <th>HNR</th>\n",
       "      <th>MFCC-1</th>\n",
       "      <th>MFCC-2</th>\n",
       "      <th>MFCC-3</th>\n",
       "      <th>MFCC-4</th>\n",
       "      <th>MFCC-5</th>\n",
       "      <th>MFCC-6</th>\n",
       "      <th>MFCC-7</th>\n",
       "      <th>MFCC-8</th>\n",
       "      <th>MFCC-9</th>\n",
       "      <th>MFCC-10</th>\n",
       "      <th>MFCC-11</th>\n",
       "      <th>MFCC-12</th>\n",
       "      <th>MFCC-13</th>\n",
       "    </tr>\n",
       "  </thead>\n",
       "  <tbody>\n",
       "    <tr>\n",
       "      <th>0</th>\n",
       "      <td>healthy</td>\n",
       "      <td>0.238779</td>\n",
       "      <td>0.019045</td>\n",
       "      <td>19.410768</td>\n",
       "      <td>401.683204</td>\n",
       "      <td>-106.091207</td>\n",
       "      <td>-16.204958</td>\n",
       "      <td>-177.451287</td>\n",
       "      <td>-80.432412</td>\n",
       "      <td>-167.325435</td>\n",
       "      <td>-70.950945</td>\n",
       "      <td>60.705756</td>\n",
       "      <td>-18.078235</td>\n",
       "      <td>-92.995773</td>\n",
       "      <td>-13.111788</td>\n",
       "      <td>-4.964332</td>\n",
       "      <td>-29.427566</td>\n",
       "    </tr>\n",
       "    <tr>\n",
       "      <th>1</th>\n",
       "      <td>healthy</td>\n",
       "      <td>0.349111</td>\n",
       "      <td>0.023441</td>\n",
       "      <td>28.655604</td>\n",
       "      <td>405.945214</td>\n",
       "      <td>-107.319951</td>\n",
       "      <td>-6.467390</td>\n",
       "      <td>-168.654549</td>\n",
       "      <td>-83.775023</td>\n",
       "      <td>-164.000390</td>\n",
       "      <td>-57.471754</td>\n",
       "      <td>48.452583</td>\n",
       "      <td>-6.290534</td>\n",
       "      <td>-82.880371</td>\n",
       "      <td>-21.278743</td>\n",
       "      <td>10.481437</td>\n",
       "      <td>-38.131368</td>\n",
       "    </tr>\n",
       "    <tr>\n",
       "      <th>2</th>\n",
       "      <td>healthy</td>\n",
       "      <td>0.209544</td>\n",
       "      <td>0.007423</td>\n",
       "      <td>26.996682</td>\n",
       "      <td>412.992202</td>\n",
       "      <td>-105.668520</td>\n",
       "      <td>4.367001</td>\n",
       "      <td>-173.748357</td>\n",
       "      <td>-77.660894</td>\n",
       "      <td>-151.323178</td>\n",
       "      <td>-68.017679</td>\n",
       "      <td>71.309964</td>\n",
       "      <td>-10.580220</td>\n",
       "      <td>-88.565720</td>\n",
       "      <td>-7.091164</td>\n",
       "      <td>3.198551</td>\n",
       "      <td>-33.208541</td>\n",
       "    </tr>\n",
       "    <tr>\n",
       "      <th>3</th>\n",
       "      <td>healthy</td>\n",
       "      <td>1.069854</td>\n",
       "      <td>0.041115</td>\n",
       "      <td>25.108378</td>\n",
       "      <td>414.991160</td>\n",
       "      <td>-97.516727</td>\n",
       "      <td>14.790359</td>\n",
       "      <td>-171.141081</td>\n",
       "      <td>-67.202782</td>\n",
       "      <td>-142.208466</td>\n",
       "      <td>-72.015559</td>\n",
       "      <td>82.295822</td>\n",
       "      <td>-4.728251</td>\n",
       "      <td>-89.755092</td>\n",
       "      <td>6.052225</td>\n",
       "      <td>-1.277937</td>\n",
       "      <td>-27.437695</td>\n",
       "    </tr>\n",
       "    <tr>\n",
       "      <th>4</th>\n",
       "      <td>healthy</td>\n",
       "      <td>0.413457</td>\n",
       "      <td>0.031538</td>\n",
       "      <td>24.573556</td>\n",
       "      <td>406.918197</td>\n",
       "      <td>-86.251020</td>\n",
       "      <td>10.266493</td>\n",
       "      <td>-182.298364</td>\n",
       "      <td>-60.985385</td>\n",
       "      <td>-148.072712</td>\n",
       "      <td>-66.949520</td>\n",
       "      <td>75.605251</td>\n",
       "      <td>-3.342546</td>\n",
       "      <td>-89.780277</td>\n",
       "      <td>-3.320846</td>\n",
       "      <td>8.403894</td>\n",
       "      <td>-32.433375</td>\n",
       "    </tr>\n",
       "    <tr>\n",
       "      <th>...</th>\n",
       "      <td>...</td>\n",
       "      <td>...</td>\n",
       "      <td>...</td>\n",
       "      <td>...</td>\n",
       "      <td>...</td>\n",
       "      <td>...</td>\n",
       "      <td>...</td>\n",
       "      <td>...</td>\n",
       "      <td>...</td>\n",
       "      <td>...</td>\n",
       "      <td>...</td>\n",
       "      <td>...</td>\n",
       "      <td>...</td>\n",
       "      <td>...</td>\n",
       "      <td>...</td>\n",
       "      <td>...</td>\n",
       "      <td>...</td>\n",
       "    </tr>\n",
       "    <tr>\n",
       "      <th>94</th>\n",
       "      <td>psychogenic</td>\n",
       "      <td>0.100698</td>\n",
       "      <td>0.010602</td>\n",
       "      <td>32.236174</td>\n",
       "      <td>542.278005</td>\n",
       "      <td>-8.265111</td>\n",
       "      <td>-30.852985</td>\n",
       "      <td>-106.179846</td>\n",
       "      <td>-30.792265</td>\n",
       "      <td>-22.565280</td>\n",
       "      <td>-42.890834</td>\n",
       "      <td>29.361151</td>\n",
       "      <td>26.303133</td>\n",
       "      <td>-40.181743</td>\n",
       "      <td>-47.681269</td>\n",
       "      <td>38.188908</td>\n",
       "      <td>-16.714789</td>\n",
       "    </tr>\n",
       "    <tr>\n",
       "      <th>95</th>\n",
       "      <td>psychogenic</td>\n",
       "      <td>0.201356</td>\n",
       "      <td>0.015767</td>\n",
       "      <td>31.531414</td>\n",
       "      <td>536.969358</td>\n",
       "      <td>-3.689975</td>\n",
       "      <td>-21.333714</td>\n",
       "      <td>-120.413892</td>\n",
       "      <td>-17.823602</td>\n",
       "      <td>-23.398328</td>\n",
       "      <td>-48.960628</td>\n",
       "      <td>31.284078</td>\n",
       "      <td>32.925703</td>\n",
       "      <td>-45.128236</td>\n",
       "      <td>-41.538127</td>\n",
       "      <td>34.274904</td>\n",
       "      <td>-24.623071</td>\n",
       "    </tr>\n",
       "    <tr>\n",
       "      <th>96</th>\n",
       "      <td>psychogenic</td>\n",
       "      <td>0.281613</td>\n",
       "      <td>0.026882</td>\n",
       "      <td>28.802297</td>\n",
       "      <td>536.136757</td>\n",
       "      <td>-8.291563</td>\n",
       "      <td>-18.436971</td>\n",
       "      <td>-128.908856</td>\n",
       "      <td>-12.679275</td>\n",
       "      <td>-27.813144</td>\n",
       "      <td>-46.305927</td>\n",
       "      <td>37.134118</td>\n",
       "      <td>20.319001</td>\n",
       "      <td>-47.234094</td>\n",
       "      <td>-41.778117</td>\n",
       "      <td>34.873738</td>\n",
       "      <td>-26.046758</td>\n",
       "    </tr>\n",
       "    <tr>\n",
       "      <th>97</th>\n",
       "      <td>psychogenic</td>\n",
       "      <td>0.389981</td>\n",
       "      <td>0.039966</td>\n",
       "      <td>23.895287</td>\n",
       "      <td>543.660395</td>\n",
       "      <td>0.800456</td>\n",
       "      <td>-29.287699</td>\n",
       "      <td>-121.155722</td>\n",
       "      <td>-10.923893</td>\n",
       "      <td>-32.041889</td>\n",
       "      <td>-46.673164</td>\n",
       "      <td>35.578120</td>\n",
       "      <td>20.406814</td>\n",
       "      <td>-39.499129</td>\n",
       "      <td>-40.591833</td>\n",
       "      <td>23.920612</td>\n",
       "      <td>-20.058146</td>\n",
       "    </tr>\n",
       "    <tr>\n",
       "      <th>98</th>\n",
       "      <td>psychogenic</td>\n",
       "      <td>0.448863</td>\n",
       "      <td>0.024517</td>\n",
       "      <td>23.677346</td>\n",
       "      <td>539.588810</td>\n",
       "      <td>10.567431</td>\n",
       "      <td>-35.510372</td>\n",
       "      <td>-116.747291</td>\n",
       "      <td>-1.859557</td>\n",
       "      <td>-38.852202</td>\n",
       "      <td>-43.809195</td>\n",
       "      <td>38.984126</td>\n",
       "      <td>15.390072</td>\n",
       "      <td>-32.285179</td>\n",
       "      <td>-42.601299</td>\n",
       "      <td>21.982354</td>\n",
       "      <td>-10.771525</td>\n",
       "    </tr>\n",
       "  </tbody>\n",
       "</table>\n",
       "<p>99 rows × 17 columns</p>\n",
       "</div>"
      ],
      "text/plain": [
       "           Type    Jitter   Shimmer        HNR      MFCC-1      MFCC-2  \\\n",
       "0       healthy  0.238779  0.019045  19.410768  401.683204 -106.091207   \n",
       "1       healthy  0.349111  0.023441  28.655604  405.945214 -107.319951   \n",
       "2       healthy  0.209544  0.007423  26.996682  412.992202 -105.668520   \n",
       "3       healthy  1.069854  0.041115  25.108378  414.991160  -97.516727   \n",
       "4       healthy  0.413457  0.031538  24.573556  406.918197  -86.251020   \n",
       "..          ...       ...       ...        ...         ...         ...   \n",
       "94  psychogenic  0.100698  0.010602  32.236174  542.278005   -8.265111   \n",
       "95  psychogenic  0.201356  0.015767  31.531414  536.969358   -3.689975   \n",
       "96  psychogenic  0.281613  0.026882  28.802297  536.136757   -8.291563   \n",
       "97  psychogenic  0.389981  0.039966  23.895287  543.660395    0.800456   \n",
       "98  psychogenic  0.448863  0.024517  23.677346  539.588810   10.567431   \n",
       "\n",
       "       MFCC-3      MFCC-4     MFCC-5      MFCC-6     MFCC-7     MFCC-8  \\\n",
       "0  -16.204958 -177.451287 -80.432412 -167.325435 -70.950945  60.705756   \n",
       "1   -6.467390 -168.654549 -83.775023 -164.000390 -57.471754  48.452583   \n",
       "2    4.367001 -173.748357 -77.660894 -151.323178 -68.017679  71.309964   \n",
       "3   14.790359 -171.141081 -67.202782 -142.208466 -72.015559  82.295822   \n",
       "4   10.266493 -182.298364 -60.985385 -148.072712 -66.949520  75.605251   \n",
       "..        ...         ...        ...         ...        ...        ...   \n",
       "94 -30.852985 -106.179846 -30.792265  -22.565280 -42.890834  29.361151   \n",
       "95 -21.333714 -120.413892 -17.823602  -23.398328 -48.960628  31.284078   \n",
       "96 -18.436971 -128.908856 -12.679275  -27.813144 -46.305927  37.134118   \n",
       "97 -29.287699 -121.155722 -10.923893  -32.041889 -46.673164  35.578120   \n",
       "98 -35.510372 -116.747291  -1.859557  -38.852202 -43.809195  38.984126   \n",
       "\n",
       "       MFCC-9    MFCC-10    MFCC-11    MFCC-12    MFCC-13  \n",
       "0  -18.078235 -92.995773 -13.111788  -4.964332 -29.427566  \n",
       "1   -6.290534 -82.880371 -21.278743  10.481437 -38.131368  \n",
       "2  -10.580220 -88.565720  -7.091164   3.198551 -33.208541  \n",
       "3   -4.728251 -89.755092   6.052225  -1.277937 -27.437695  \n",
       "4   -3.342546 -89.780277  -3.320846   8.403894 -32.433375  \n",
       "..        ...        ...        ...        ...        ...  \n",
       "94  26.303133 -40.181743 -47.681269  38.188908 -16.714789  \n",
       "95  32.925703 -45.128236 -41.538127  34.274904 -24.623071  \n",
       "96  20.319001 -47.234094 -41.778117  34.873738 -26.046758  \n",
       "97  20.406814 -39.499129 -40.591833  23.920612 -20.058146  \n",
       "98  15.390072 -32.285179 -42.601299  21.982354 -10.771525  \n",
       "\n",
       "[99 rows x 17 columns]"
      ]
     },
     "execution_count": 140,
     "metadata": {},
     "output_type": "execute_result"
    }
   ],
   "source": [
    "df = df.drop([\"Name\", \"Tone\", \"Syllab\"], axis=1)\n",
    "df = df[df[\"Type\"] != \"my_data\"]\n",
    "df"
   ]
  },
  {
   "cell_type": "code",
   "execution_count": 141,
   "metadata": {},
   "outputs": [],
   "source": [
    "from sklearn import preprocessing"
   ]
  },
  {
   "cell_type": "code",
   "execution_count": 142,
   "metadata": {
    "tags": []
   },
   "outputs": [
    {
     "name": "stdout",
     "output_type": "stream",
     "text": [
      "['functional', 'healthy', 'hyperfunctional', 'organic', 'psychogenic']\n",
      "[1 1 1 1 1 1 1 1 1 1 1 1 1 1 1 1 1 1 0 0 0 0 0 0 0 0 0 0 0 0 0 0 0 0 0 0 2\n",
      " 2 2 2 2 2 2 2 2 2 2 2 2 2 2 2 2 2 3 3 3 3 3 3 3 3 3 3 3 3 3 3 3 3 3 3 4 4\n",
      " 4 4 4 4 4 4 4 4 4 4 4 4 4 4 4 4 4 4 4 4 4 4 4 4 4]\n"
     ]
    }
   ],
   "source": [
    "# Create a label encoder object \n",
    "le = preprocessing.LabelEncoder()\n",
    "\n",
    "# Fit the encoder object (le) to a pandas field with categorical data\n",
    "le.fit(df['Type'])\n",
    "\n",
    "# Display labels\n",
    "target_names = list(le.classes_)\n",
    "print(target_names)\n",
    "\n",
    "# Apply the label encoder object to a pandas column\n",
    "dys_target = le.transform(df['Type']) \n",
    "print(dys_target)"
   ]
  },
  {
   "cell_type": "code",
   "execution_count": 119,
   "metadata": {},
   "outputs": [
    {
     "data": {
      "text/plain": [
       "array([[ 2.38778591e-01,  1.90449402e-02,  1.94107676e+01, ...,\n",
       "        -1.31117880e+01, -4.96433173e+00, -2.94275661e+01],\n",
       "       [ 3.49110941e-01,  2.34411899e-02,  2.86556036e+01, ...,\n",
       "        -2.12787429e+01,  1.04814367e+01, -3.81313677e+01],\n",
       "       [ 2.09544437e-01,  7.42254522e-03,  2.69966824e+01, ...,\n",
       "        -7.09116413e+00,  3.19855059e+00, -3.32085408e+01],\n",
       "       ...,\n",
       "       [ 2.81612943e-01,  2.68821093e-02,  2.88022972e+01, ...,\n",
       "        -4.17781166e+01,  3.48737381e+01, -2.60467578e+01],\n",
       "       [ 3.89981061e-01,  3.99658038e-02,  2.38952866e+01, ...,\n",
       "        -4.05918326e+01,  2.39206119e+01, -2.00581459e+01],\n",
       "       [ 4.48863314e-01,  2.45174528e-02,  2.36773463e+01, ...,\n",
       "        -4.26012991e+01,  2.19823542e+01, -1.07715253e+01]])"
      ]
     },
     "execution_count": 119,
     "metadata": {},
     "output_type": "execute_result"
    }
   ],
   "source": [
    "dys_data = df.drop(columns=\"Type\").to_numpy()\n",
    "dys_data"
   ]
  },
  {
   "cell_type": "code",
   "execution_count": 120,
   "metadata": {},
   "outputs": [],
   "source": [
    "import sklearn\n",
    "from sklearn import datasets\n",
    "from sklearn import svm\n",
    "from sklearn import metrics"
   ]
  },
  {
   "cell_type": "code",
   "execution_count": 121,
   "metadata": {},
   "outputs": [],
   "source": [
    "x = dys_data\n",
    "y = dys_target"
   ]
  },
  {
   "cell_type": "code",
   "execution_count": 122,
   "metadata": {},
   "outputs": [],
   "source": [
    "x_train, x_test, y_train, y_test = sklearn.model_selection.train_test_split(x, y, test_size=0.2)"
   ]
  },
  {
   "cell_type": "code",
   "execution_count": 123,
   "metadata": {
    "tags": []
   },
   "outputs": [],
   "source": [
    "# print(x_train, y_train)"
   ]
  },
  {
   "cell_type": "code",
   "execution_count": 124,
   "metadata": {
    "tags": []
   },
   "outputs": [
    {
     "name": "stdout",
     "output_type": "stream",
     "text": [
      "Linear Accuracy: 1.0\n"
     ]
    }
   ],
   "source": [
    "clf = svm.SVC(kernel=\"linear\", C=7)\n",
    "clf.fit(x_train, y_train)\n",
    "y_pred = clf.predict(x_test)\n",
    "acc = metrics.accuracy_score(y_test, y_pred)\n",
    "print(\"Linear Accuracy:\", acc)"
   ]
  },
  {
   "cell_type": "code",
   "execution_count": 125,
   "metadata": {
    "tags": []
   },
   "outputs": [
    {
     "name": "stdout",
     "output_type": "stream",
     "text": [
      "Polynomial Accuracy: 1.0\n"
     ]
    }
   ],
   "source": [
    "clf = svm.SVC(kernel=\"poly\", C=13)\n",
    "clf.fit(x_train, y_train)\n",
    "y_pred = clf.predict(x_test)\n",
    "acc = metrics.accuracy_score(y_test, y_pred)\n",
    "print(\"Polynomial Accuracy:\",acc)"
   ]
  },
  {
   "cell_type": "code",
   "execution_count": 126,
   "metadata": {},
   "outputs": [],
   "source": [
    "from tqdm import tqdm"
   ]
  },
  {
   "cell_type": "code",
   "execution_count": 127,
   "metadata": {},
   "outputs": [
    {
     "name": "stderr",
     "output_type": "stream",
     "text": [
      "100%|██████████| 500/500 [00:00<00:00, 957.35it/s]"
     ]
    },
    {
     "name": "stdout",
     "output_type": "stream",
     "text": [
      "Linear avrg: 1.0\n"
     ]
    },
    {
     "name": "stderr",
     "output_type": "stream",
     "text": [
      "\n"
     ]
    }
   ],
   "source": [
    "## 500 runs to measure the average\n",
    "\n",
    "# linear\n",
    "total = 0\n",
    "for i in tqdm(range(0,500)):\n",
    "    x_train, x_test, y_train, y_test = sklearn.model_selection.train_test_split(x, y, test_size=0.2)\n",
    "    clf = svm.SVC(kernel=\"linear\", C=7)\n",
    "    clf.fit(x_train, y_train)\n",
    "    y_pred = clf.predict(x_test)\n",
    "    acc = metrics.accuracy_score(y_test, y_pred)\n",
    "#     print(\"Linear Accuracy:\", acc)\n",
    "    total += acc\n",
    "    \n",
    "avrg = total / 500\n",
    "print(\"Linear avrg:\", avrg)"
   ]
  },
  {
   "cell_type": "code",
   "execution_count": 128,
   "metadata": {
    "tags": []
   },
   "outputs": [
    {
     "name": "stderr",
     "output_type": "stream",
     "text": [
      "100%|██████████| 500/500 [00:00<00:00, 938.90it/s]"
     ]
    },
    {
     "name": "stdout",
     "output_type": "stream",
     "text": [
      "Poly avrg: 1.0\n"
     ]
    },
    {
     "name": "stderr",
     "output_type": "stream",
     "text": [
      "\n"
     ]
    }
   ],
   "source": [
    "# poly\n",
    "total = 0\n",
    "for i in tqdm(range(0,500)):\n",
    "    x_train, x_test, y_train, y_test = sklearn.model_selection.train_test_split(x, y, test_size=0.2)\n",
    "    clf = svm.SVC(kernel=\"linear\", C=7)\n",
    "    clf.fit(x_train, y_train)\n",
    "    y_pred = clf.predict(x_test)\n",
    "    acc = metrics.accuracy_score(y_test, y_pred)\n",
    "#     print(\"Linear Accuracy:\", acc)\n",
    "    total += acc\n",
    "    \n",
    "avrg = total / 500\n",
    "print(\"Poly avrg:\",avrg)"
   ]
  },
  {
   "cell_type": "code",
   "execution_count": null,
   "metadata": {},
   "outputs": [],
   "source": []
  }
 ],
 "metadata": {
  "kernelspec": {
   "display_name": "Python 3.8.1 64-bit ('3.8.1': pyenv)",
   "language": "python",
   "name": "python38164bit381pyenvc0e1d4fb139e4c8d8bbd1bcf9c4ee977"
  }
 },
 "nbformat": 4,
 "nbformat_minor": 4
}
