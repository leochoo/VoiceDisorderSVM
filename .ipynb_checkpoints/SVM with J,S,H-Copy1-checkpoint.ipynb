{
 "cells": [
  {
   "cell_type": "code",
   "execution_count": 1,
   "metadata": {},
   "outputs": [],
   "source": [
    "import sklearn\n",
    "from sklearn import datasets\n",
    "from sklearn import svm\n",
    "from sklearn import metrics"
   ]
  },
  {
   "cell_type": "code",
   "execution_count": 2,
   "metadata": {},
   "outputs": [],
   "source": [
    "from sklearn import preprocessing"
   ]
  },
  {
   "cell_type": "code",
   "execution_count": 3,
   "metadata": {
    "tags": []
   },
   "outputs": [
    {
     "name": "stdout",
     "output_type": "stream",
     "text": [
      "          Name         Type Tone Syllab    Jitter   Shimmer        HNR\n",
      "0      myd_a_h      my_data    h      a  0.222252  0.017838  28.288537\n",
      "1      myd_a_l      my_data    l      a  0.487569  0.023036  21.677873\n",
      "2      myd_a_n      my_data    n      a  0.222252  0.017838  28.288537\n",
      "3      4-1_a_l      my_data    l      a  5.058610  0.105972   5.959865\n",
      "4        4_a_n      my_data    n      a  0.467767  0.016834  26.713612\n",
      "...        ...          ...  ...    ...       ...       ...        ...\n",
      "7789  2577-i_n  psychogenic    n      i  0.237235  0.013785  32.023731\n",
      "7790  1479-i_h  psychogenic    h      i  0.260425  0.018988  26.772784\n",
      "7791   911-a_h  psychogenic    h      a  0.600121  0.021966  23.163991\n",
      "7792  1058-i_n  psychogenic    n      i  0.426018  0.017449  27.967363\n",
      "7793  1425-i_l  psychogenic    l      i  0.456206  0.014702  26.299612\n",
      "\n",
      "[7794 rows x 7 columns]\n"
     ]
    },
    {
     "name": "stderr",
     "output_type": "stream",
     "text": [
      "/Users/leochoo/.pyenv/versions/3.8.1/lib/python3.8/site-packages/pandas/compat/__init__.py:117: UserWarning: Could not import the lzma module. Your installed Python is incomplete. Attempting to use lzma compression will result in a RuntimeError.\n",
      "  warnings.warn(msg)\n"
     ]
    }
   ],
   "source": [
    "# read CSV\n",
    "\n",
    "import pandas as pd\n",
    "# df = pd.read_csv('testSVD_j_s_h.csv') \n",
    "df = pd.read_csv('SVD_j_s_h.csv') \n",
    "print(df)"
   ]
  },
  {
   "cell_type": "code",
   "execution_count": 4,
   "metadata": {},
   "outputs": [
    {
     "data": {
      "text/html": [
       "<div>\n",
       "<style scoped>\n",
       "    .dataframe tbody tr th:only-of-type {\n",
       "        vertical-align: middle;\n",
       "    }\n",
       "\n",
       "    .dataframe tbody tr th {\n",
       "        vertical-align: top;\n",
       "    }\n",
       "\n",
       "    .dataframe thead th {\n",
       "        text-align: right;\n",
       "    }\n",
       "</style>\n",
       "<table border=\"1\" class=\"dataframe\">\n",
       "  <thead>\n",
       "    <tr style=\"text-align: right;\">\n",
       "      <th></th>\n",
       "      <th>Type</th>\n",
       "      <th>Jitter</th>\n",
       "      <th>Shimmer</th>\n",
       "      <th>HNR</th>\n",
       "    </tr>\n",
       "  </thead>\n",
       "  <tbody>\n",
       "    <tr>\n",
       "      <th>15</th>\n",
       "      <td>healthy</td>\n",
       "      <td>1.164692</td>\n",
       "      <td>0.042058</td>\n",
       "      <td>24.772758</td>\n",
       "    </tr>\n",
       "    <tr>\n",
       "      <th>16</th>\n",
       "      <td>healthy</td>\n",
       "      <td>0.155393</td>\n",
       "      <td>0.011061</td>\n",
       "      <td>26.922863</td>\n",
       "    </tr>\n",
       "    <tr>\n",
       "      <th>17</th>\n",
       "      <td>healthy</td>\n",
       "      <td>0.224576</td>\n",
       "      <td>0.027684</td>\n",
       "      <td>27.151732</td>\n",
       "    </tr>\n",
       "    <tr>\n",
       "      <th>18</th>\n",
       "      <td>healthy</td>\n",
       "      <td>0.498826</td>\n",
       "      <td>0.038859</td>\n",
       "      <td>20.022510</td>\n",
       "    </tr>\n",
       "    <tr>\n",
       "      <th>19</th>\n",
       "      <td>healthy</td>\n",
       "      <td>0.532008</td>\n",
       "      <td>0.023150</td>\n",
       "      <td>22.705093</td>\n",
       "    </tr>\n",
       "    <tr>\n",
       "      <th>...</th>\n",
       "      <td>...</td>\n",
       "      <td>...</td>\n",
       "      <td>...</td>\n",
       "      <td>...</td>\n",
       "    </tr>\n",
       "    <tr>\n",
       "      <th>7789</th>\n",
       "      <td>psychogenic</td>\n",
       "      <td>0.237235</td>\n",
       "      <td>0.013785</td>\n",
       "      <td>32.023731</td>\n",
       "    </tr>\n",
       "    <tr>\n",
       "      <th>7790</th>\n",
       "      <td>psychogenic</td>\n",
       "      <td>0.260425</td>\n",
       "      <td>0.018988</td>\n",
       "      <td>26.772784</td>\n",
       "    </tr>\n",
       "    <tr>\n",
       "      <th>7791</th>\n",
       "      <td>psychogenic</td>\n",
       "      <td>0.600121</td>\n",
       "      <td>0.021966</td>\n",
       "      <td>23.163991</td>\n",
       "    </tr>\n",
       "    <tr>\n",
       "      <th>7792</th>\n",
       "      <td>psychogenic</td>\n",
       "      <td>0.426018</td>\n",
       "      <td>0.017449</td>\n",
       "      <td>27.967363</td>\n",
       "    </tr>\n",
       "    <tr>\n",
       "      <th>7793</th>\n",
       "      <td>psychogenic</td>\n",
       "      <td>0.456206</td>\n",
       "      <td>0.014702</td>\n",
       "      <td>26.299612</td>\n",
       "    </tr>\n",
       "  </tbody>\n",
       "</table>\n",
       "<p>7779 rows × 4 columns</p>\n",
       "</div>"
      ],
      "text/plain": [
       "             Type    Jitter   Shimmer        HNR\n",
       "15        healthy  1.164692  0.042058  24.772758\n",
       "16        healthy  0.155393  0.011061  26.922863\n",
       "17        healthy  0.224576  0.027684  27.151732\n",
       "18        healthy  0.498826  0.038859  20.022510\n",
       "19        healthy  0.532008  0.023150  22.705093\n",
       "...           ...       ...       ...        ...\n",
       "7789  psychogenic  0.237235  0.013785  32.023731\n",
       "7790  psychogenic  0.260425  0.018988  26.772784\n",
       "7791  psychogenic  0.600121  0.021966  23.163991\n",
       "7792  psychogenic  0.426018  0.017449  27.967363\n",
       "7793  psychogenic  0.456206  0.014702  26.299612\n",
       "\n",
       "[7779 rows x 4 columns]"
      ]
     },
     "execution_count": 4,
     "metadata": {},
     "output_type": "execute_result"
    }
   ],
   "source": [
    "df = df.drop([\"Name\", \"Tone\", \"Syllab\"], axis=1)\n",
    "df = df[df[\"Type\"] != \"my_data\"]\n",
    "df"
   ]
  },
  {
   "cell_type": "code",
   "execution_count": 5,
   "metadata": {
    "tags": []
   },
   "outputs": [
    {
     "name": "stdout",
     "output_type": "stream",
     "text": [
      "['functional', 'healthy', 'hyperfunctional', 'organic', 'psychogenic']\n",
      "[1 1 1 ... 4 4 4]\n"
     ]
    }
   ],
   "source": [
    "# Create a label encoder object \n",
    "le = preprocessing.LabelEncoder()\n",
    "\n",
    "# Fit the encoder object (le) to a pandas field with categorical data\n",
    "le.fit(df['Type'])\n",
    "\n",
    "# Display labels\n",
    "target_names = list(le.classes_)\n",
    "print(target_names)\n",
    "\n",
    "# Apply the label encoder object to a pandas column\n",
    "dys_target = le.transform(df['Type']) \n",
    "print(dys_target)"
   ]
  },
  {
   "cell_type": "code",
   "execution_count": 6,
   "metadata": {},
   "outputs": [
    {
     "data": {
      "text/plain": [
       "array([[1.16469189e+00, 4.20582023e-02, 2.47727582e+01],\n",
       "       [1.55393233e-01, 1.10610539e-02, 2.69228625e+01],\n",
       "       [2.24575675e-01, 2.76841952e-02, 2.71517319e+01],\n",
       "       ...,\n",
       "       [6.00121391e-01, 2.19664129e-02, 2.31639909e+01],\n",
       "       [4.26018075e-01, 1.74488588e-02, 2.79673627e+01],\n",
       "       [4.56206308e-01, 1.47016644e-02, 2.62996118e+01]])"
      ]
     },
     "execution_count": 6,
     "metadata": {},
     "output_type": "execute_result"
    }
   ],
   "source": [
    "dys_data = df.drop(columns=\"Type\").to_numpy()\n",
    "dys_data"
   ]
  },
  {
   "cell_type": "code",
   "execution_count": 7,
   "metadata": {},
   "outputs": [],
   "source": [
    "x = dys_data\n",
    "y = dys_target"
   ]
  },
  {
   "cell_type": "code",
   "execution_count": 8,
   "metadata": {},
   "outputs": [],
   "source": [
    "x_train, x_test, y_train, y_test = sklearn.model_selection.train_test_split(x, y, test_size=0.2)"
   ]
  },
  {
   "cell_type": "code",
   "execution_count": 9,
   "metadata": {
    "tags": []
   },
   "outputs": [
    {
     "name": "stdout",
     "output_type": "stream",
     "text": [
      "Linear Accuracy: 0.41131105398457585\n"
     ]
    }
   ],
   "source": [
    "clf = svm.SVC(kernel=\"linear\", )\n",
    "clf.fit(x_train, y_train)\n",
    "y_pred = clf.predict(x_test)\n",
    "acc = metrics.accuracy_score(y_test, y_pred)\n",
    "print(\"Linear Accuracy:\", acc)"
   ]
  },
  {
   "cell_type": "code",
   "execution_count": null,
   "metadata": {},
   "outputs": [],
   "source": []
  },
  {
   "cell_type": "code",
   "execution_count": null,
   "metadata": {},
   "outputs": [],
   "source": []
  }
 ],
 "metadata": {
  "kernelspec": {
   "display_name": "Python 3.8.1 64-bit ('3.8.1': pyenv)",
   "language": "python",
   "name": "python38164bit381pyenvc0e1d4fb139e4c8d8bbd1bcf9c4ee977"
  },
  "language_info": {
   "codemirror_mode": {
    "name": "ipython",
    "version": 3
   },
   "file_extension": ".py",
   "mimetype": "text/x-python",
   "name": "python",
   "nbconvert_exporter": "python",
   "pygments_lexer": "ipython3",
   "version": "3.8.1"
  }
 },
 "nbformat": 4,
 "nbformat_minor": 4
}
