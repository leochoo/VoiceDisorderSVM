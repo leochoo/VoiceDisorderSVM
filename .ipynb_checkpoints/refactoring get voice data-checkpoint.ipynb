{
 "cells": [
  {
   "cell_type": "code",
   "execution_count": 6,
   "metadata": {},
   "outputs": [],
   "source": [
    "# refactoring get voice data\n",
    "\n",
    "\n",
    "# this is the playground for fixing mfcc addition\n",
    "\n",
    "# initialize\n",
    "from tqdm import tqdm\n",
    "from time import sleep\n",
    "\n",
    "import glob\n",
    "import parselmouth\n",
    "import pandas as pd\n",
    "import numpy as np\n",
    "import matplotlib.pyplot as plt\n",
    "import seaborn as sns\n",
    "import os\n",
    "\n",
    "# needed for mfcc calculation\n",
    "import statistics\n",
    "import speechpy\n",
    "from scipy.io import wavfile"
   ]
  },
  {
   "cell_type": "code",
   "execution_count": null,
   "metadata": {},
   "outputs": [],
   "source": []
  },
  {
   "cell_type": "code",
   "execution_count": null,
   "metadata": {},
   "outputs": [],
   "source": []
  },
  {
   "cell_type": "code",
   "execution_count": null,
   "metadata": {},
   "outputs": [],
   "source": []
  },
  {
   "cell_type": "code",
   "execution_count": 2,
   "metadata": {},
   "outputs": [],
   "source": [
    "_path = test_path = \"/Users/leochoo/dev/VoiceDisorderSVM/data/SVD/test_audio/healthy\"\n"
   ]
  },
  {
   "cell_type": "code",
   "execution_count": null,
   "metadata": {},
   "outputs": [],
   "source": []
  },
  {
   "cell_type": "code",
   "execution_count": null,
   "metadata": {},
   "outputs": [],
   "source": []
  },
  {
   "cell_type": "code",
   "execution_count": null,
   "metadata": {},
   "outputs": [],
   "source": []
  },
  {
   "cell_type": "code",
   "execution_count": null,
   "metadata": {},
   "outputs": [],
   "source": []
  },
  {
   "cell_type": "code",
   "execution_count": null,
   "metadata": {},
   "outputs": [],
   "source": []
  },
  {
   "cell_type": "code",
   "execution_count": null,
   "metadata": {},
   "outputs": [],
   "source": []
  },
  {
   "cell_type": "code",
   "execution_count": null,
   "metadata": {},
   "outputs": [],
   "source": []
  },
  {
   "cell_type": "code",
   "execution_count": null,
   "metadata": {},
   "outputs": [],
   "source": []
  },
  {
   "cell_type": "code",
   "execution_count": 3,
   "metadata": {},
   "outputs": [],
   "source": [
    "def get_voice_data(_path):\n",
    "    # select .wav files only\n",
    "    wav_files = glob.glob(_path + \"/*.wav\")\n",
    "    _type = _path.split(\"/\")[-1] # identify type: my_data, healthy, functional etc...\n",
    "    \n",
    "    # list to hold voice data before turning it into a dataframe\n",
    "    data = []\n",
    "    \n",
    "    # for each audio file,\n",
    "    for wav_file in tqdm(wav_files): # tqdm shows the progress bar\n",
    "        sound = parselmouth.Sound(wav_file) # sound object from wav file\n",
    "        pitch = sound.to_pitch()\n",
    "        pulses = parselmouth.praat.call([sound, pitch], \"To PointProcess (cc)\")\n",
    "\n",
    "        # name analysis\n",
    "        name = os.path.basename(wav_file).split(\".\")[0]  \n",
    "\n",
    "        ## tone\n",
    "        tone = \"\"\n",
    "        if \"l\" in name:\n",
    "            tone = \"l\"\n",
    "        elif \"n\" in name:\n",
    "            tone = \"n\"\n",
    "        elif \"h\" in name:\n",
    "            tone = \"h\"\n",
    "\n",
    "        ## syllable\n",
    "        syllab = \"\"\n",
    "        if \"a\" in name:\n",
    "            syllab = \"a\"\n",
    "        elif \"i\" in name:\n",
    "            syllab = \"i\"\n",
    "        elif \"u\" in name:\n",
    "            syllab = \"u\"\n",
    "\n",
    "        # jitter\n",
    "        jitter = parselmouth.praat.call(pulses, \"Get jitter (local)\", 0.0, 0.0, 0.0001, 0.02, 1.3) * 100\n",
    "\n",
    "        # shimmer\n",
    "        shimmer = parselmouth.praat.call([sound, pulses], \"Get shimmer (local)\", 0, 0, 0.0001, 0.02, 1.3, 1.6)\n",
    "\n",
    "        # HNR\n",
    "        harmonicity = parselmouth.praat.call(sound, \"To Harmonicity (cc)\", 0.01, 75, 0.1, 1.0)\n",
    "        hnr = parselmouth.praat.call(harmonicity, \"Get mean\", 0, 0)\n",
    "\n",
    "        # append a bit before adding mfcc\n",
    "        data_row = [name, _type, tone, syllab, jitter, shimmer, hnr]\n",
    "\n",
    "        # MFCC, d1, d2\n",
    "        samplerate, wav_data = wavfile.read(wav_file)\n",
    "        mfccs = speechpy.feature.mfcc(wav_data, samplerate, num_cepstral = 12)\n",
    "        mfccs = mfccs.T # transform to handle wav_data easily \n",
    "        derivatives = speechpy.feature.extract_derivative_feature(mfccs) # this now looks like: [c#][frame#][[mfcc, d1, d2]]\n",
    "\n",
    "        mfcc_list = []\n",
    "        mfcc_d1 = []\n",
    "        mfcc_d2 = []\n",
    "\n",
    "        # for each coefficient,\n",
    "        for i in range(0, len(derivatives)):\n",
    "            mfcc_vars = derivatives[i].T # mfcc, d1, d2\n",
    "\n",
    "            # take the average across the entire time frame\n",
    "            mfcc = statistics.mean(mfcc_vars[0])\n",
    "            d1 = statistics.mean(mfcc_vars[1])\n",
    "            d2 = statistics.mean(mfcc_vars[2])\n",
    "\n",
    "            # append to the list\n",
    "            mfcc_list.append(mfcc)\n",
    "            mfcc_d1.append(d1)\n",
    "            mfcc_d2.append(d2)\n",
    "\n",
    "        data_row = data_row + mfcc_list + mfcc_d1 + mfcc_d2\n",
    "\n",
    "        # append to data\n",
    "        data.append(data_row)\n",
    "        \n",
    "        return data"
   ]
  },
  {
   "cell_type": "code",
   "execution_count": 4,
   "metadata": {},
   "outputs": [],
   "source": [
    "# set up dataframe info\n",
    "columns = [\"Name\", \"Type\", \"Tone\", \"Syllab\", \"Jitter\", \"Shimmer\", \"HNR\"]\n",
    "for i in range(0,12):\n",
    "    columns.append(\"MFCC-\"+str(i))\n",
    "for i in range(0,12):\n",
    "    columns.append(\"MFCC-\"+str(i)+\"_d1\")\n",
    "for i in range(0,12):\n",
    "    columns.append(\"MFCC-\"+str(i)+\"_d2\")\n"
   ]
  },
  {
   "cell_type": "code",
   "execution_count": 5,
   "metadata": {},
   "outputs": [
    {
     "name": "stderr",
     "output_type": "stream",
     "text": [
      "  0%|          | 0/18 [00:00<?, ?it/s]\n"
     ]
    },
    {
     "data": {
      "text/html": [
       "<div>\n",
       "<style scoped>\n",
       "    .dataframe tbody tr th:only-of-type {\n",
       "        vertical-align: middle;\n",
       "    }\n",
       "\n",
       "    .dataframe tbody tr th {\n",
       "        vertical-align: top;\n",
       "    }\n",
       "\n",
       "    .dataframe thead th {\n",
       "        text-align: right;\n",
       "    }\n",
       "</style>\n",
       "<table border=\"1\" class=\"dataframe\">\n",
       "  <thead>\n",
       "    <tr style=\"text-align: right;\">\n",
       "      <th></th>\n",
       "      <th>Name</th>\n",
       "      <th>Type</th>\n",
       "      <th>Tone</th>\n",
       "      <th>Syllab</th>\n",
       "      <th>Jitter</th>\n",
       "      <th>Shimmer</th>\n",
       "      <th>HNR</th>\n",
       "      <th>MFCC-0</th>\n",
       "      <th>MFCC-1</th>\n",
       "      <th>MFCC-2</th>\n",
       "      <th>...</th>\n",
       "      <th>MFCC-2_d2</th>\n",
       "      <th>MFCC-3_d2</th>\n",
       "      <th>MFCC-4_d2</th>\n",
       "      <th>MFCC-5_d2</th>\n",
       "      <th>MFCC-6_d2</th>\n",
       "      <th>MFCC-7_d2</th>\n",
       "      <th>MFCC-8_d2</th>\n",
       "      <th>MFCC-9_d2</th>\n",
       "      <th>MFCC-10_d2</th>\n",
       "      <th>MFCC-11_d2</th>\n",
       "    </tr>\n",
       "  </thead>\n",
       "  <tbody>\n",
       "    <tr>\n",
       "      <th>0</th>\n",
       "      <td>1-i_l</td>\n",
       "      <td>healthy</td>\n",
       "      <td>l</td>\n",
       "      <td>i</td>\n",
       "      <td>0.238779</td>\n",
       "      <td>0.019045</td>\n",
       "      <td>19.410768</td>\n",
       "      <td>19.726412</td>\n",
       "      <td>4.980335</td>\n",
       "      <td>0.364373</td>\n",
       "      <td>...</td>\n",
       "      <td>0.031771</td>\n",
       "      <td>0.950529</td>\n",
       "      <td>0.20743</td>\n",
       "      <td>-0.36549</td>\n",
       "      <td>-0.002616</td>\n",
       "      <td>0.09577</td>\n",
       "      <td>-0.169743</td>\n",
       "      <td>0.089624</td>\n",
       "      <td>-0.058871</td>\n",
       "      <td>-0.158737</td>\n",
       "    </tr>\n",
       "  </tbody>\n",
       "</table>\n",
       "<p>1 rows × 43 columns</p>\n",
       "</div>"
      ],
      "text/plain": [
       "    Name     Type Tone Syllab    Jitter   Shimmer        HNR     MFCC-0  \\\n",
       "0  1-i_l  healthy    l      i  0.238779  0.019045  19.410768  19.726412   \n",
       "\n",
       "     MFCC-1    MFCC-2  ...  MFCC-2_d2  MFCC-3_d2  MFCC-4_d2  MFCC-5_d2  \\\n",
       "0  4.980335  0.364373  ...   0.031771   0.950529    0.20743   -0.36549   \n",
       "\n",
       "   MFCC-6_d2  MFCC-7_d2  MFCC-8_d2  MFCC-9_d2  MFCC-10_d2  MFCC-11_d2  \n",
       "0  -0.002616    0.09577  -0.169743   0.089624   -0.058871   -0.158737  \n",
       "\n",
       "[1 rows x 43 columns]"
      ]
     },
     "execution_count": 5,
     "metadata": {},
     "output_type": "execute_result"
    }
   ],
   "source": [
    "# create dataframe\n",
    "data = get_voice_data(_path)\n",
    "df = pd.DataFrame(data, columns=columns)\n",
    "df"
   ]
  },
  {
   "cell_type": "code",
   "execution_count": null,
   "metadata": {},
   "outputs": [],
   "source": []
  },
  {
   "cell_type": "code",
   "execution_count": null,
   "metadata": {},
   "outputs": [],
   "source": []
  },
  {
   "cell_type": "code",
   "execution_count": null,
   "metadata": {},
   "outputs": [],
   "source": []
  },
  {
   "cell_type": "code",
   "execution_count": null,
   "metadata": {},
   "outputs": [],
   "source": []
  },
  {
   "cell_type": "code",
   "execution_count": null,
   "metadata": {},
   "outputs": [],
   "source": []
  },
  {
   "cell_type": "code",
   "execution_count": null,
   "metadata": {},
   "outputs": [],
   "source": []
  },
  {
   "cell_type": "code",
   "execution_count": null,
   "metadata": {},
   "outputs": [],
   "source": []
  },
  {
   "cell_type": "code",
   "execution_count": null,
   "metadata": {},
   "outputs": [],
   "source": []
  },
  {
   "cell_type": "code",
   "execution_count": null,
   "metadata": {},
   "outputs": [],
   "source": []
  },
  {
   "cell_type": "code",
   "execution_count": null,
   "metadata": {},
   "outputs": [],
   "source": []
  },
  {
   "cell_type": "code",
   "execution_count": null,
   "metadata": {},
   "outputs": [],
   "source": []
  }
 ],
 "metadata": {
  "kernelspec": {
   "display_name": "Python 3.8.1 64-bit ('3.8.1': pyenv)",
   "language": "python",
   "name": "python38164bit381pyenvc0e1d4fb139e4c8d8bbd1bcf9c4ee977"
  },
  "language_info": {
   "codemirror_mode": {
    "name": "ipython",
    "version": 3
   },
   "file_extension": ".py",
   "mimetype": "text/x-python",
   "name": "python",
   "nbconvert_exporter": "python",
   "pygments_lexer": "ipython3",
   "version": "3.8.1"
  }
 },
 "nbformat": 4,
 "nbformat_minor": 4
}
